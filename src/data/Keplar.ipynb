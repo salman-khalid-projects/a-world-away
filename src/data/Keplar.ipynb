{
  "nbformat": 4,
  "nbformat_minor": 0,
  "metadata": {
    "colab": {
      "provenance": []
    },
    "kernelspec": {
      "name": "python3",
      "display_name": "Python 3"
    },
    "language_info": {
      "name": "python"
    }
  },
  "cells": [
    {
      "cell_type": "code",
      "execution_count": 1,
      "metadata": {
        "id": "7u0McyCqTGxm"
      },
      "outputs": [],
      "source": [
        "# 1️⃣ استيراد المكتبات\n",
        "import pandas as pd\n",
        "import numpy as np\n",
        "from sklearn.preprocessing import LabelEncoder, StandardScaler\n",
        "from sklearn.model_selection import train_test_split\n",
        "from sklearn.impute import SimpleImputer\n",
        "from sklearn.metrics import classification_report, confusion_matrix\n",
        "from xgboost import XGBClassifier\n",
        "from tensorflow.keras.models import Sequential\n",
        "from tensorflow.keras.layers import LSTM, Conv1D, MaxPooling1D, Flatten, Dense, Dropout, Input\n",
        "from tensorflow.keras.models import Model\n",
        "from tensorflow.keras.callbacks import EarlyStopping\n",
        "from sklearn.ensemble import VotingClassifier\n",
        "import joblib"
      ]
    },
    {
      "cell_type": "code",
      "source": [
        "import pandas as pd\n",
        "\n",
        "file_path = \"cumulative_2025.09.30_12.52.38 (3).csv\"\n",
        "\n",
        "try:\n",
        "    # تجاهل الأسطر التي تبدأ بـ # (تعليقات)\n",
        "    tabular_df = pd.read_csv(file_path, comment='#', low_memory=False)\n",
        "    print(\"تم تحميل الملف بنجاح!\")\n",
        "    print(tabular_df.head())\n",
        "except Exception as e:\n",
        "    print(\"حدث خطأ أثناء قراءة الملف:\", e)\n"
      ],
      "metadata": {
        "colab": {
          "base_uri": "https://localhost:8080/"
        },
        "id": "UYANlev1V6Ce",
        "outputId": "96dee7da-062c-4231-ee47-b94cab73ff4d"
      },
      "execution_count": 14,
      "outputs": [
        {
          "output_type": "stream",
          "name": "stdout",
          "text": [
            "تم تحميل الملف بنجاح!\n",
            "      kepid kepoi_name   kepler_name koi_disposition koi_pdisposition  \\\n",
            "0  10797460  K00752.01  Kepler-227 b       CONFIRMED        CANDIDATE   \n",
            "1  10797460  K00752.02  Kepler-227 c       CONFIRMED        CANDIDATE   \n",
            "2  10811496  K00753.01           NaN       CANDIDATE        CANDIDATE   \n",
            "3  10848459  K00754.01           NaN  FALSE POSITIVE   FALSE POSITIVE   \n",
            "4  10854555  K00755.01  Kepler-664 b       CONFIRMED        CANDIDATE   \n",
            "\n",
            "   koi_score  koi_fpflag_nt  koi_fpflag_ss  koi_fpflag_co  koi_fpflag_ec  ...  \\\n",
            "0      1.000              0              0              0              0  ...   \n",
            "1      0.969              0              0              0              0  ...   \n",
            "2      0.000              0              0              0              0  ...   \n",
            "3      0.000              0              1              0              0  ...   \n",
            "4      1.000              0              0              0              0  ...   \n",
            "\n",
            "   koi_steff_err2  koi_slogg  koi_slogg_err1  koi_slogg_err2  koi_srad  \\\n",
            "0           -81.0      4.467           0.064          -0.096     0.927   \n",
            "1           -81.0      4.467           0.064          -0.096     0.927   \n",
            "2          -176.0      4.544           0.044          -0.176     0.868   \n",
            "3          -174.0      4.564           0.053          -0.168     0.791   \n",
            "4          -211.0      4.438           0.070          -0.210     1.046   \n",
            "\n",
            "   koi_srad_err1  koi_srad_err2         ra        dec  koi_kepmag  \n",
            "0          0.105         -0.061  291.93423  48.141651      15.347  \n",
            "1          0.105         -0.061  291.93423  48.141651      15.347  \n",
            "2          0.233         -0.078  297.00482  48.134129      15.436  \n",
            "3          0.201         -0.067  285.53461  48.285210      15.597  \n",
            "4          0.334         -0.133  288.75488  48.226200      15.509  \n",
            "\n",
            "[5 rows x 49 columns]\n"
          ]
        }
      ]
    },
    {
      "cell_type": "code",
      "source": [
        "print(tabular_df.columns.tolist()) #فحص الاعمدة\n"
      ],
      "metadata": {
        "colab": {
          "base_uri": "https://localhost:8080/"
        },
        "id": "BwU7J_KjWebZ",
        "outputId": "8a20e77c-e0e3-47ed-edfd-2e116b076127"
      },
      "execution_count": 15,
      "outputs": [
        {
          "output_type": "stream",
          "name": "stdout",
          "text": [
            "['kepid', 'kepoi_name', 'kepler_name', 'koi_disposition', 'koi_pdisposition', 'koi_score', 'koi_fpflag_nt', 'koi_fpflag_ss', 'koi_fpflag_co', 'koi_fpflag_ec', 'koi_period', 'koi_period_err1', 'koi_period_err2', 'koi_time0bk', 'koi_time0bk_err1', 'koi_time0bk_err2', 'koi_impact', 'koi_impact_err1', 'koi_impact_err2', 'koi_duration', 'koi_duration_err1', 'koi_duration_err2', 'koi_depth', 'koi_depth_err1', 'koi_depth_err2', 'koi_prad', 'koi_prad_err1', 'koi_prad_err2', 'koi_teq', 'koi_teq_err1', 'koi_teq_err2', 'koi_insol', 'koi_insol_err1', 'koi_insol_err2', 'koi_model_snr', 'koi_tce_plnt_num', 'koi_tce_delivname', 'koi_steff', 'koi_steff_err1', 'koi_steff_err2', 'koi_slogg', 'koi_slogg_err1', 'koi_slogg_err2', 'koi_srad', 'koi_srad_err1', 'koi_srad_err2', 'ra', 'dec', 'koi_kepmag']\n"
          ]
        }
      ]
    },
    {
      "cell_type": "code",
      "source": [
        "features = ['koi_period','koi_duration','koi_prad','koi_steff','koi_slogg','koi_srad','koi_kepmag','koi_disposition']\n",
        "tabular_df = tabular_df[features]\n"
      ],
      "metadata": {
        "id": "P_nVGBCgW-v7"
      },
      "execution_count": 18,
      "outputs": []
    },
    {
      "cell_type": "code",
      "source": [
        "# قائمة الأعمدة المتوفرة فقط\n",
        "available_features = ['koi_period','koi_duration','koi_prad','koi_steff','koi_slogg','koi_srad','koi_kepmag']\n",
        "features = available_features.copy()\n"
      ],
      "metadata": {
        "id": "r_Z3jy_PXhRh"
      },
      "execution_count": 19,
      "outputs": []
    },
    {
      "cell_type": "code",
      "source": [
        "from sklearn.impute import SimpleImputer\n",
        "\n",
        "# استخدام median لتعويض القيم المفقودة\n",
        "imputer = SimpleImputer(strategy='median')\n",
        "tabular_df[features] = imputer.fit_transform(tabular_df[features])\n"
      ],
      "metadata": {
        "id": "74Tf7F1FXlE8"
      },
      "execution_count": 21,
      "outputs": []
    },
    {
      "cell_type": "code",
      "source": [
        "X_tab = tabular_df[features].values #تجهيز X (الخصائص) و y (الفئة)\n",
        "\n",
        "y = tabular_df['koi_disposition'].values\n",
        "from sklearn.preprocessing import LabelEncoder\n",
        "le = LabelEncoder()\n",
        "y_encoded = le.fit_transform(y)\n"
      ],
      "metadata": {
        "id": "8NwfEYG7X81b"
      },
      "execution_count": 22,
      "outputs": []
    },
    {
      "cell_type": "code",
      "source": [
        "from sklearn.preprocessing import StandardScaler #StandardScaler للخصائص\n",
        "scaler_tab = StandardScaler()\n",
        "X_tab_scaled = scaler_tab.fit_transform(X_tab)\n"
      ],
      "metadata": {
        "id": "64vQd3ZHYC8A"
      },
      "execution_count": 23,
      "outputs": []
    },
    {
      "cell_type": "code",
      "source": [
        "# 4️⃣ تقسيم بيانات الفيزياء\n",
        "X_tab_train, X_tab_test, y_train, y_test = train_test_split(X_tab_scaled, y_encoded, test_size=0.2, random_state=42, stratify=y_encoded)"
      ],
      "metadata": {
        "id": "2gGxUUAVYLnk"
      },
      "execution_count": 24,
      "outputs": []
    },
    {
      "cell_type": "code",
      "source": [
        "#5بناء نموذج XGBoost\n",
        "xgb_model = XGBClassifier(objective='multi:softprob', eval_metric='mlogloss', num_class=len(np.unique(y_encoded)), use_label_encoder=False, random_state=42)\n",
        "xgb_model.fit(X_tab_train, y_train)"
      ],
      "metadata": {
        "colab": {
          "base_uri": "https://localhost:8080/",
          "height": 323
        },
        "id": "GHc1pzCcYbW6",
        "outputId": "a0b184bd-2464-4ef3-bb62-af8e648049d7"
      },
      "execution_count": 26,
      "outputs": [
        {
          "output_type": "stream",
          "name": "stderr",
          "text": [
            "/usr/local/lib/python3.12/dist-packages/xgboost/training.py:183: UserWarning: [20:06:24] WARNING: /workspace/src/learner.cc:738: \n",
            "Parameters: { \"use_label_encoder\" } are not used.\n",
            "\n",
            "  bst.update(dtrain, iteration=i, fobj=obj)\n"
          ]
        },
        {
          "output_type": "execute_result",
          "data": {
            "text/plain": [
              "XGBClassifier(base_score=None, booster=None, callbacks=None,\n",
              "              colsample_bylevel=None, colsample_bynode=None,\n",
              "              colsample_bytree=None, device=None, early_stopping_rounds=None,\n",
              "              enable_categorical=False, eval_metric='mlogloss',\n",
              "              feature_types=None, feature_weights=None, gamma=None,\n",
              "              grow_policy=None, importance_type=None,\n",
              "              interaction_constraints=None, learning_rate=None, max_bin=None,\n",
              "              max_cat_threshold=None, max_cat_to_onehot=None,\n",
              "              max_delta_step=None, max_depth=None, max_leaves=None,\n",
              "              min_child_weight=None, missing=nan, monotone_constraints=None,\n",
              "              multi_strategy=None, n_estimators=None, n_jobs=None, num_class=3, ...)"
            ],
            "text/html": [
              "<style>#sk-container-id-1 {\n",
              "  /* Definition of color scheme common for light and dark mode */\n",
              "  --sklearn-color-text: #000;\n",
              "  --sklearn-color-text-muted: #666;\n",
              "  --sklearn-color-line: gray;\n",
              "  /* Definition of color scheme for unfitted estimators */\n",
              "  --sklearn-color-unfitted-level-0: #fff5e6;\n",
              "  --sklearn-color-unfitted-level-1: #f6e4d2;\n",
              "  --sklearn-color-unfitted-level-2: #ffe0b3;\n",
              "  --sklearn-color-unfitted-level-3: chocolate;\n",
              "  /* Definition of color scheme for fitted estimators */\n",
              "  --sklearn-color-fitted-level-0: #f0f8ff;\n",
              "  --sklearn-color-fitted-level-1: #d4ebff;\n",
              "  --sklearn-color-fitted-level-2: #b3dbfd;\n",
              "  --sklearn-color-fitted-level-3: cornflowerblue;\n",
              "\n",
              "  /* Specific color for light theme */\n",
              "  --sklearn-color-text-on-default-background: var(--sg-text-color, var(--theme-code-foreground, var(--jp-content-font-color1, black)));\n",
              "  --sklearn-color-background: var(--sg-background-color, var(--theme-background, var(--jp-layout-color0, white)));\n",
              "  --sklearn-color-border-box: var(--sg-text-color, var(--theme-code-foreground, var(--jp-content-font-color1, black)));\n",
              "  --sklearn-color-icon: #696969;\n",
              "\n",
              "  @media (prefers-color-scheme: dark) {\n",
              "    /* Redefinition of color scheme for dark theme */\n",
              "    --sklearn-color-text-on-default-background: var(--sg-text-color, var(--theme-code-foreground, var(--jp-content-font-color1, white)));\n",
              "    --sklearn-color-background: var(--sg-background-color, var(--theme-background, var(--jp-layout-color0, #111)));\n",
              "    --sklearn-color-border-box: var(--sg-text-color, var(--theme-code-foreground, var(--jp-content-font-color1, white)));\n",
              "    --sklearn-color-icon: #878787;\n",
              "  }\n",
              "}\n",
              "\n",
              "#sk-container-id-1 {\n",
              "  color: var(--sklearn-color-text);\n",
              "}\n",
              "\n",
              "#sk-container-id-1 pre {\n",
              "  padding: 0;\n",
              "}\n",
              "\n",
              "#sk-container-id-1 input.sk-hidden--visually {\n",
              "  border: 0;\n",
              "  clip: rect(1px 1px 1px 1px);\n",
              "  clip: rect(1px, 1px, 1px, 1px);\n",
              "  height: 1px;\n",
              "  margin: -1px;\n",
              "  overflow: hidden;\n",
              "  padding: 0;\n",
              "  position: absolute;\n",
              "  width: 1px;\n",
              "}\n",
              "\n",
              "#sk-container-id-1 div.sk-dashed-wrapped {\n",
              "  border: 1px dashed var(--sklearn-color-line);\n",
              "  margin: 0 0.4em 0.5em 0.4em;\n",
              "  box-sizing: border-box;\n",
              "  padding-bottom: 0.4em;\n",
              "  background-color: var(--sklearn-color-background);\n",
              "}\n",
              "\n",
              "#sk-container-id-1 div.sk-container {\n",
              "  /* jupyter's `normalize.less` sets `[hidden] { display: none; }`\n",
              "     but bootstrap.min.css set `[hidden] { display: none !important; }`\n",
              "     so we also need the `!important` here to be able to override the\n",
              "     default hidden behavior on the sphinx rendered scikit-learn.org.\n",
              "     See: https://github.com/scikit-learn/scikit-learn/issues/21755 */\n",
              "  display: inline-block !important;\n",
              "  position: relative;\n",
              "}\n",
              "\n",
              "#sk-container-id-1 div.sk-text-repr-fallback {\n",
              "  display: none;\n",
              "}\n",
              "\n",
              "div.sk-parallel-item,\n",
              "div.sk-serial,\n",
              "div.sk-item {\n",
              "  /* draw centered vertical line to link estimators */\n",
              "  background-image: linear-gradient(var(--sklearn-color-text-on-default-background), var(--sklearn-color-text-on-default-background));\n",
              "  background-size: 2px 100%;\n",
              "  background-repeat: no-repeat;\n",
              "  background-position: center center;\n",
              "}\n",
              "\n",
              "/* Parallel-specific style estimator block */\n",
              "\n",
              "#sk-container-id-1 div.sk-parallel-item::after {\n",
              "  content: \"\";\n",
              "  width: 100%;\n",
              "  border-bottom: 2px solid var(--sklearn-color-text-on-default-background);\n",
              "  flex-grow: 1;\n",
              "}\n",
              "\n",
              "#sk-container-id-1 div.sk-parallel {\n",
              "  display: flex;\n",
              "  align-items: stretch;\n",
              "  justify-content: center;\n",
              "  background-color: var(--sklearn-color-background);\n",
              "  position: relative;\n",
              "}\n",
              "\n",
              "#sk-container-id-1 div.sk-parallel-item {\n",
              "  display: flex;\n",
              "  flex-direction: column;\n",
              "}\n",
              "\n",
              "#sk-container-id-1 div.sk-parallel-item:first-child::after {\n",
              "  align-self: flex-end;\n",
              "  width: 50%;\n",
              "}\n",
              "\n",
              "#sk-container-id-1 div.sk-parallel-item:last-child::after {\n",
              "  align-self: flex-start;\n",
              "  width: 50%;\n",
              "}\n",
              "\n",
              "#sk-container-id-1 div.sk-parallel-item:only-child::after {\n",
              "  width: 0;\n",
              "}\n",
              "\n",
              "/* Serial-specific style estimator block */\n",
              "\n",
              "#sk-container-id-1 div.sk-serial {\n",
              "  display: flex;\n",
              "  flex-direction: column;\n",
              "  align-items: center;\n",
              "  background-color: var(--sklearn-color-background);\n",
              "  padding-right: 1em;\n",
              "  padding-left: 1em;\n",
              "}\n",
              "\n",
              "\n",
              "/* Toggleable style: style used for estimator/Pipeline/ColumnTransformer box that is\n",
              "clickable and can be expanded/collapsed.\n",
              "- Pipeline and ColumnTransformer use this feature and define the default style\n",
              "- Estimators will overwrite some part of the style using the `sk-estimator` class\n",
              "*/\n",
              "\n",
              "/* Pipeline and ColumnTransformer style (default) */\n",
              "\n",
              "#sk-container-id-1 div.sk-toggleable {\n",
              "  /* Default theme specific background. It is overwritten whether we have a\n",
              "  specific estimator or a Pipeline/ColumnTransformer */\n",
              "  background-color: var(--sklearn-color-background);\n",
              "}\n",
              "\n",
              "/* Toggleable label */\n",
              "#sk-container-id-1 label.sk-toggleable__label {\n",
              "  cursor: pointer;\n",
              "  display: flex;\n",
              "  width: 100%;\n",
              "  margin-bottom: 0;\n",
              "  padding: 0.5em;\n",
              "  box-sizing: border-box;\n",
              "  text-align: center;\n",
              "  align-items: start;\n",
              "  justify-content: space-between;\n",
              "  gap: 0.5em;\n",
              "}\n",
              "\n",
              "#sk-container-id-1 label.sk-toggleable__label .caption {\n",
              "  font-size: 0.6rem;\n",
              "  font-weight: lighter;\n",
              "  color: var(--sklearn-color-text-muted);\n",
              "}\n",
              "\n",
              "#sk-container-id-1 label.sk-toggleable__label-arrow:before {\n",
              "  /* Arrow on the left of the label */\n",
              "  content: \"▸\";\n",
              "  float: left;\n",
              "  margin-right: 0.25em;\n",
              "  color: var(--sklearn-color-icon);\n",
              "}\n",
              "\n",
              "#sk-container-id-1 label.sk-toggleable__label-arrow:hover:before {\n",
              "  color: var(--sklearn-color-text);\n",
              "}\n",
              "\n",
              "/* Toggleable content - dropdown */\n",
              "\n",
              "#sk-container-id-1 div.sk-toggleable__content {\n",
              "  max-height: 0;\n",
              "  max-width: 0;\n",
              "  overflow: hidden;\n",
              "  text-align: left;\n",
              "  /* unfitted */\n",
              "  background-color: var(--sklearn-color-unfitted-level-0);\n",
              "}\n",
              "\n",
              "#sk-container-id-1 div.sk-toggleable__content.fitted {\n",
              "  /* fitted */\n",
              "  background-color: var(--sklearn-color-fitted-level-0);\n",
              "}\n",
              "\n",
              "#sk-container-id-1 div.sk-toggleable__content pre {\n",
              "  margin: 0.2em;\n",
              "  border-radius: 0.25em;\n",
              "  color: var(--sklearn-color-text);\n",
              "  /* unfitted */\n",
              "  background-color: var(--sklearn-color-unfitted-level-0);\n",
              "}\n",
              "\n",
              "#sk-container-id-1 div.sk-toggleable__content.fitted pre {\n",
              "  /* unfitted */\n",
              "  background-color: var(--sklearn-color-fitted-level-0);\n",
              "}\n",
              "\n",
              "#sk-container-id-1 input.sk-toggleable__control:checked~div.sk-toggleable__content {\n",
              "  /* Expand drop-down */\n",
              "  max-height: 200px;\n",
              "  max-width: 100%;\n",
              "  overflow: auto;\n",
              "}\n",
              "\n",
              "#sk-container-id-1 input.sk-toggleable__control:checked~label.sk-toggleable__label-arrow:before {\n",
              "  content: \"▾\";\n",
              "}\n",
              "\n",
              "/* Pipeline/ColumnTransformer-specific style */\n",
              "\n",
              "#sk-container-id-1 div.sk-label input.sk-toggleable__control:checked~label.sk-toggleable__label {\n",
              "  color: var(--sklearn-color-text);\n",
              "  background-color: var(--sklearn-color-unfitted-level-2);\n",
              "}\n",
              "\n",
              "#sk-container-id-1 div.sk-label.fitted input.sk-toggleable__control:checked~label.sk-toggleable__label {\n",
              "  background-color: var(--sklearn-color-fitted-level-2);\n",
              "}\n",
              "\n",
              "/* Estimator-specific style */\n",
              "\n",
              "/* Colorize estimator box */\n",
              "#sk-container-id-1 div.sk-estimator input.sk-toggleable__control:checked~label.sk-toggleable__label {\n",
              "  /* unfitted */\n",
              "  background-color: var(--sklearn-color-unfitted-level-2);\n",
              "}\n",
              "\n",
              "#sk-container-id-1 div.sk-estimator.fitted input.sk-toggleable__control:checked~label.sk-toggleable__label {\n",
              "  /* fitted */\n",
              "  background-color: var(--sklearn-color-fitted-level-2);\n",
              "}\n",
              "\n",
              "#sk-container-id-1 div.sk-label label.sk-toggleable__label,\n",
              "#sk-container-id-1 div.sk-label label {\n",
              "  /* The background is the default theme color */\n",
              "  color: var(--sklearn-color-text-on-default-background);\n",
              "}\n",
              "\n",
              "/* On hover, darken the color of the background */\n",
              "#sk-container-id-1 div.sk-label:hover label.sk-toggleable__label {\n",
              "  color: var(--sklearn-color-text);\n",
              "  background-color: var(--sklearn-color-unfitted-level-2);\n",
              "}\n",
              "\n",
              "/* Label box, darken color on hover, fitted */\n",
              "#sk-container-id-1 div.sk-label.fitted:hover label.sk-toggleable__label.fitted {\n",
              "  color: var(--sklearn-color-text);\n",
              "  background-color: var(--sklearn-color-fitted-level-2);\n",
              "}\n",
              "\n",
              "/* Estimator label */\n",
              "\n",
              "#sk-container-id-1 div.sk-label label {\n",
              "  font-family: monospace;\n",
              "  font-weight: bold;\n",
              "  display: inline-block;\n",
              "  line-height: 1.2em;\n",
              "}\n",
              "\n",
              "#sk-container-id-1 div.sk-label-container {\n",
              "  text-align: center;\n",
              "}\n",
              "\n",
              "/* Estimator-specific */\n",
              "#sk-container-id-1 div.sk-estimator {\n",
              "  font-family: monospace;\n",
              "  border: 1px dotted var(--sklearn-color-border-box);\n",
              "  border-radius: 0.25em;\n",
              "  box-sizing: border-box;\n",
              "  margin-bottom: 0.5em;\n",
              "  /* unfitted */\n",
              "  background-color: var(--sklearn-color-unfitted-level-0);\n",
              "}\n",
              "\n",
              "#sk-container-id-1 div.sk-estimator.fitted {\n",
              "  /* fitted */\n",
              "  background-color: var(--sklearn-color-fitted-level-0);\n",
              "}\n",
              "\n",
              "/* on hover */\n",
              "#sk-container-id-1 div.sk-estimator:hover {\n",
              "  /* unfitted */\n",
              "  background-color: var(--sklearn-color-unfitted-level-2);\n",
              "}\n",
              "\n",
              "#sk-container-id-1 div.sk-estimator.fitted:hover {\n",
              "  /* fitted */\n",
              "  background-color: var(--sklearn-color-fitted-level-2);\n",
              "}\n",
              "\n",
              "/* Specification for estimator info (e.g. \"i\" and \"?\") */\n",
              "\n",
              "/* Common style for \"i\" and \"?\" */\n",
              "\n",
              ".sk-estimator-doc-link,\n",
              "a:link.sk-estimator-doc-link,\n",
              "a:visited.sk-estimator-doc-link {\n",
              "  float: right;\n",
              "  font-size: smaller;\n",
              "  line-height: 1em;\n",
              "  font-family: monospace;\n",
              "  background-color: var(--sklearn-color-background);\n",
              "  border-radius: 1em;\n",
              "  height: 1em;\n",
              "  width: 1em;\n",
              "  text-decoration: none !important;\n",
              "  margin-left: 0.5em;\n",
              "  text-align: center;\n",
              "  /* unfitted */\n",
              "  border: var(--sklearn-color-unfitted-level-1) 1pt solid;\n",
              "  color: var(--sklearn-color-unfitted-level-1);\n",
              "}\n",
              "\n",
              ".sk-estimator-doc-link.fitted,\n",
              "a:link.sk-estimator-doc-link.fitted,\n",
              "a:visited.sk-estimator-doc-link.fitted {\n",
              "  /* fitted */\n",
              "  border: var(--sklearn-color-fitted-level-1) 1pt solid;\n",
              "  color: var(--sklearn-color-fitted-level-1);\n",
              "}\n",
              "\n",
              "/* On hover */\n",
              "div.sk-estimator:hover .sk-estimator-doc-link:hover,\n",
              ".sk-estimator-doc-link:hover,\n",
              "div.sk-label-container:hover .sk-estimator-doc-link:hover,\n",
              ".sk-estimator-doc-link:hover {\n",
              "  /* unfitted */\n",
              "  background-color: var(--sklearn-color-unfitted-level-3);\n",
              "  color: var(--sklearn-color-background);\n",
              "  text-decoration: none;\n",
              "}\n",
              "\n",
              "div.sk-estimator.fitted:hover .sk-estimator-doc-link.fitted:hover,\n",
              ".sk-estimator-doc-link.fitted:hover,\n",
              "div.sk-label-container:hover .sk-estimator-doc-link.fitted:hover,\n",
              ".sk-estimator-doc-link.fitted:hover {\n",
              "  /* fitted */\n",
              "  background-color: var(--sklearn-color-fitted-level-3);\n",
              "  color: var(--sklearn-color-background);\n",
              "  text-decoration: none;\n",
              "}\n",
              "\n",
              "/* Span, style for the box shown on hovering the info icon */\n",
              ".sk-estimator-doc-link span {\n",
              "  display: none;\n",
              "  z-index: 9999;\n",
              "  position: relative;\n",
              "  font-weight: normal;\n",
              "  right: .2ex;\n",
              "  padding: .5ex;\n",
              "  margin: .5ex;\n",
              "  width: min-content;\n",
              "  min-width: 20ex;\n",
              "  max-width: 50ex;\n",
              "  color: var(--sklearn-color-text);\n",
              "  box-shadow: 2pt 2pt 4pt #999;\n",
              "  /* unfitted */\n",
              "  background: var(--sklearn-color-unfitted-level-0);\n",
              "  border: .5pt solid var(--sklearn-color-unfitted-level-3);\n",
              "}\n",
              "\n",
              ".sk-estimator-doc-link.fitted span {\n",
              "  /* fitted */\n",
              "  background: var(--sklearn-color-fitted-level-0);\n",
              "  border: var(--sklearn-color-fitted-level-3);\n",
              "}\n",
              "\n",
              ".sk-estimator-doc-link:hover span {\n",
              "  display: block;\n",
              "}\n",
              "\n",
              "/* \"?\"-specific style due to the `<a>` HTML tag */\n",
              "\n",
              "#sk-container-id-1 a.estimator_doc_link {\n",
              "  float: right;\n",
              "  font-size: 1rem;\n",
              "  line-height: 1em;\n",
              "  font-family: monospace;\n",
              "  background-color: var(--sklearn-color-background);\n",
              "  border-radius: 1rem;\n",
              "  height: 1rem;\n",
              "  width: 1rem;\n",
              "  text-decoration: none;\n",
              "  /* unfitted */\n",
              "  color: var(--sklearn-color-unfitted-level-1);\n",
              "  border: var(--sklearn-color-unfitted-level-1) 1pt solid;\n",
              "}\n",
              "\n",
              "#sk-container-id-1 a.estimator_doc_link.fitted {\n",
              "  /* fitted */\n",
              "  border: var(--sklearn-color-fitted-level-1) 1pt solid;\n",
              "  color: var(--sklearn-color-fitted-level-1);\n",
              "}\n",
              "\n",
              "/* On hover */\n",
              "#sk-container-id-1 a.estimator_doc_link:hover {\n",
              "  /* unfitted */\n",
              "  background-color: var(--sklearn-color-unfitted-level-3);\n",
              "  color: var(--sklearn-color-background);\n",
              "  text-decoration: none;\n",
              "}\n",
              "\n",
              "#sk-container-id-1 a.estimator_doc_link.fitted:hover {\n",
              "  /* fitted */\n",
              "  background-color: var(--sklearn-color-fitted-level-3);\n",
              "}\n",
              "</style><div id=\"sk-container-id-1\" class=\"sk-top-container\"><div class=\"sk-text-repr-fallback\"><pre>XGBClassifier(base_score=None, booster=None, callbacks=None,\n",
              "              colsample_bylevel=None, colsample_bynode=None,\n",
              "              colsample_bytree=None, device=None, early_stopping_rounds=None,\n",
              "              enable_categorical=False, eval_metric=&#x27;mlogloss&#x27;,\n",
              "              feature_types=None, feature_weights=None, gamma=None,\n",
              "              grow_policy=None, importance_type=None,\n",
              "              interaction_constraints=None, learning_rate=None, max_bin=None,\n",
              "              max_cat_threshold=None, max_cat_to_onehot=None,\n",
              "              max_delta_step=None, max_depth=None, max_leaves=None,\n",
              "              min_child_weight=None, missing=nan, monotone_constraints=None,\n",
              "              multi_strategy=None, n_estimators=None, n_jobs=None, num_class=3, ...)</pre><b>In a Jupyter environment, please rerun this cell to show the HTML representation or trust the notebook. <br />On GitHub, the HTML representation is unable to render, please try loading this page with nbviewer.org.</b></div><div class=\"sk-container\" hidden><div class=\"sk-item\"><div class=\"sk-estimator fitted sk-toggleable\"><input class=\"sk-toggleable__control sk-hidden--visually\" id=\"sk-estimator-id-1\" type=\"checkbox\" checked><label for=\"sk-estimator-id-1\" class=\"sk-toggleable__label fitted sk-toggleable__label-arrow\"><div><div>XGBClassifier</div></div><div><a class=\"sk-estimator-doc-link fitted\" rel=\"noreferrer\" target=\"_blank\" href=\"https://xgboost.readthedocs.io/en/release_3.0.0/python/python_api.html#xgboost.XGBClassifier\">?<span>Documentation for XGBClassifier</span></a><span class=\"sk-estimator-doc-link fitted\">i<span>Fitted</span></span></div></label><div class=\"sk-toggleable__content fitted\"><pre>XGBClassifier(base_score=None, booster=None, callbacks=None,\n",
              "              colsample_bylevel=None, colsample_bynode=None,\n",
              "              colsample_bytree=None, device=None, early_stopping_rounds=None,\n",
              "              enable_categorical=False, eval_metric=&#x27;mlogloss&#x27;,\n",
              "              feature_types=None, feature_weights=None, gamma=None,\n",
              "              grow_policy=None, importance_type=None,\n",
              "              interaction_constraints=None, learning_rate=None, max_bin=None,\n",
              "              max_cat_threshold=None, max_cat_to_onehot=None,\n",
              "              max_delta_step=None, max_depth=None, max_leaves=None,\n",
              "              min_child_weight=None, missing=nan, monotone_constraints=None,\n",
              "              multi_strategy=None, n_estimators=None, n_jobs=None, num_class=3, ...)</pre></div> </div></div></div></div>"
            ]
          },
          "metadata": {},
          "execution_count": 26
        }
      ]
    },
    {
      "cell_type": "code",
      "source": [
        "import pandas as pd\n",
        "import ast\n",
        "\n",
        "# افترض أن الملف مرفوع باسم file_name\n",
        "lines = open(file_name).readlines()\n",
        "\n",
        "# البحث عن الصفوف الفعلية (تجاهل أي تعليقات في الأعلى)\n",
        "# افترض أن العمود الأول هو flux_values والثاني koi_disposition\n",
        "data = []\n",
        "for line in lines[1:]:  # تجاهل الهيدر إذا موجود\n",
        "    try:\n",
        "        flux_str, disposition = line.strip().split(',', 1)  # نفصل عند أول فاصلة\n",
        "        flux_list = ast.literal_eval(flux_str)  # تحويل النص لقائمة\n",
        "        data.append([flux_list, disposition])\n",
        "    except:\n",
        "        continue  # تجاهل أي صفوف تالفة\n",
        "\n",
        "# تحويل إلى DataFrame\n",
        "lightcurve_df = pd.DataFrame(data, columns=['flux_values','koi_disposition'])\n",
        "print(lightcurve_df.head())\n"
      ],
      "metadata": {
        "colab": {
          "base_uri": "https://localhost:8080/"
        },
        "id": "EUht7pk-Z7CQ",
        "outputId": "2dfd38c7-ef69-443a-b440-cab709f4eb3e"
      },
      "execution_count": 30,
      "outputs": [
        {
          "output_type": "stream",
          "name": "stdout",
          "text": [
            "   flux_values                                    koi_disposition\n",
            "0     10797460  K00752.01,Kepler-227 b,CONFIRMED,CANDIDATE,1.0...\n",
            "1     10797460  K00752.02,Kepler-227 c,CONFIRMED,CANDIDATE,0.9...\n",
            "2     10811496  K00753.01,,CANDIDATE,CANDIDATE,0.0000,0,0,0,0,...\n",
            "3     10848459  K00754.01,,FALSE POSITIVE,FALSE POSITIVE,0.000...\n",
            "4     10854555  K00755.01,Kepler-664 b,CONFIRMED,CANDIDATE,1.0...\n"
          ]
        }
      ]
    },
    {
      "cell_type": "code",
      "source": [
        "# التأكد أن كل عنصر في flux_values هو قائمة\n",
        "def ensure_list(x):\n",
        "    if isinstance(x, list):\n",
        "        return x\n",
        "    else:\n",
        "        return [x]  # تحويل أي رقم مفرد لقائمة تحتويه\n",
        "\n",
        "lightcurve_df['flux_values'] = lightcurve_df['flux_values'].apply(ensure_list)\n",
        "\n",
        "# إزالة أي صفوف فارغة أو تحتوي على None\n",
        "lightcurve_df = lightcurve_df[lightcurve_df['flux_values'].apply(lambda x: len(x) > 0)]\n",
        "\n",
        "# توحيد طول السلاسل\n",
        "from tensorflow.keras.preprocessing.sequence import pad_sequences\n",
        "MAX_LEN = 200\n",
        "X_lc = pad_sequences(lightcurve_df['flux_values'], maxlen=MAX_LEN, dtype='float32', padding='post', truncating='post')\n",
        "\n",
        "# فحص الناتج\n",
        "print(X_lc.shape)\n"
      ],
      "metadata": {
        "colab": {
          "base_uri": "https://localhost:8080/"
        },
        "id": "SkQhpbd0a1qP",
        "outputId": "c720ba97-32b1-4e0d-eab7-ac8be87b3973"
      },
      "execution_count": 32,
      "outputs": [
        {
          "output_type": "stream",
          "name": "stdout",
          "text": [
            "(9564, 200)\n"
          ]
        }
      ]
    },
    {
      "cell_type": "code",
      "source": [
        "# لنفترض أن لدينا عمود نصي يحتوي كل CSV في صف واحد\n",
        "# نفصل النص عند الفاصلة ونأخذ العمود الصحيح للفئة (عادة 3rd column)\n",
        "def extract_disposition(row):\n",
        "    try:\n",
        "        return row.split(',')[2].strip()\n",
        "    except:\n",
        "        return None\n",
        "\n",
        "lightcurve_df['koi_disposition_clean'] = lightcurve_df['koi_disposition'].apply(extract_disposition)\n",
        "\n",
        "# إزالة أي صفوف غير صالحة\n",
        "lightcurve_df = lightcurve_df[lightcurve_df['koi_disposition_clean'].notna()]\n"
      ],
      "metadata": {
        "id": "LtvmlklDbsnQ"
      },
      "execution_count": 35,
      "outputs": []
    },
    {
      "cell_type": "code",
      "source": [
        "from sklearn.preprocessing import LabelEncoder\n",
        "le = LabelEncoder()\n",
        "y_lc = le.fit_transform(lightcurve_df['koi_disposition_clean'].values)\n",
        "\n",
        "from tensorflow.keras.utils import to_categorical\n",
        "y_lc_cat = to_categorical(y_lc)\n"
      ],
      "metadata": {
        "id": "y4YbgZ5mcNHT"
      },
      "execution_count": 36,
      "outputs": []
    },
    {
      "cell_type": "code",
      "source": [
        "print(X_lc.shape, y_lc_cat.shape)\n"
      ],
      "metadata": {
        "colab": {
          "base_uri": "https://localhost:8080/"
        },
        "id": "GoFp6f0RcRkI",
        "outputId": "cbbf190d-2a1a-454f-d62c-f1152d266a6d"
      },
      "execution_count": 37,
      "outputs": [
        {
          "output_type": "stream",
          "name": "stdout",
          "text": [
            "(9564, 200) (9564, 3)\n"
          ]
        }
      ]
    },
    {
      "cell_type": "code",
      "source": [
        "\n",
        "# تقسيم بيانات Light Curve\n",
        "X_lc_train, X_lc_test, y_lc_train, y_lc_test = train_test_split(X_lc, y_lc_cat, test_size=0.2, random_state=42, stratify=y_lc_cat)"
      ],
      "metadata": {
        "id": "st4uCLnaceMT"
      },
      "execution_count": 38,
      "outputs": []
    },
    {
      "cell_type": "code",
      "source": [
        "\n",
        "# Reshape لتتناسب مع Conv1D\n",
        "X_lc_train = X_lc_train.reshape((X_lc_train.shape[0], X_lc_train.shape[1], 1))\n",
        "X_lc_test = X_lc_test.reshape((X_lc_test.shape[0], X_lc_test.shape[1], 1))"
      ],
      "metadata": {
        "id": "2eqKrmpQch7r"
      },
      "execution_count": 39,
      "outputs": []
    },
    {
      "cell_type": "code",
      "source": [
        "\n",
        "# 6️⃣ بناء نموذج LSTM+1D-CNN\n",
        "lc_input = Input(shape=(MAX_LEN,1))\n",
        "x = Conv1D(64,5,activation='relu')(lc_input)\n",
        "x = MaxPooling1D(2)(x)\n",
        "x = LSTM(64)(x)\n",
        "x = Dropout(0.3)(x)\n",
        "x = Dense(32,activation='relu')(x)\n",
        "lc_output = Dense(y_lc_cat.shape[1], activation='softmax')(x)\n",
        "lc_model = Model(inputs=lc_input, outputs=lc_output)\n",
        "lc_model.compile(loss='categorical_crossentropy', optimizer='adam', metrics=['accuracy'])\n",
        "\n",
        "early_stop = EarlyStopping(monitor='val_loss', patience=5, restore_best_weights=True)\n",
        "lc_model.fit(X_lc_train, y_lc_train, validation_split=0.2, epochs=50, batch_size=32, callbacks=[early_stop], verbose=1)"
      ],
      "metadata": {
        "colab": {
          "base_uri": "https://localhost:8080/"
        },
        "id": "iRFlKHyjck-F",
        "outputId": "aaf5ba65-7e56-4389-9a2e-2b8ff1521686"
      },
      "execution_count": 40,
      "outputs": [
        {
          "output_type": "stream",
          "name": "stdout",
          "text": [
            "Epoch 1/50\n",
            "\u001b[1m192/192\u001b[0m \u001b[32m━━━━━━━━━━━━━━━━━━━━\u001b[0m\u001b[37m\u001b[0m \u001b[1m9s\u001b[0m 36ms/step - accuracy: 0.4938 - loss: 1.0448 - val_accuracy: 0.4977 - val_loss: 1.0388\n",
            "Epoch 2/50\n",
            "\u001b[1m192/192\u001b[0m \u001b[32m━━━━━━━━━━━━━━━━━━━━\u001b[0m\u001b[37m\u001b[0m \u001b[1m10s\u001b[0m 35ms/step - accuracy: 0.4976 - loss: 1.0388 - val_accuracy: 0.4977 - val_loss: 1.0368\n",
            "Epoch 3/50\n",
            "\u001b[1m192/192\u001b[0m \u001b[32m━━━━━━━━━━━━━━━━━━━━\u001b[0m\u001b[37m\u001b[0m \u001b[1m7s\u001b[0m 38ms/step - accuracy: 0.5078 - loss: 1.0298 - val_accuracy: 0.4977 - val_loss: 1.0334\n",
            "Epoch 4/50\n",
            "\u001b[1m192/192\u001b[0m \u001b[32m━━━━━━━━━━━━━━━━━━━━\u001b[0m\u001b[37m\u001b[0m \u001b[1m10s\u001b[0m 39ms/step - accuracy: 0.5029 - loss: 1.0352 - val_accuracy: 0.4977 - val_loss: 1.0328\n",
            "Epoch 5/50\n",
            "\u001b[1m192/192\u001b[0m \u001b[32m━━━━━━━━━━━━━━━━━━━━\u001b[0m\u001b[37m\u001b[0m \u001b[1m10s\u001b[0m 38ms/step - accuracy: 0.5062 - loss: 1.0323 - val_accuracy: 0.4977 - val_loss: 1.0309\n",
            "Epoch 6/50\n",
            "\u001b[1m192/192\u001b[0m \u001b[32m━━━━━━━━━━━━━━━━━━━━\u001b[0m\u001b[37m\u001b[0m \u001b[1m7s\u001b[0m 34ms/step - accuracy: 0.5059 - loss: 1.0307 - val_accuracy: 0.4977 - val_loss: 1.0317\n",
            "Epoch 7/50\n",
            "\u001b[1m192/192\u001b[0m \u001b[32m━━━━━━━━━━━━━━━━━━━━\u001b[0m\u001b[37m\u001b[0m \u001b[1m7s\u001b[0m 37ms/step - accuracy: 0.5197 - loss: 1.0203 - val_accuracy: 0.4977 - val_loss: 1.0313\n",
            "Epoch 8/50\n",
            "\u001b[1m192/192\u001b[0m \u001b[32m━━━━━━━━━━━━━━━━━━━━\u001b[0m\u001b[37m\u001b[0m \u001b[1m7s\u001b[0m 39ms/step - accuracy: 0.5117 - loss: 1.0275 - val_accuracy: 0.4977 - val_loss: 1.0310\n",
            "Epoch 9/50\n",
            "\u001b[1m192/192\u001b[0m \u001b[32m━━━━━━━━━━━━━━━━━━━━\u001b[0m\u001b[37m\u001b[0m \u001b[1m7s\u001b[0m 35ms/step - accuracy: 0.5164 - loss: 1.0231 - val_accuracy: 0.4977 - val_loss: 1.0316\n",
            "Epoch 10/50\n",
            "\u001b[1m192/192\u001b[0m \u001b[32m━━━━━━━━━━━━━━━━━━━━\u001b[0m\u001b[37m\u001b[0m \u001b[1m10s\u001b[0m 35ms/step - accuracy: 0.4984 - loss: 1.0363 - val_accuracy: 0.4977 - val_loss: 1.0304\n",
            "Epoch 11/50\n",
            "\u001b[1m192/192\u001b[0m \u001b[32m━━━━━━━━━━━━━━━━━━━━\u001b[0m\u001b[37m\u001b[0m \u001b[1m7s\u001b[0m 37ms/step - accuracy: 0.5163 - loss: 1.0234 - val_accuracy: 0.4977 - val_loss: 1.0319\n",
            "Epoch 12/50\n",
            "\u001b[1m192/192\u001b[0m \u001b[32m━━━━━━━━━━━━━━━━━━━━\u001b[0m\u001b[37m\u001b[0m \u001b[1m7s\u001b[0m 34ms/step - accuracy: 0.5035 - loss: 1.0332 - val_accuracy: 0.4977 - val_loss: 1.0307\n",
            "Epoch 13/50\n",
            "\u001b[1m192/192\u001b[0m \u001b[32m━━━━━━━━━━━━━━━━━━━━\u001b[0m\u001b[37m\u001b[0m \u001b[1m7s\u001b[0m 37ms/step - accuracy: 0.5037 - loss: 1.0313 - val_accuracy: 0.4977 - val_loss: 1.0312\n",
            "Epoch 14/50\n",
            "\u001b[1m192/192\u001b[0m \u001b[32m━━━━━━━━━━━━━━━━━━━━\u001b[0m\u001b[37m\u001b[0m \u001b[1m8s\u001b[0m 39ms/step - accuracy: 0.5069 - loss: 1.0307 - val_accuracy: 0.4977 - val_loss: 1.0305\n",
            "Epoch 15/50\n",
            "\u001b[1m192/192\u001b[0m \u001b[32m━━━━━━━━━━━━━━━━━━━━\u001b[0m\u001b[37m\u001b[0m \u001b[1m7s\u001b[0m 34ms/step - accuracy: 0.5041 - loss: 1.0310 - val_accuracy: 0.4977 - val_loss: 1.0310\n"
          ]
        },
        {
          "output_type": "execute_result",
          "data": {
            "text/plain": [
              "<keras.src.callbacks.history.History at 0x7ff694819a60>"
            ]
          },
          "metadata": {},
          "execution_count": 40
        }
      ]
    },
    {
      "cell_type": "code",
      "source": [
        "# 7️⃣ دمج النتائج (Hybrid Ensemble)\n",
        "# نحصل على الاحتمالات لكل نموذج ثم ندمجها (Soft Voting)\n",
        "xgb_probs = xgb_model.predict_proba(X_tab_test)\n",
        "lc_probs = lc_model.predict(X_lc_test)\n",
        "\n",
        "# إذا كانت أطوال الاختبار متطابقة، ندمج الاحتمالات\n",
        "hybrid_probs = (xgb_probs + lc_probs) / 2\n",
        "hybrid_pred = np.argmax(hybrid_probs, axis=1)"
      ],
      "metadata": {
        "colab": {
          "base_uri": "https://localhost:8080/"
        },
        "id": "NZQkQQsFd3b8",
        "outputId": "a7c538e6-0a9a-48a5-aad2-641695a6dfa7"
      },
      "execution_count": 42,
      "outputs": [
        {
          "output_type": "stream",
          "name": "stdout",
          "text": [
            "\u001b[1m60/60\u001b[0m \u001b[32m━━━━━━━━━━━━━━━━━━━━\u001b[0m\u001b[37m\u001b[0m \u001b[1m1s\u001b[0m 10ms/step\n"
          ]
        }
      ]
    },
    {
      "cell_type": "code",
      "source": [
        "# 8️⃣ Evaluate Hybrid Model\n",
        "print(\"Confusion Matrix:\")\n",
        "print(confusion_matrix(y_test, hybrid_pred))\n",
        "\n",
        "print(\"\\nClassification Report:\")\n",
        "print(classification_report(y_test, hybrid_pred, target_names=le.classes_))"
      ],
      "metadata": {
        "colab": {
          "base_uri": "https://localhost:8080/"
        },
        "id": "Xk8id3bdeSk9",
        "outputId": "00a47765-6a53-480d-8508-0054dbca30bc"
      },
      "execution_count": 44,
      "outputs": [
        {
          "output_type": "stream",
          "name": "stdout",
          "text": [
            "Confusion Matrix:\n",
            "[[129  77 190]\n",
            " [ 37 443  69]\n",
            " [ 38  53 877]]\n",
            "\n",
            "Classification Report:\n",
            "                precision    recall  f1-score   support\n",
            "\n",
            "     CANDIDATE       0.63      0.33      0.43       396\n",
            "     CONFIRMED       0.77      0.81      0.79       549\n",
            "FALSE POSITIVE       0.77      0.91      0.83       968\n",
            "\n",
            "      accuracy                           0.76      1913\n",
            "     macro avg       0.73      0.68      0.68      1913\n",
            "  weighted avg       0.74      0.76      0.74      1913\n",
            "\n"
          ]
        }
      ]
    },
    {
      "cell_type": "code",
      "source": [
        "from sklearn.metrics import accuracy_score, confusion_matrix, classification_report\n",
        "\n",
        "# دقة النموذج الكلي\n",
        "acc = accuracy_score(y_test, hybrid_pred)\n",
        "print(\"Accuracy:\", acc)\n",
        "\n",
        "# مصفوفة الالتباس\n",
        "print(\"Confusion Matrix:\")\n",
        "print(confusion_matrix(y_test, hybrid_pred))\n",
        "\n",
        "# تقرير التصنيف لكل فئة\n",
        "print(\"\\nClassification Report:\")\n",
        "print(classification_report(y_test, hybrid_pred, target_names=le.classes_))\n"
      ],
      "metadata": {
        "colab": {
          "base_uri": "https://localhost:8080/"
        },
        "id": "lMOD9B6boRl9",
        "outputId": "cc512152-9291-4d7d-d2f3-3ad9c007baf7"
      },
      "execution_count": 61,
      "outputs": [
        {
          "output_type": "stream",
          "name": "stdout",
          "text": [
            "Accuracy: 0.7574490329325666\n",
            "Confusion Matrix:\n",
            "[[129  77 190]\n",
            " [ 37 443  69]\n",
            " [ 38  53 877]]\n",
            "\n",
            "Classification Report:\n",
            "                precision    recall  f1-score   support\n",
            "\n",
            "     CANDIDATE       0.63      0.33      0.43       396\n",
            "     CONFIRMED       0.77      0.81      0.79       549\n",
            "FALSE POSITIVE       0.77      0.91      0.83       968\n",
            "\n",
            "      accuracy                           0.76      1913\n",
            "     macro avg       0.73      0.68      0.68      1913\n",
            "  weighted avg       0.74      0.76      0.74      1913\n",
            "\n"
          ]
        }
      ]
    },
    {
      "cell_type": "code",
      "source": [
        "#هذا الكود لتحسين ال دقه لان الدقه 0.75\n",
        "# 🔹 تثبيت Keras Tuner إذا لم يكن مثبت\n",
        "!pip install keras-tuner -q\n",
        "\n",
        "# 🔹 استيراد المكتبات\n",
        "import pandas as pd\n",
        "import numpy as np\n",
        "from sklearn.model_selection import train_test_split\n",
        "from sklearn.preprocessing import StandardScaler, LabelEncoder\n",
        "from sklearn.impute import SimpleImputer\n",
        "from tensorflow.keras.utils import to_categorical\n",
        "from tensorflow.keras.models import Sequential\n",
        "from tensorflow.keras.layers import Dense, Dropout\n",
        "from kerastuner.tuners import RandomSearch\n",
        "from tensorflow.keras.callbacks import EarlyStopping, ReduceLROnPlateau\n",
        "import joblib\n",
        "\n",
        "# ==============================\n",
        "# 1️⃣ تحميل البيانات الفيزيائية (tabular)\n",
        "# ==============================\n",
        "tabular_df = pd.read_csv(\"cumulative_2025.09.30_12.52.38 (3).csv\", comment='#', low_memory=False)\n",
        "\n",
        "# ==============================\n",
        "# 2️⃣ Feature Engineering\n",
        "# ==============================\n",
        "features = ['koi_period','koi_duration','koi_prad','koi_steff','koi_slogg','koi_srad','koi_kepmag']\n",
        "tabular_df['radius_ratio'] = tabular_df['koi_prad'] / tabular_df['koi_srad']\n",
        "tabular_df['orbital_density'] = tabular_df['koi_prad'] / tabular_df['koi_period']\n",
        "features.extend(['radius_ratio','orbital_density'])\n",
        "\n",
        "# ==============================\n",
        "# 3️⃣ معالجة البيانات المفقودة + تجهيز X و y\n",
        "# ==============================\n",
        "imputer = SimpleImputer(strategy='median')\n",
        "X_tab = imputer.fit_transform(tabular_df[features])\n",
        "\n",
        "y = tabular_df['koi_disposition'].values\n",
        "le = LabelEncoder()\n",
        "y_encoded = le.fit_transform(y)\n",
        "y_cat = to_categorical(y_encoded)\n",
        "\n",
        "# ==============================\n",
        "# 4️⃣ تطبيع البيانات\n",
        "# ==============================\n",
        "scaler = StandardScaler()\n",
        "X_tab_scaled = scaler.fit_transform(X_tab)\n",
        "\n",
        "# ==============================\n",
        "# 5️⃣ تقسيم البيانات\n",
        "# ==============================\n",
        "X_train, X_test, y_train, y_test = train_test_split(X_tab_scaled, y_cat, test_size=0.2, random_state=42, stratify=y_cat)\n",
        "\n",
        "# ==============================\n",
        "# 6️⃣ Keras Tuner: تعريف دالة بناء النموذج\n",
        "# ==============================\n",
        "def build_model(hp):\n",
        "    model = Sequential()\n",
        "    model.add(Dense(units=hp.Int('units1', min_value=32, max_value=256, step=32),\n",
        "                    activation='relu', input_shape=(X_train.shape[1],)))\n",
        "    model.add(Dropout(rate=hp.Float('dropout1', 0.0, 0.5, step=0.1)))\n",
        "    model.add(Dense(units=hp.Int('units2', min_value=16, max_value=128, step=16),\n",
        "                    activation='relu'))\n",
        "    model.add(Dropout(rate=hp.Float('dropout2', 0.0, 0.5, step=0.1)))\n",
        "    model.add(Dense(3, activation='softmax'))\n",
        "\n",
        "    model.compile(optimizer='adam', loss='categorical_crossentropy', metrics=['accuracy'])\n",
        "    return model\n",
        "\n",
        "# ==============================\n",
        "# 7️⃣ تهيئة Tuner\n",
        "# ==============================\n",
        "tuner = RandomSearch(\n",
        "    build_model,\n",
        "    objective='val_accuracy',\n",
        "    max_trials=5,\n",
        "    executions_per_trial=1,\n",
        "    directory='hybrid_tuning',\n",
        "    project_name='kepler'\n",
        ")\n",
        "\n",
        "# ==============================\n",
        "# 8️⃣ Callbacks لتحسين التدريب\n",
        "# ==============================\n",
        "early_stop = EarlyStopping(monitor='val_accuracy', patience=5, restore_best_weights=True)\n",
        "reduce_lr = ReduceLROnPlateau(monitor='val_loss', factor=0.5, patience=3)\n",
        "\n",
        "# ==============================\n",
        "# 9️⃣ البحث عن أفضل Hyperparameters\n",
        "# ==============================\n",
        "tuner.search(X_train, y_train, epochs=50, batch_size=32, validation_split=0.2, callbacks=[early_stop, reduce_lr])\n",
        "\n",
        "# ==============================\n",
        "# 10️⃣ استخراج أفضل نموذج\n",
        "# ==============================\n",
        "best_model = tuner.get_best_models(num_models=1)[0]\n",
        "\n",
        "# ==============================\n",
        "# 11️⃣ تقييم النموذج\n",
        "# ==============================\n",
        "y_pred_prob = best_model.predict(X_test)\n",
        "y_pred_idx = np.argmax(y_pred_prob, axis=1)\n",
        "y_test_idx = np.argmax(y_test, axis=1)\n",
        "\n",
        "from sklearn.metrics import accuracy_score, confusion_matrix, classification_report\n",
        "print(\"Accuracy:\", accuracy_score(y_test_idx, y_pred_idx))\n",
        "print(\"\\nConfusion Matrix:\\n\", confusion_matrix(y_test_idx, y_pred_idx))\n",
        "print(\"\\nClassification Report:\\n\", classification_report(y_test_idx, y_pred_idx, target_names=le.classes_))\n",
        "\n",
        "# ==============================\n",
        "# 12️⃣ حفظ النموذج والـ Scaler\n",
        "# ==============================\n",
        "best_model.save('hybrid_model_improved.h5')\n",
        "joblib.dump(scaler, 'scaler.pkl')\n",
        "joblib.dump(le, 'label_encoder.pkl')\n",
        "print(\"✅ Hybrid model improved, scaler, and label encoder saved!\")\n"
      ],
      "metadata": {
        "colab": {
          "base_uri": "https://localhost:8080/"
        },
        "id": "rlfSGuuHsZlI",
        "outputId": "5ec6214a-b8a1-439c-ba04-223b9e45f55b"
      },
      "execution_count": 68,
      "outputs": [
        {
          "output_type": "stream",
          "name": "stdout",
          "text": [
            "Trial 5 Complete [00h 00m 16s]\n",
            "val_accuracy: 0.6792945861816406\n",
            "\n",
            "Best val_accuracy So Far: 0.6819072365760803\n",
            "Total elapsed time: 00h 01m 11s\n",
            "\u001b[1m60/60\u001b[0m \u001b[32m━━━━━━━━━━━━━━━━━━━━\u001b[0m\u001b[37m\u001b[0m \u001b[1m0s\u001b[0m 1ms/step\n"
          ]
        },
        {
          "output_type": "stream",
          "name": "stderr",
          "text": [
            "/usr/local/lib/python3.12/dist-packages/keras/src/saving/saving_lib.py:802: UserWarning: Skipping variable loading for optimizer 'adam', because it has 2 variables whereas the saved optimizer has 14 variables. \n",
            "  saveable.load_own_variables(weights_store.get(inner_path))\n",
            "WARNING:absl:You are saving your model as an HDF5 file via `model.save()` or `keras.saving.save_model(model)`. This file format is considered legacy. We recommend using instead the native Keras format, e.g. `model.save('my_model.keras')` or `keras.saving.save_model(model, 'my_model.keras')`. \n"
          ]
        },
        {
          "output_type": "stream",
          "name": "stdout",
          "text": [
            "Accuracy: 0.6795608991113434\n",
            "\n",
            "Confusion Matrix:\n",
            " [[ 24 144 228]\n",
            " [ 13 440  96]\n",
            " [ 16 116 836]]\n",
            "\n",
            "Classification Report:\n",
            "                 precision    recall  f1-score   support\n",
            "\n",
            "     CANDIDATE       0.45      0.06      0.11       396\n",
            "     CONFIRMED       0.63      0.80      0.70       549\n",
            "FALSE POSITIVE       0.72      0.86      0.79       968\n",
            "\n",
            "      accuracy                           0.68      1913\n",
            "     macro avg       0.60      0.58      0.53      1913\n",
            "  weighted avg       0.64      0.68      0.62      1913\n",
            "\n",
            "✅ Hybrid model improved, scaler, and label encoder saved!\n"
          ]
        }
      ]
    },
    {
      "cell_type": "code",
      "source": [
        "from tensorflow.keras.models import Model #بناء Hybrid Model وتدريبه على البيانات التي حضرناها\n",
        "from tensorflow.keras.layers import Input, Dense, LSTM, Flatten, concatenate\n",
        "\n",
        "# Inputs\n",
        "input_tab = Input(shape=(X_tab_scaled.shape[1],), name='tabular_input')\n",
        "x_tab = Dense(64, activation='relu')(input_tab)\n",
        "x_tab = Dense(32, activation='relu')(x_tab)\n",
        "\n",
        "input_lc = Input(shape=(X_lc.shape[1], 1), name='lc_input')\n",
        "x_lc = LSTM(32)(input_lc)\n",
        "x_lc = Dense(32, activation='relu')(x_lc)\n",
        "\n",
        "# دمج الجزئين\n",
        "x = concatenate([x_tab, x_lc])\n",
        "output = Dense(3, activation='softmax')(x)\n",
        "\n",
        "hybrid_model = Model(inputs=[input_tab, input_lc], outputs=output)\n",
        "hybrid_model.compile(optimizer='adam', loss='categorical_crossentropy', metrics=['accuracy'])\n",
        "\n",
        "# تدريب النموذج\n",
        "hybrid_model.fit([X_tab_scaled, X_lc[..., np.newaxis]], y_lc_cat, epochs=10, batch_size=32)\n"
      ],
      "metadata": {
        "colab": {
          "base_uri": "https://localhost:8080/"
        },
        "id": "Wlfk70p6f7EY",
        "outputId": "29f2736c-d4ec-48a7-ac92-0ec6f5ffd8d4"
      },
      "execution_count": 69,
      "outputs": [
        {
          "output_type": "stream",
          "name": "stdout",
          "text": [
            "Epoch 1/10\n",
            "\u001b[1m299/299\u001b[0m \u001b[32m━━━━━━━━━━━━━━━━━━━━\u001b[0m\u001b[37m\u001b[0m \u001b[1m12s\u001b[0m 34ms/step - accuracy: 0.4934 - loss: 1.0014\n",
            "Epoch 2/10\n",
            "\u001b[1m299/299\u001b[0m \u001b[32m━━━━━━━━━━━━━━━━━━━━\u001b[0m\u001b[37m\u001b[0m \u001b[1m10s\u001b[0m 34ms/step - accuracy: 0.5986 - loss: 0.9049\n",
            "Epoch 3/10\n",
            "\u001b[1m299/299\u001b[0m \u001b[32m━━━━━━━━━━━━━━━━━━━━\u001b[0m\u001b[37m\u001b[0m \u001b[1m10s\u001b[0m 35ms/step - accuracy: 0.6207 - loss: 0.8538\n",
            "Epoch 4/10\n",
            "\u001b[1m299/299\u001b[0m \u001b[32m━━━━━━━━━━━━━━━━━━━━\u001b[0m\u001b[37m\u001b[0m \u001b[1m10s\u001b[0m 34ms/step - accuracy: 0.6219 - loss: 0.8245\n",
            "Epoch 5/10\n",
            "\u001b[1m299/299\u001b[0m \u001b[32m━━━━━━━━━━━━━━━━━━━━\u001b[0m\u001b[37m\u001b[0m \u001b[1m10s\u001b[0m 34ms/step - accuracy: 0.6371 - loss: 0.8146\n",
            "Epoch 6/10\n",
            "\u001b[1m299/299\u001b[0m \u001b[32m━━━━━━━━━━━━━━━━━━━━\u001b[0m\u001b[37m\u001b[0m \u001b[1m10s\u001b[0m 33ms/step - accuracy: 0.6366 - loss: 0.7997\n",
            "Epoch 7/10\n",
            "\u001b[1m299/299\u001b[0m \u001b[32m━━━━━━━━━━━━━━━━━━━━\u001b[0m\u001b[37m\u001b[0m \u001b[1m10s\u001b[0m 34ms/step - accuracy: 0.6393 - loss: 0.7870\n",
            "Epoch 8/10\n",
            "\u001b[1m299/299\u001b[0m \u001b[32m━━━━━━━━━━━━━━━━━━━━\u001b[0m\u001b[37m\u001b[0m \u001b[1m10s\u001b[0m 34ms/step - accuracy: 0.6445 - loss: 0.7736\n",
            "Epoch 9/10\n",
            "\u001b[1m299/299\u001b[0m \u001b[32m━━━━━━━━━━━━━━━━━━━━\u001b[0m\u001b[37m\u001b[0m \u001b[1m21s\u001b[0m 36ms/step - accuracy: 0.6466 - loss: 0.7720\n",
            "Epoch 10/10\n",
            "\u001b[1m299/299\u001b[0m \u001b[32m━━━━━━━━━━━━━━━━━━━━\u001b[0m\u001b[37m\u001b[0m \u001b[1m20s\u001b[0m 35ms/step - accuracy: 0.6350 - loss: 0.7713\n"
          ]
        },
        {
          "output_type": "execute_result",
          "data": {
            "text/plain": [
              "<keras.src.callbacks.history.History at 0x7ff6822e5790>"
            ]
          },
          "metadata": {},
          "execution_count": 69
        }
      ]
    },
    {
      "cell_type": "code",
      "source": [
        "# حفظ النموذج بعد التدريب\n",
        "hybrid_model.save('hybrid_model.h5')\n",
        "\n",
        "# لاحقًا يمكن تحميله بهذه الطريقة\n",
        "from tensorflow.keras.models import load_model\n",
        "hybrid_model = load_model('hybrid_model.h5')\n"
      ],
      "metadata": {
        "colab": {
          "base_uri": "https://localhost:8080/"
        },
        "id": "EIyTt1pNg62U",
        "outputId": "ea0becbb-5f59-43a7-adc8-4069983073a3"
      },
      "execution_count": 70,
      "outputs": [
        {
          "output_type": "stream",
          "name": "stderr",
          "text": [
            "WARNING:absl:You are saving your model as an HDF5 file via `model.save()` or `keras.saving.save_model(model)`. This file format is considered legacy. We recommend using instead the native Keras format, e.g. `model.save('my_model.keras')` or `keras.saving.save_model(model, 'my_model.keras')`. \n",
            "WARNING:absl:Compiled the loaded model, but the compiled metrics have yet to be built. `model.compile_metrics` will be empty until you train or evaluate the model.\n"
          ]
        }
      ]
    },
    {
      "cell_type": "code",
      "source": [
        "from tensorflow.keras.models import load_model # تحميل ال hybrid\n",
        "hybrid_model = load_model('hybrid_model.h5')\n"
      ],
      "metadata": {
        "colab": {
          "base_uri": "https://localhost:8080/"
        },
        "id": "x2QUYB2yg8vP",
        "outputId": "bf2326db-bc86-401d-cf3f-048a15ebe1a3"
      },
      "execution_count": 71,
      "outputs": [
        {
          "output_type": "stream",
          "name": "stderr",
          "text": [
            "WARNING:absl:Compiled the loaded model, but the compiled metrics have yet to be built. `model.compile_metrics` will be empty until you train or evaluate the model.\n"
          ]
        }
      ]
    },
    {
      "cell_type": "code",
      "source": [
        "# الأعمدة التي تم التدريب عليها\n",
        "features_model = ['koi_period','koi_duration','koi_prad','koi_steff','koi_slogg','koi_srad','koi_kepmag']\n"
      ],
      "metadata": {
        "id": "jXTeWEHOhizA"
      },
      "execution_count": 72,
      "outputs": []
    },
    {
      "cell_type": "code",
      "source": [
        "import pandas as pd\n",
        "from sklearn.preprocessing import StandardScaler\n",
        "\n",
        "# Example values for a new planet, including the engineered features\n",
        "new_tabular_data = {\n",
        "    'koi_period': [10.5],\n",
        "    'koi_duration': [0.12],\n",
        "    'koi_prad': [1.2],\n",
        "    'koi_steff': [5800],\n",
        "    'koi_slogg': [4.4],\n",
        "    'koi_srad': [1.0],\n",
        "    'koi_kepmag': [12.3],\n",
        "    'radius_ratio': [1.2],        # Include this feature\n",
        "    'orbital_density': [0.1143]   # Include this feature\n",
        "}\n",
        "\n",
        "X_tab_new = pd.DataFrame(new_tabular_data)\n",
        "\n",
        "# Use all 9 features that the scaler was fitted on and transform as a NumPy array\n",
        "features_for_scaling = ['koi_period','koi_duration','koi_prad','koi_steff','koi_slogg','koi_srad','koi_kepmag', 'radius_ratio', 'orbital_density']\n",
        "X_tab_new_scaled = scaler_tab.transform(X_tab_new[features_for_scaling].values)"
      ],
      "metadata": {
        "colab": {
          "base_uri": "https://localhost:8080/"
        },
        "id": "FZJHRlcrhkYN",
        "outputId": "c17cc76d-abdc-4f4c-971b-53b9d296fae1"
      },
      "execution_count": 75,
      "outputs": [
        {
          "output_type": "stream",
          "name": "stderr",
          "text": [
            "/usr/local/lib/python3.12/dist-packages/sklearn/utils/validation.py:2732: UserWarning: X has feature names, but StandardScaler was fitted without feature names\n",
            "  warnings.warn(\n"
          ]
        }
      ]
    },
    {
      "cell_type": "code",
      "source": [
        "import numpy as np\n",
        "from tensorflow.keras.preprocessing.sequence import pad_sequences\n",
        "\n",
        "# مثال منحنى ضوء جديد (flux)\n",
        "new_flux = [[1.001, 0.999, 1.002, 1.000, 0.998]]  # يمكن أن يكون أي طول\n",
        "\n",
        "# توحيد طول السلاسل\n",
        "MAX_LEN = 200\n",
        "X_lc_new = pad_sequences(new_flux, maxlen=MAX_LEN, dtype='float32', padding='post', truncating='post')\n",
        "\n",
        "# تطبيع المنحنيات\n",
        "X_lc_new = (X_lc_new - X_lc_new.mean(axis=1, keepdims=True)) / (X_lc_new.std(axis=1, keepdims=True) + 1e-6)\n"
      ],
      "metadata": {
        "id": "9GFSK3V1hx3F"
      },
      "execution_count": 76,
      "outputs": []
    },
    {
      "cell_type": "code",
      "source": [
        "# التنبؤ\n",
        "hybrid_pred_new = hybrid_model.predict([X_tab_new_scaled, X_lc_new])\n",
        "\n",
        "# تحويل one-hot إلى فئة نصية\n",
        "pred_class_idx = np.argmax(hybrid_pred_new, axis=1)\n",
        "pred_class_label = le.inverse_transform(pred_class_idx)\n",
        "\n",
        "print(\"Predicted Class:\", pred_class_label[0])\n"
      ],
      "metadata": {
        "colab": {
          "base_uri": "https://localhost:8080/"
        },
        "id": "zzh0XLJkh1Fw",
        "outputId": "4a0ca493-f44f-4915-e625-5dce0892b524"
      },
      "execution_count": 77,
      "outputs": [
        {
          "output_type": "stream",
          "name": "stdout",
          "text": [
            "\u001b[1m1/1\u001b[0m \u001b[32m━━━━━━━━━━━━━━━━━━━━\u001b[0m\u001b[37m\u001b[0m \u001b[1m0s\u001b[0m 137ms/step\n",
            "Predicted Class: FALSE POSITIVE\n"
          ]
        }
      ]
    },
    {
      "cell_type": "code",
      "source": [
        "import pandas as pd\n",
        "import numpy as np\n",
        "\n",
        "# ==============================\n",
        "# 1️⃣ قائمة الميزات التي استخدمها النموذج\n",
        "# ==============================\n",
        "features_for_scaling = ['koi_period','koi_duration','koi_prad','koi_steff','koi_slogg',\n",
        "                        'koi_srad','koi_kepmag', 'radius_ratio', 'orbital_density']\n",
        "\n",
        "# ==============================\n",
        "# 2️⃣ حساب متوسط القيم لكل تصنيف\n",
        "# ==============================\n",
        "confirmed_avg = tabular_df[tabular_df['koi_disposition']=='CONFIRMED'][features_for_scaling].mean()\n",
        "candidate_avg = tabular_df[tabular_df['koi_disposition']=='CANDIDATE'][features_for_scaling].mean()\n",
        "\n",
        "# ==============================\n",
        "# 3️⃣ إنشاء DataFrame جديد لكل مثال\n",
        "# ==============================\n",
        "new_confirmed = pd.DataFrame([confirmed_avg])\n",
        "new_candidate = pd.DataFrame([candidate_avg])\n",
        "\n",
        "# ==============================\n",
        "# 4️⃣ تطبيع البيانات بنفس Scaler المستخدم للنموذج\n",
        "# ==============================\n",
        "new_confirmed_scaled = scaler_tab.transform(new_confirmed)\n",
        "new_candidate_scaled = scaler_tab.transform(new_candidate)\n",
        "\n",
        "# ==============================\n",
        "# 5️⃣ التنبؤ باستخدام النموذج\n",
        "# ==============================\n",
        "pred_conf = best_model.predict(new_confirmed_scaled)\n",
        "pred_cand = best_model.predict(new_candidate_scaled)\n",
        "\n",
        "pred_label_conf = le.inverse_transform(np.argmax(pred_conf, axis=1))\n",
        "pred_label_cand = le.inverse_transform(np.argmax(pred_cand, axis=1))\n",
        "\n",
        "print(\"Predicted Class for Confirmed-like planet:\", pred_label_conf[0])\n",
        "print(\"Predicted Class for Candidate-like planet:\", pred_label_cand[0])\n"
      ],
      "metadata": {
        "colab": {
          "base_uri": "https://localhost:8080/"
        },
        "id": "SD4uxon7vNlf",
        "outputId": "9d20e38c-7205-45ce-ef4f-d86860c5222d"
      },
      "execution_count": 79,
      "outputs": [
        {
          "output_type": "stream",
          "name": "stdout",
          "text": [
            "\u001b[1m1/1\u001b[0m \u001b[32m━━━━━━━━━━━━━━━━━━━━\u001b[0m\u001b[37m\u001b[0m \u001b[1m0s\u001b[0m 30ms/step\n",
            "\u001b[1m1/1\u001b[0m \u001b[32m━━━━━━━━━━━━━━━━━━━━\u001b[0m\u001b[37m\u001b[0m \u001b[1m0s\u001b[0m 28ms/step\n",
            "Predicted Class for Confirmed-like planet: CONFIRMED\n",
            "Predicted Class for Candidate-like planet: FALSE POSITIVE\n"
          ]
        },
        {
          "output_type": "stream",
          "name": "stderr",
          "text": [
            "/usr/local/lib/python3.12/dist-packages/sklearn/utils/validation.py:2732: UserWarning: X has feature names, but StandardScaler was fitted without feature names\n",
            "  warnings.warn(\n",
            "/usr/local/lib/python3.12/dist-packages/sklearn/utils/validation.py:2732: UserWarning: X has feature names, but StandardScaler was fitted without feature names\n",
            "  warnings.warn(\n"
          ]
        }
      ]
    },
    {
      "cell_type": "code",
      "source": [
        "# حفظ النموذج في ملف HDF5\n",
        "hybrid_model.save('hybrid_model.h5')\n",
        "\n",
        "print(\"Model saved successfully as 'hybrid_model.h5'\")\n"
      ],
      "metadata": {
        "colab": {
          "base_uri": "https://localhost:8080/"
        },
        "id": "HVaJOOw5iFL-",
        "outputId": "fbc61fbc-e52c-465a-f535-98af110e0779"
      },
      "execution_count": 80,
      "outputs": [
        {
          "output_type": "stream",
          "name": "stderr",
          "text": [
            "WARNING:absl:You are saving your model as an HDF5 file via `model.save()` or `keras.saving.save_model(model)`. This file format is considered legacy. We recommend using instead the native Keras format, e.g. `model.save('my_model.keras')` or `keras.saving.save_model(model, 'my_model.keras')`. \n"
          ]
        },
        {
          "output_type": "stream",
          "name": "stdout",
          "text": [
            "Model saved successfully as 'hybrid_model.h5'\n"
          ]
        }
      ]
    },
    {
      "cell_type": "code",
      "source": [
        "import joblib\n",
        "\n",
        "# حفظ السكالر\n",
        "joblib.dump(scaler_tab, 'scaler_tab.save')\n",
        "\n",
        "# حفظ الـ LabelEncoder\n",
        "joblib.dump(le, 'label_encoder.save')\n",
        "\n",
        "# تحميلهم لاحقًا\n",
        "scaler_tab = joblib.load('scaler_tab.save')\n",
        "le = joblib.load('label_encoder.save')\n"
      ],
      "metadata": {
        "id": "PthuxpGOiKRx"
      },
      "execution_count": 81,
      "outputs": []
    },
    {
      "cell_type": "code",
      "source": [
        "# 9️⃣ حفظ النماذج\n",
        "xgb_model.save_model(\"xgb_physical.json\")\n",
        "lc_model.save(\"lstm_cnn_lightcurve.h5\")\n",
        "joblib.dump(scaler_tab, \"scaler_tab.pkl\")\n",
        "joblib.dump(le, \"label_encoder.pkl\")"
      ],
      "metadata": {
        "colab": {
          "base_uri": "https://localhost:8080/"
        },
        "id": "3WmlvQT8el2f",
        "outputId": "ce7c1c5f-bb66-401e-e202-e66dbde752ae"
      },
      "execution_count": 82,
      "outputs": [
        {
          "output_type": "stream",
          "name": "stderr",
          "text": [
            "WARNING:absl:You are saving your model as an HDF5 file via `model.save()` or `keras.saving.save_model(model)`. This file format is considered legacy. We recommend using instead the native Keras format, e.g. `model.save('my_model.keras')` or `keras.saving.save_model(model, 'my_model.keras')`. \n"
          ]
        },
        {
          "output_type": "execute_result",
          "data": {
            "text/plain": [
              "['label_encoder.pkl']"
            ]
          },
          "metadata": {},
          "execution_count": 82
        }
      ]
    }
  ]
}