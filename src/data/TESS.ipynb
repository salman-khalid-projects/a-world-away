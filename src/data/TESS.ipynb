{
  "nbformat": 4,
  "nbformat_minor": 0,
  "metadata": {
    "colab": {
      "provenance": []
    },
    "kernelspec": {
      "name": "python3",
      "display_name": "Python 3"
    },
    "language_info": {
      "name": "python"
    }
  },
  "cells": [
    {
      "cell_type": "code",
      "execution_count": 1,
      "metadata": {
        "id": "T_RqAkLHeNcz"
      },
      "outputs": [],
      "source": [
        "# ============================================================\n",
        "# TESS (TOI) — Advanced ML pipeline (Colab-ready)\n",
        "# - Tabular pipeline (XGBoost)\n",
        "# - Optional Time-series pipeline (LSTM + 1D-CNN) if you provide lightcurves\n",
        "# - Hybrid soft-voting of tabular + time-series (if both present)\n",
        "# - Plots: class distribution, feature histograms, feature importance,\n",
        "#   training curves, confusion matrix heatmap.\n",
        "# ============================================================\n",
        "\n",
        "# Run in Google Colab. If some packages missing, uncomment install lines.\n",
        "\n",
        "# !pip install xgboost tensorflow matplotlib scikit-learn joblib --quiet\n",
        "\n",
        "import os\n",
        "import sys\n",
        "import numpy as np\n",
        "import pandas as pd\n",
        "import matplotlib.pyplot as plt\n",
        "from sklearn.impute import SimpleImputer\n",
        "from sklearn.preprocessing import StandardScaler, LabelEncoder\n",
        "from sklearn.model_selection import train_test_split\n",
        "from sklearn.metrics import accuracy_score, confusion_matrix, classification_report\n",
        "from sklearn.metrics import roc_auc_score\n",
        "from xgboost import XGBClassifier\n",
        "from tensorflow.keras.models import Sequential, Model, load_model\n",
        "from tensorflow.keras.layers import Dense, Dropout, Input, Conv1D, MaxPooling1D, LSTM, Flatten, concatenate\n",
        "from tensorflow.keras.callbacks import EarlyStopping, ReduceLROnPlateau\n",
        "from tensorflow.keras.utils import to_categorical\n",
        "import joblib\n",
        "import ast\n",
        "import urllib"
      ]
    },
    {
      "cell_type": "code",
      "source": [
        "# ---------------------------\n",
        "# 0) Parameters you can change\n",
        "# ---------------------------\n",
        "TOI_TAP_CSV = \"https://exoplanetarchive.ipac.caltech.edu/TAP/sync?query=select+*+from+toi&format=csv\"\n",
        "# If you already downloaded TOI CSV, set local path instead:\n",
        "# TOI_TAP_CSV = \"/content/toi_catalog.csv\""
      ],
      "metadata": {
        "id": "D7XEnVn1e0id"
      },
      "execution_count": 2,
      "outputs": []
    },
    {
      "cell_type": "code",
      "source": [
        "LIGHTCURVE_CSV = None\n",
        "# If you have a CSV of lightcurves with columns: ['id','flux_values','disposition']\n",
        "# where flux_values is a stringified Python list (e.g. \"[1.001,0.999,...]\"), set:\n",
        "# LIGHTCURVE_CSV = \"/content/tess_lightcurves.csv\"\n",
        "RANDOM_STATE = 42\n",
        "TEST_SIZE = 0.2\n",
        "MAX_LC_LEN = 200   # length to pad/truncate lightcurves to (if using LSTM)\n"
      ],
      "metadata": {
        "id": "tWlD_eY7e615"
      },
      "execution_count": 3,
      "outputs": []
    },
    {
      "cell_type": "code",
      "source": [
        "# ---------------------------\n",
        "# 1) Load TOI table (CSV)\n",
        "# ---------------------------\n",
        "print(\"1) Downloading TOI table (may take a few seconds)...\")\n",
        "try:\n",
        "    toi_df = pd.read_csv(TOI_TAP_CSV, comment='#', low_memory=False)\n",
        "    print(\"Loaded TOI table from TAP.\")\n",
        "except Exception as e:\n",
        "    print(\"Could not download from TAP. Error:\", e)\n",
        "    # try local file path\n",
        "    if os.path.exists(\"toi_catalog.csv\"):\n",
        "        toi_df = pd.read_csv(\"toi_catalog.csv\", comment='#', low_memory=False)\n",
        "        print(\"Loaded local 'toi_catalog.csv'.\")\n",
        "    else:\n",
        "        raise RuntimeError(\"Failed to load TOI table. Place CSV locally as 'toi_catalog.csv' or ensure internet access.\")\n",
        "print(\"TOI shape:\", toi_df.shape)\n",
        "print(\"Columns (sample):\", list(toi_df.columns[:30]))\n"
      ],
      "metadata": {
        "colab": {
          "base_uri": "https://localhost:8080/"
        },
        "id": "DU3s6jw1fCER",
        "outputId": "6db46779-af1c-41c2-bbe3-49d55f49aa2a"
      },
      "execution_count": 4,
      "outputs": [
        {
          "output_type": "stream",
          "name": "stdout",
          "text": [
            "1) Downloading TOI table (may take a few seconds)...\n",
            "Loaded TOI table from TAP.\n",
            "TOI shape: (7703, 91)\n",
            "Columns (sample): ['tid', 'toi', 'toidisplay', 'toipfx', 'ctoi_alias', 'pl_pnum', 'tfopwg_disp', 'st_tmag', 'st_tmagerr1', 'st_tmagerr2', 'st_tmagsymerr', 'st_tmaglim', 'rastr', 'ra', 'raerr1', 'raerr2', 'rasymerr', 'decstr', 'dec', 'decerr1', 'decerr2', 'decsymerr', 'st_pmra', 'st_pmraerr1', 'st_pmraerr2', 'st_pmrasymerr', 'st_pmralim', 'st_pmdec', 'st_pmdecerr1', 'st_pmdecerr2']\n"
          ]
        }
      ]
    },
    {
      "cell_type": "code",
      "source": [
        "# ---------------------------\n",
        "# 2) Identify / map useful columns\n",
        "# ---------------------------\n",
        "# TOI schema may use various column names. We'll try to find commonly used names and map them.\n",
        "colnames = set(toi_df.columns.str.lower())\n"
      ],
      "metadata": {
        "id": "FWoID-LCfRD6"
      },
      "execution_count": 5,
      "outputs": []
    },
    {
      "cell_type": "code",
      "source": [
        "# Define possible name candidates for each needed feature (common variants)\n",
        "candidates = {\n",
        "    'period': ['pl_orbper','period','pl_orbper','period_days','orbital_period'],\n",
        "    'duration': ['tran_dur','duration','tran_duration','transit_duration','duration_hours', 'pl_trandurh'],\n",
        "    'prad': ['pl_rade','pl_radj','planet_radius','pl_rade_earth','planet_radius_re'],\n",
        "    'teff': ['st_teff','st_teff_K','st_teff_k','stellar_teff','teff'],\n",
        "    'logg': ['st_logg','st_logg_dex','st_logg_cgs','logg'],\n",
        "    'srad': ['st_rad','st_radius','st_rad_solar','st_rad_rsun','stellar_radius'],\n",
        "    'mag': ['st_tmag','tess_mag','st_mag','gaia_g','kepmag','kep_mag']\n",
        "}\n",
        "\n",
        "def find_col(choices):\n",
        "    for c in choices:\n",
        "        if c in colnames:\n",
        "            # return actual column name (case sensitive)\n",
        "            return [col for col in toi_df.columns if col.lower()==c][0]\n",
        "    return None"
      ],
      "metadata": {
        "id": "Thmnh68efVda"
      },
      "execution_count": 9,
      "outputs": []
    },
    {
      "cell_type": "code",
      "source": [
        "mapped = {}\n",
        "for key, choices in candidates.items():\n",
        "    mapped[key] = find_col(choices)\n",
        "\n",
        "print(\"\\nColumn mapping (detected):\")\n",
        "for k,v in mapped.items():\n",
        "    print(f\"  {k}: {v}\")\n"
      ],
      "metadata": {
        "colab": {
          "base_uri": "https://localhost:8080/"
        },
        "id": "NfpVyIL8fgnJ",
        "outputId": "d86f6c28-e0e3-4f11-eec3-a18223c7fb9a"
      },
      "execution_count": 10,
      "outputs": [
        {
          "output_type": "stream",
          "name": "stdout",
          "text": [
            "\n",
            "Column mapping (detected):\n",
            "  period: pl_orbper\n",
            "  duration: pl_trandurh\n",
            "  prad: pl_rade\n",
            "  teff: st_teff\n",
            "  logg: st_logg\n",
            "  srad: st_rad\n",
            "  mag: st_tmag\n"
          ]
        }
      ]
    },
    {
      "cell_type": "code",
      "source": [
        "# If any required column missing, try to suggest similar columns or exit gracefully\n",
        "missing = [k for k,v in mapped.items() if v is None]\n",
        "if missing:\n",
        "    print(\"\\nWarning: Could not auto-detect columns for:\", missing)\n",
        "    print(\"Please inspect `toi_df.columns` and adjust the mapping manually. Example:\")\n",
        "    print(list(toi_df.columns))\n",
        "    # Stop here so user can set correct column names\n",
        "    raise SystemExit(\"Adjust column names mapping and re-run (see printed list above).\")\n"
      ],
      "metadata": {
        "id": "Lh_5Zyn2fow9"
      },
      "execution_count": 11,
      "outputs": []
    },
    {
      "cell_type": "code",
      "source": [
        "# ---------------------------\n",
        "# 3) Build features DataFrame\n",
        "# ---------------------------\n",
        "# Standard names we'll use internally:\n",
        "df = toi_df.copy()\n",
        "df = df.rename(columns={\n",
        "    mapped['period']: 'period',\n",
        "    mapped['duration']: 'duration',\n",
        "    mapped['prad']: 'prad',\n",
        "    mapped['teff']: 'teff',\n",
        "    mapped['logg']: 'logg',\n",
        "    mapped['srad']: 'srad',\n",
        "    mapped['mag']: 'mag'\n",
        "})"
      ],
      "metadata": {
        "id": "mI_PKpmAgiDI"
      },
      "execution_count": 12,
      "outputs": []
    },
    {
      "cell_type": "code",
      "source": [
        "# Convert duration to days if it looks like hours (simple heuristic)\n",
        "# If duration values are >1 and <50 they may be hours — but this is heuristic; we keep as-is but note.\n",
        "# Create derived features:\n",
        "df['radius_ratio'] = df['prad'] / df['srad']\n",
        "df['orbital_density'] = df['prad'] / df['period']\n",
        "\n",
        "features = ['period','duration','prad','teff','logg','srad','mag','radius_ratio','orbital_density']\n",
        "\n",
        "print(\"\\nFinal features used:\", features)\n",
        "print(\"Preview (first rows):\")\n",
        "display(df[features].head())"
      ],
      "metadata": {
        "colab": {
          "base_uri": "https://localhost:8080/",
          "height": 258
        },
        "id": "zwWgH2Ejg2oL",
        "outputId": "54e76dff-21da-42a2-d29f-557ac934026f"
      },
      "execution_count": 13,
      "outputs": [
        {
          "output_type": "stream",
          "name": "stdout",
          "text": [
            "\n",
            "Final features used: ['period', 'duration', 'prad', 'teff', 'logg', 'srad', 'mag', 'radius_ratio', 'orbital_density']\n",
            "Preview (first rows):\n"
          ]
        },
        {
          "output_type": "display_data",
          "data": {
            "text/plain": [
              "      period  duration       prad    teff     logg     srad      mag  \\\n",
              "0   2.180528  2.969175  16.808853  6599.0  4.21017  1.27146  11.0657   \n",
              "1   2.184667  2.865280  13.702853  5630.0  4.37759  1.23824   9.4995   \n",
              "2   3.735484  4.142000  21.231500  6650.0  4.16390  1.57000  11.0261   \n",
              "3  21.701669  8.267642   2.375149  5625.0  4.43800  1.56486   7.1278   \n",
              "4   9.139804  3.091294   3.062985  5958.2  4.34000  1.58000   9.0197   \n",
              "\n",
              "   radius_ratio  orbital_density  \n",
              "0     13.220118         7.708617  \n",
              "1     11.066395         6.272285  \n",
              "2     13.523248         5.683735  \n",
              "3      1.517803         0.109445  \n",
              "4      1.938598         0.335126  "
            ],
            "text/html": [
              "\n",
              "  <div id=\"df-d37d5a9b-15a2-4277-aef7-717223aa4a49\" class=\"colab-df-container\">\n",
              "    <div>\n",
              "<style scoped>\n",
              "    .dataframe tbody tr th:only-of-type {\n",
              "        vertical-align: middle;\n",
              "    }\n",
              "\n",
              "    .dataframe tbody tr th {\n",
              "        vertical-align: top;\n",
              "    }\n",
              "\n",
              "    .dataframe thead th {\n",
              "        text-align: right;\n",
              "    }\n",
              "</style>\n",
              "<table border=\"1\" class=\"dataframe\">\n",
              "  <thead>\n",
              "    <tr style=\"text-align: right;\">\n",
              "      <th></th>\n",
              "      <th>period</th>\n",
              "      <th>duration</th>\n",
              "      <th>prad</th>\n",
              "      <th>teff</th>\n",
              "      <th>logg</th>\n",
              "      <th>srad</th>\n",
              "      <th>mag</th>\n",
              "      <th>radius_ratio</th>\n",
              "      <th>orbital_density</th>\n",
              "    </tr>\n",
              "  </thead>\n",
              "  <tbody>\n",
              "    <tr>\n",
              "      <th>0</th>\n",
              "      <td>2.180528</td>\n",
              "      <td>2.969175</td>\n",
              "      <td>16.808853</td>\n",
              "      <td>6599.0</td>\n",
              "      <td>4.21017</td>\n",
              "      <td>1.27146</td>\n",
              "      <td>11.0657</td>\n",
              "      <td>13.220118</td>\n",
              "      <td>7.708617</td>\n",
              "    </tr>\n",
              "    <tr>\n",
              "      <th>1</th>\n",
              "      <td>2.184667</td>\n",
              "      <td>2.865280</td>\n",
              "      <td>13.702853</td>\n",
              "      <td>5630.0</td>\n",
              "      <td>4.37759</td>\n",
              "      <td>1.23824</td>\n",
              "      <td>9.4995</td>\n",
              "      <td>11.066395</td>\n",
              "      <td>6.272285</td>\n",
              "    </tr>\n",
              "    <tr>\n",
              "      <th>2</th>\n",
              "      <td>3.735484</td>\n",
              "      <td>4.142000</td>\n",
              "      <td>21.231500</td>\n",
              "      <td>6650.0</td>\n",
              "      <td>4.16390</td>\n",
              "      <td>1.57000</td>\n",
              "      <td>11.0261</td>\n",
              "      <td>13.523248</td>\n",
              "      <td>5.683735</td>\n",
              "    </tr>\n",
              "    <tr>\n",
              "      <th>3</th>\n",
              "      <td>21.701669</td>\n",
              "      <td>8.267642</td>\n",
              "      <td>2.375149</td>\n",
              "      <td>5625.0</td>\n",
              "      <td>4.43800</td>\n",
              "      <td>1.56486</td>\n",
              "      <td>7.1278</td>\n",
              "      <td>1.517803</td>\n",
              "      <td>0.109445</td>\n",
              "    </tr>\n",
              "    <tr>\n",
              "      <th>4</th>\n",
              "      <td>9.139804</td>\n",
              "      <td>3.091294</td>\n",
              "      <td>3.062985</td>\n",
              "      <td>5958.2</td>\n",
              "      <td>4.34000</td>\n",
              "      <td>1.58000</td>\n",
              "      <td>9.0197</td>\n",
              "      <td>1.938598</td>\n",
              "      <td>0.335126</td>\n",
              "    </tr>\n",
              "  </tbody>\n",
              "</table>\n",
              "</div>\n",
              "    <div class=\"colab-df-buttons\">\n",
              "\n",
              "  <div class=\"colab-df-container\">\n",
              "    <button class=\"colab-df-convert\" onclick=\"convertToInteractive('df-d37d5a9b-15a2-4277-aef7-717223aa4a49')\"\n",
              "            title=\"Convert this dataframe to an interactive table.\"\n",
              "            style=\"display:none;\">\n",
              "\n",
              "  <svg xmlns=\"http://www.w3.org/2000/svg\" height=\"24px\" viewBox=\"0 -960 960 960\">\n",
              "    <path d=\"M120-120v-720h720v720H120Zm60-500h600v-160H180v160Zm220 220h160v-160H400v160Zm0 220h160v-160H400v160ZM180-400h160v-160H180v160Zm440 0h160v-160H620v160ZM180-180h160v-160H180v160Zm440 0h160v-160H620v160Z\"/>\n",
              "  </svg>\n",
              "    </button>\n",
              "\n",
              "  <style>\n",
              "    .colab-df-container {\n",
              "      display:flex;\n",
              "      gap: 12px;\n",
              "    }\n",
              "\n",
              "    .colab-df-convert {\n",
              "      background-color: #E8F0FE;\n",
              "      border: none;\n",
              "      border-radius: 50%;\n",
              "      cursor: pointer;\n",
              "      display: none;\n",
              "      fill: #1967D2;\n",
              "      height: 32px;\n",
              "      padding: 0 0 0 0;\n",
              "      width: 32px;\n",
              "    }\n",
              "\n",
              "    .colab-df-convert:hover {\n",
              "      background-color: #E2EBFA;\n",
              "      box-shadow: 0px 1px 2px rgba(60, 64, 67, 0.3), 0px 1px 3px 1px rgba(60, 64, 67, 0.15);\n",
              "      fill: #174EA6;\n",
              "    }\n",
              "\n",
              "    .colab-df-buttons div {\n",
              "      margin-bottom: 4px;\n",
              "    }\n",
              "\n",
              "    [theme=dark] .colab-df-convert {\n",
              "      background-color: #3B4455;\n",
              "      fill: #D2E3FC;\n",
              "    }\n",
              "\n",
              "    [theme=dark] .colab-df-convert:hover {\n",
              "      background-color: #434B5C;\n",
              "      box-shadow: 0px 1px 3px 1px rgba(0, 0, 0, 0.15);\n",
              "      filter: drop-shadow(0px 1px 2px rgba(0, 0, 0, 0.3));\n",
              "      fill: #FFFFFF;\n",
              "    }\n",
              "  </style>\n",
              "\n",
              "    <script>\n",
              "      const buttonEl =\n",
              "        document.querySelector('#df-d37d5a9b-15a2-4277-aef7-717223aa4a49 button.colab-df-convert');\n",
              "      buttonEl.style.display =\n",
              "        google.colab.kernel.accessAllowed ? 'block' : 'none';\n",
              "\n",
              "      async function convertToInteractive(key) {\n",
              "        const element = document.querySelector('#df-d37d5a9b-15a2-4277-aef7-717223aa4a49');\n",
              "        const dataTable =\n",
              "          await google.colab.kernel.invokeFunction('convertToInteractive',\n",
              "                                                    [key], {});\n",
              "        if (!dataTable) return;\n",
              "\n",
              "        const docLinkHtml = 'Like what you see? Visit the ' +\n",
              "          '<a target=\"_blank\" href=https://colab.research.google.com/notebooks/data_table.ipynb>data table notebook</a>'\n",
              "          + ' to learn more about interactive tables.';\n",
              "        element.innerHTML = '';\n",
              "        dataTable['output_type'] = 'display_data';\n",
              "        await google.colab.output.renderOutput(dataTable, element);\n",
              "        const docLink = document.createElement('div');\n",
              "        docLink.innerHTML = docLinkHtml;\n",
              "        element.appendChild(docLink);\n",
              "      }\n",
              "    </script>\n",
              "  </div>\n",
              "\n",
              "\n",
              "    <div id=\"df-2675d1af-3e69-41d3-8f5a-63407b5dacfe\">\n",
              "      <button class=\"colab-df-quickchart\" onclick=\"quickchart('df-2675d1af-3e69-41d3-8f5a-63407b5dacfe')\"\n",
              "                title=\"Suggest charts\"\n",
              "                style=\"display:none;\">\n",
              "\n",
              "<svg xmlns=\"http://www.w3.org/2000/svg\" height=\"24px\"viewBox=\"0 0 24 24\"\n",
              "     width=\"24px\">\n",
              "    <g>\n",
              "        <path d=\"M19 3H5c-1.1 0-2 .9-2 2v14c0 1.1.9 2 2 2h14c1.1 0 2-.9 2-2V5c0-1.1-.9-2-2-2zM9 17H7v-7h2v7zm4 0h-2V7h2v10zm4 0h-2v-4h2v4z\"/>\n",
              "    </g>\n",
              "</svg>\n",
              "      </button>\n",
              "\n",
              "<style>\n",
              "  .colab-df-quickchart {\n",
              "      --bg-color: #E8F0FE;\n",
              "      --fill-color: #1967D2;\n",
              "      --hover-bg-color: #E2EBFA;\n",
              "      --hover-fill-color: #174EA6;\n",
              "      --disabled-fill-color: #AAA;\n",
              "      --disabled-bg-color: #DDD;\n",
              "  }\n",
              "\n",
              "  [theme=dark] .colab-df-quickchart {\n",
              "      --bg-color: #3B4455;\n",
              "      --fill-color: #D2E3FC;\n",
              "      --hover-bg-color: #434B5C;\n",
              "      --hover-fill-color: #FFFFFF;\n",
              "      --disabled-bg-color: #3B4455;\n",
              "      --disabled-fill-color: #666;\n",
              "  }\n",
              "\n",
              "  .colab-df-quickchart {\n",
              "    background-color: var(--bg-color);\n",
              "    border: none;\n",
              "    border-radius: 50%;\n",
              "    cursor: pointer;\n",
              "    display: none;\n",
              "    fill: var(--fill-color);\n",
              "    height: 32px;\n",
              "    padding: 0;\n",
              "    width: 32px;\n",
              "  }\n",
              "\n",
              "  .colab-df-quickchart:hover {\n",
              "    background-color: var(--hover-bg-color);\n",
              "    box-shadow: 0 1px 2px rgba(60, 64, 67, 0.3), 0 1px 3px 1px rgba(60, 64, 67, 0.15);\n",
              "    fill: var(--button-hover-fill-color);\n",
              "  }\n",
              "\n",
              "  .colab-df-quickchart-complete:disabled,\n",
              "  .colab-df-quickchart-complete:disabled:hover {\n",
              "    background-color: var(--disabled-bg-color);\n",
              "    fill: var(--disabled-fill-color);\n",
              "    box-shadow: none;\n",
              "  }\n",
              "\n",
              "  .colab-df-spinner {\n",
              "    border: 2px solid var(--fill-color);\n",
              "    border-color: transparent;\n",
              "    border-bottom-color: var(--fill-color);\n",
              "    animation:\n",
              "      spin 1s steps(1) infinite;\n",
              "  }\n",
              "\n",
              "  @keyframes spin {\n",
              "    0% {\n",
              "      border-color: transparent;\n",
              "      border-bottom-color: var(--fill-color);\n",
              "      border-left-color: var(--fill-color);\n",
              "    }\n",
              "    20% {\n",
              "      border-color: transparent;\n",
              "      border-left-color: var(--fill-color);\n",
              "      border-top-color: var(--fill-color);\n",
              "    }\n",
              "    30% {\n",
              "      border-color: transparent;\n",
              "      border-left-color: var(--fill-color);\n",
              "      border-top-color: var(--fill-color);\n",
              "      border-right-color: var(--fill-color);\n",
              "    }\n",
              "    40% {\n",
              "      border-color: transparent;\n",
              "      border-right-color: var(--fill-color);\n",
              "      border-top-color: var(--fill-color);\n",
              "    }\n",
              "    60% {\n",
              "      border-color: transparent;\n",
              "      border-right-color: var(--fill-color);\n",
              "    }\n",
              "    80% {\n",
              "      border-color: transparent;\n",
              "      border-right-color: var(--fill-color);\n",
              "      border-bottom-color: var(--fill-color);\n",
              "    }\n",
              "    90% {\n",
              "      border-color: transparent;\n",
              "      border-bottom-color: var(--fill-color);\n",
              "    }\n",
              "  }\n",
              "</style>\n",
              "\n",
              "      <script>\n",
              "        async function quickchart(key) {\n",
              "          const quickchartButtonEl =\n",
              "            document.querySelector('#' + key + ' button');\n",
              "          quickchartButtonEl.disabled = true;  // To prevent multiple clicks.\n",
              "          quickchartButtonEl.classList.add('colab-df-spinner');\n",
              "          try {\n",
              "            const charts = await google.colab.kernel.invokeFunction(\n",
              "                'suggestCharts', [key], {});\n",
              "          } catch (error) {\n",
              "            console.error('Error during call to suggestCharts:', error);\n",
              "          }\n",
              "          quickchartButtonEl.classList.remove('colab-df-spinner');\n",
              "          quickchartButtonEl.classList.add('colab-df-quickchart-complete');\n",
              "        }\n",
              "        (() => {\n",
              "          let quickchartButtonEl =\n",
              "            document.querySelector('#df-2675d1af-3e69-41d3-8f5a-63407b5dacfe button');\n",
              "          quickchartButtonEl.style.display =\n",
              "            google.colab.kernel.accessAllowed ? 'block' : 'none';\n",
              "        })();\n",
              "      </script>\n",
              "    </div>\n",
              "\n",
              "    </div>\n",
              "  </div>\n"
            ],
            "application/vnd.google.colaboratory.intrinsic+json": {
              "type": "dataframe",
              "summary": "{\n  \"name\": \"display(df[features]\",\n  \"rows\": 5,\n  \"fields\": [\n    {\n      \"column\": \"period\",\n      \"properties\": {\n        \"dtype\": \"number\",\n        \"std\": 8.286759516637941,\n        \"min\": 2.1805277,\n        \"max\": 21.701669,\n        \"num_unique_values\": 5,\n        \"samples\": [\n          2.1846669,\n          9.139804,\n          3.7354838\n        ],\n        \"semantic_type\": \"\",\n        \"description\": \"\"\n      }\n    },\n    {\n      \"column\": \"duration\",\n      \"properties\": {\n        \"dtype\": \"number\",\n        \"std\": 2.2941348483757182,\n        \"min\": 2.86528,\n        \"max\": 8.2676424,\n        \"num_unique_values\": 5,\n        \"samples\": [\n          2.86528,\n          3.0912936,\n          4.142\n        ],\n        \"semantic_type\": \"\",\n        \"description\": \"\"\n      }\n    },\n    {\n      \"column\": \"prad\",\n      \"properties\": {\n        \"dtype\": \"number\",\n        \"std\": 8.398874564880632,\n        \"min\": 2.3751494,\n        \"max\": 21.2315,\n        \"num_unique_values\": 5,\n        \"samples\": [\n          13.7028527,\n          3.0629855,\n          21.2315\n        ],\n        \"semantic_type\": \"\",\n        \"description\": \"\"\n      }\n    },\n    {\n      \"column\": \"teff\",\n      \"properties\": {\n        \"dtype\": \"number\",\n        \"std\": 504.4421354327967,\n        \"min\": 5625.0,\n        \"max\": 6650.0,\n        \"num_unique_values\": 5,\n        \"samples\": [\n          5630.0,\n          5958.2,\n          6650.0\n        ],\n        \"semantic_type\": \"\",\n        \"description\": \"\"\n      }\n    },\n    {\n      \"column\": \"logg\",\n      \"properties\": {\n        \"dtype\": \"number\",\n        \"std\": 0.11519646682949952,\n        \"min\": 4.1639,\n        \"max\": 4.438,\n        \"num_unique_values\": 5,\n        \"samples\": [\n          4.37759,\n          4.34,\n          4.1639\n        ],\n        \"semantic_type\": \"\",\n        \"description\": \"\"\n      }\n    },\n    {\n      \"column\": \"srad\",\n      \"properties\": {\n        \"dtype\": \"number\",\n        \"std\": 0.17398432069414185,\n        \"min\": 1.23824,\n        \"max\": 1.58,\n        \"num_unique_values\": 5,\n        \"samples\": [\n          1.23824,\n          1.58,\n          1.57\n        ],\n        \"semantic_type\": \"\",\n        \"description\": \"\"\n      }\n    },\n    {\n      \"column\": \"mag\",\n      \"properties\": {\n        \"dtype\": \"number\",\n        \"std\": 1.629955044778843,\n        \"min\": 7.1278,\n        \"max\": 11.0657,\n        \"num_unique_values\": 5,\n        \"samples\": [\n          9.4995,\n          9.0197,\n          11.0261\n        ],\n        \"semantic_type\": \"\",\n        \"description\": \"\"\n      }\n    },\n    {\n      \"column\": \"radius_ratio\",\n      \"properties\": {\n        \"dtype\": \"number\",\n        \"std\": 6.033189813468408,\n        \"min\": 1.5178031261582507,\n        \"max\": 13.523248407643312,\n        \"num_unique_values\": 5,\n        \"samples\": [\n          11.066394802300039,\n          1.9385984177215188,\n          13.523248407643312\n        ],\n        \"semantic_type\": \"\",\n        \"description\": \"\"\n      }\n    },\n    {\n      \"column\": \"orbital_density\",\n      \"properties\": {\n        \"dtype\": \"number\",\n        \"std\": 3.546738382056197,\n        \"min\": 0.10944547168238536,\n        \"max\": 7.708617047148724,\n        \"num_unique_values\": 5,\n        \"samples\": [\n          6.2722846672872645,\n          0.3351259501844897,\n          5.683734995718627\n        ],\n        \"semantic_type\": \"\",\n        \"description\": \"\"\n      }\n    }\n  ]\n}"
            }
          },
          "metadata": {}
        }
      ]
    },
    {
      "cell_type": "code",
      "source": [
        "# ---------------------------\n",
        "# 4) Target column detection\n",
        "# ---------------------------\n",
        "# Common TOI disposition columns: 'toi_disposition', 'tfopwg_disp', 'disposition', 'pl_disposition'\n",
        "target_candidates = ['toi_disposition','tfopwg_disp','disposition','pl_disposition','st_disposition','candidate']\n",
        "target_col = None\n",
        "for t in target_candidates:\n",
        "    if t in (c.lower() for c in toi_df.columns):\n",
        "        target_col = [col for col in toi_df.columns if col.lower()==t][0]\n",
        "        break\n",
        "\n",
        "if target_col is None:\n",
        "    print(\"Could not find a target disposition column automatically. Print columns and set it manually.\")\n",
        "    print(list(toi_df.columns))\n",
        "    raise SystemExit(\"Set target column name and re-run.\")\n",
        "    print(\"\\nUsing target column:\", target_col)\n",
        "df['disposition'] = toi_df[target_col].astype(str)\n"
      ],
      "metadata": {
        "id": "GoeL5O9Eg8su"
      },
      "execution_count": 14,
      "outputs": []
    },
    {
      "cell_type": "code",
      "source": [
        "# Keep only rows that have a valid disposition (non-null)\n",
        "df = df[df['disposition'].notna()]"
      ],
      "metadata": {
        "id": "50I3YhsUhE3F"
      },
      "execution_count": 15,
      "outputs": []
    },
    {
      "cell_type": "code",
      "source": [
        "# Quick class distribution\n",
        "print(\"\\nClass distribution (raw):\")\n",
        "print(df['disposition'].value_counts())\n"
      ],
      "metadata": {
        "colab": {
          "base_uri": "https://localhost:8080/"
        },
        "id": "IOiUjkwPhIdd",
        "outputId": "edead4c6-8025-4cff-ce47-85b0e1441788"
      },
      "execution_count": 16,
      "outputs": [
        {
          "output_type": "stream",
          "name": "stdout",
          "text": [
            "\n",
            "Class distribution (raw):\n",
            "disposition\n",
            "PC     4679\n",
            "FP     1197\n",
            "CP      684\n",
            "KP      583\n",
            "APC     462\n",
            "FA       98\n",
            "Name: count, dtype: int64\n"
          ]
        }
      ]
    },
    {
      "cell_type": "code",
      "source": [
        "# ---------------------------\n",
        "# 5) Prepare X and y (tabular)\n",
        "# ---------------------------\n",
        "X_tab = df[features].copy()\n",
        "y = df['disposition'].copy()"
      ],
      "metadata": {
        "id": "koJ2bhOdhMrj"
      },
      "execution_count": 17,
      "outputs": []
    },
    {
      "cell_type": "code",
      "source": [
        "# Impute missing values\n",
        "imputer = SimpleImputer(strategy='median')\n",
        "X_tab_imputed = imputer.fit_transform(X_tab)\n"
      ],
      "metadata": {
        "id": "vEJQ07sUhQPO"
      },
      "execution_count": 18,
      "outputs": []
    },
    {
      "cell_type": "code",
      "source": [
        "# Encode labels\n",
        "le = LabelEncoder()\n",
        "y_encoded = le.fit_transform(y)   # e.g. [0,1,2]"
      ],
      "metadata": {
        "id": "CEGFIfC9hT9_"
      },
      "execution_count": 19,
      "outputs": []
    },
    {
      "cell_type": "code",
      "source": [
        "# Scale\n",
        "scaler = StandardScaler()\n",
        "X_tab_scaled = scaler.fit_transform(X_tab_imputed)\n"
      ],
      "metadata": {
        "id": "qnOgkniKhXOb"
      },
      "execution_count": 20,
      "outputs": []
    },
    {
      "cell_type": "code",
      "source": [
        "# Save preprocessing objects for later use\n",
        "joblib.dump(imputer, \"toi_imputer.pkl\")\n",
        "joblib.dump(scaler, \"toi_scaler.pkl\")\n",
        "joblib.dump(le, \"toi_label_encoder.pkl\")\n",
        "print(\"\\nSaved imputer, scaler, label encoder to disk.\")\n"
      ],
      "metadata": {
        "colab": {
          "base_uri": "https://localhost:8080/"
        },
        "id": "ZdHM0jRShaXx",
        "outputId": "f6267c47-d218-4d2d-9c15-d74ea21615ba"
      },
      "execution_count": 21,
      "outputs": [
        {
          "output_type": "stream",
          "name": "stdout",
          "text": [
            "\n",
            "Saved imputer, scaler, label encoder to disk.\n"
          ]
        }
      ]
    },
    {
      "cell_type": "code",
      "source": [
        "# ---------------------------\n",
        "# 6) Train/test split\n",
        "# ---------------------------\n",
        "X_train, X_test, y_train, y_test = train_test_split(\n",
        "    X_tab_scaled, y_encoded, test_size=TEST_SIZE, random_state=RANDOM_STATE, stratify=y_encoded)\n",
        "\n",
        "print(\"\\nTrain/test shapes:\", X_train.shape, X_test.shape)"
      ],
      "metadata": {
        "colab": {
          "base_uri": "https://localhost:8080/"
        },
        "id": "pDI9WFjahdpR",
        "outputId": "041992c4-65bc-4eb3-a555-946971af77e5"
      },
      "execution_count": 22,
      "outputs": [
        {
          "output_type": "stream",
          "name": "stdout",
          "text": [
            "\n",
            "Train/test shapes: (6162, 9) (1541, 9)\n"
          ]
        }
      ]
    },
    {
      "cell_type": "code",
      "source": [
        "# ---------------------------\n",
        "# 7) Train XGBoost on tabular features (with improved hyperparameters)\n",
        "# ---------------------------\n",
        "print(\"\\nTraining improved XGBoost (tabular)...\")\n",
        "xgb_model = XGBClassifier(\n",
        "    objective='multi:softprob',\n",
        "    eval_metric='mlogloss',\n",
        "    use_label_encoder=False,\n",
        "    random_state=RANDOM_STATE,\n",
        "    n_estimators=500,      # زيادة عدد الأشجار\n",
        "    max_depth=6,           # عمق أكبر للشجرة\n",
        "    learning_rate=0.05,    # معدل تعلم أقل لتحسين الاستقرار\n",
        "    subsample=0.8,         # أخذ عينات عشوائية لكل شجرة\n",
        "    colsample_bytree=0.8   # أخذ خصائص عشوائية لكل شجرة\n",
        ")\n",
        "xgb_model.fit(X_train, y_train)\n",
        "\n",
        "xgb_preds = xgb_model.predict(X_test)\n",
        "xgb_acc = accuracy_score(y_test, xgb_preds)\n",
        "print(\"XGBoost test accuracy:\", xgb_acc)\n",
        "\n",
        "# Feature importance plot\n",
        "importance = xgb_model.feature_importances_\n",
        "plt.figure(figsize=(8,5))\n",
        "plt.bar(range(len(features)), importance)\n",
        "plt.xticks(range(len(features)), features, rotation=45, ha='right')\n",
        "plt.title(\"XGBoost Feature Importances\")\n",
        "plt.tight_layout()\n",
        "plt.show()\n"
      ],
      "metadata": {
        "colab": {
          "base_uri": "https://localhost:8080/",
          "height": 629
        },
        "id": "_SgERgWFhhuH",
        "outputId": "6dd89960-34fd-4054-ea90-31da940bb67a"
      },
      "execution_count": 42,
      "outputs": [
        {
          "output_type": "stream",
          "name": "stdout",
          "text": [
            "\n",
            "Training improved XGBoost (tabular)...\n"
          ]
        },
        {
          "output_type": "stream",
          "name": "stderr",
          "text": [
            "/usr/local/lib/python3.12/dist-packages/xgboost/training.py:183: UserWarning: [20:29:01] WARNING: /workspace/src/learner.cc:738: \n",
            "Parameters: { \"use_label_encoder\" } are not used.\n",
            "\n",
            "  bst.update(dtrain, iteration=i, fobj=obj)\n"
          ]
        },
        {
          "output_type": "stream",
          "name": "stdout",
          "text": [
            "XGBoost test accuracy: 0.6683971447112265\n"
          ]
        },
        {
          "output_type": "display_data",
          "data": {
            "text/plain": [
              "<Figure size 800x500 with 1 Axes>"
            ],
            "image/png": "[encoded data removed]"
          },
          "metadata": {}
        }
      ]
    },
    {
      "cell_type": "code",
      "source": [
        "# Feature importance plot (matplotlib)\n",
        "importance = xgb_model.feature_importances_\n",
        "plt.figure(figsize=(8,5))\n",
        "plt.bar(range(len(features)), importance)\n",
        "plt.xticks(range(len(features)), features, rotation=45, ha='right')\n",
        "plt.title(\"XGBoost Feature Importances\")\n",
        "plt.tight_layout()\n",
        "plt.show()"
      ],
      "metadata": {
        "colab": {
          "base_uri": "https://localhost:8080/",
          "height": 507
        },
        "id": "jEFlVjQehmAo",
        "outputId": "f58fff34-c384-4a71-8a4b-2eaf34caa5d7"
      },
      "execution_count": 43,
      "outputs": [
        {
          "output_type": "display_data",
          "data": {
            "text/plain": [
              "<Figure size 800x500 with 1 Axes>"
            ],
            "image/png": "[encoded data removed]"
          },
          "metadata": {}
        }
      ]
    },
    {
      "cell_type": "code",
      "source": [
        "# ---------------------------\n",
        "# 8) Optional: prepare Light Curves for LSTM if provided\n",
        "# ---------------------------\n",
        "use_lc = False\n",
        "if LIGHTCURVE_CSV is not None and os.path.exists(LIGHTCURVE_CSV):\n",
        "    print(\"\\nLightcurve CSV provided. Preparing time-series data...\")\n",
        "    lc_df = pd.read_csv(LIGHTCURVE_CSV)\n",
        "    # Expect flux_values column that is stringified list; disposition must match le.classes_\n",
        "    if 'flux_values' not in lc_df.columns:\n",
        "        raise SystemExit(\"Lightcurve CSV must contain 'flux_values' column with list-like strings.\")\n",
        "    # parse lists\n",
        "    lc_df['flux_values'] = lc_df['flux_values'].apply(ast.literal_eval)\n",
        "    # Ensure label column present; try to find same disposition column name\n",
        "    if 'disposition' not in lc_df.columns:\n",
        "        raise SystemExit(\"Lightcurve CSV must contain 'disposition' column with labels (CONFIRMED/CANDIDATE/FALSE POSITIVE).\")\n",
        "    # align and filter only rows with dispositions we know\n",
        "    lc_df = lc_df[lc_df['disposition'].isin(le.classes_)]\n",
        "    # pad sequences\n",
        "    from tensorflow.keras.preprocessing.sequence import pad_sequences\n",
        "    X_lc = pad_sequences(lc_df['flux_values'], maxlen=MAX_LC_LEN, dtype='float32', padding='post', truncating='post')\n",
        "    # normalize per-sample\n",
        "    X_lc = (X_lc - X_lc.mean(axis=1, keepdims=True)) / (X_lc.std(axis=1, keepdims=True)+1e-6)\n",
        "    y_lc = le.transform(lc_df['disposition'].values)\n",
        "    y_lc_cat = to_categorical(y_lc)\n",
        "    # split\n",
        "    X_lc_train, X_lc_test, y_lc_train, y_lc_test = train_test_split(\n",
        "        X_lc, y_lc_cat, test_size=TEST_SIZE, random_state=RANDOM_STATE, stratify=y_lc)\n",
        "    use_lc = True\n",
        "    print(\"Prepared LC shapes:\", X_lc_train.shape, X_lc_test.shape)\n",
        "else:\n",
        "    print(\"\\nNo lightcurve CSV provided or file not found. Skipping LSTM pipeline.\")\n"
      ],
      "metadata": {
        "colab": {
          "base_uri": "https://localhost:8080/"
        },
        "id": "WOwjcaLdiQYG",
        "outputId": "e8335977-b138-433b-ac8b-a2c6baa5ccc4"
      },
      "execution_count": 44,
      "outputs": [
        {
          "output_type": "stream",
          "name": "stdout",
          "text": [
            "\n",
            "No lightcurve CSV provided or file not found. Skipping LSTM pipeline.\n"
          ]
        }
      ]
    },
    {
      "cell_type": "code",
      "source": [
        "# ---------------------------\n",
        "# 9) Optional: build and train LSTM+1D-CNN\n",
        "# ---------------------------\n",
        "if use_lc:\n",
        "    print(\"\\nBuilding LSTM+1D-CNN model for light curves...\")\n",
        "    lc_input = Input(shape=(MAX_LC_LEN,1))\n",
        "    x = Conv1D(64, 5, activation='relu')(lc_input)\n",
        "    x = MaxPooling1D(2)(x)\n",
        "    x = LSTM(64)(x)\n",
        "    x = Dropout(0.3)(x)\n",
        "    x = Dense(32, activation='relu')(x)\n",
        "    lc_output = Dense(len(le.classes_), activation='softmax')(x)\n",
        "    lc_model = Model(inputs=lc_input, outputs=lc_output)\n",
        "    lc_model.compile(loss='categorical_crossentropy', optimizer='adam', metrics=['accuracy'])\n",
        "\n",
        "    es = EarlyStopping(monitor='val_loss', patience=6, restore_best_weights=True)\n",
        "    red = ReduceLROnPlateau(monitor='val_loss', factor=0.5, patience=3)\n",
        "\n",
        "    # تدريب فقط إذا كانت بيانات الضوء موجودة\n",
        "    history = lc_model.fit(\n",
        "        X_lc_train.reshape((-1,MAX_LC_LEN,1)),\n",
        "        y_lc_train,\n",
        "        validation_split=0.2,\n",
        "        epochs=50,\n",
        "        batch_size=32,\n",
        "        callbacks=[es, red],\n",
        "        verbose=1\n",
        "    )\n",
        "\n",
        "    # Plot training curve\n",
        "    plt.figure(figsize=(6,4))\n",
        "    plt.plot(history.history['loss'], label='train_loss')\n",
        "    if 'val_loss' in history.history:\n",
        "        plt.plot(history.history['val_loss'], label='val_loss')\n",
        "    plt.title(\"LC model loss\")\n",
        "    plt.legend()\n",
        "    plt.show()\n",
        "\n",
        "    # Predict and evaluate\n",
        "    X_lc_test_np = np.array(X_lc_test)\n",
        "    lc_preds_prob = lc_model.predict(X_lc_test_np.reshape((-1,MAX_LC_LEN,1)))\n",
        "    lc_preds = np.argmax(lc_preds_prob, axis=1)\n",
        "    y_lc_test_np = np.array(y_lc_test)\n",
        "    lc_acc = accuracy_score(np.argmax(y_lc_test_np, axis=1), lc_preds)\n",
        "    print(\"LC model test accuracy:\", lc_acc)\n",
        "\n",
        "else:\n",
        "    # إذا لم تتوفر بيانات Light Curves، نتخطى التدريب ونطبع رسالة\n",
        "    print(\"\\nSkipping LSTM+1D-CNN because no lightcurve CSV was provided.\")\n",
        "    print(\"Only XGBoost tabular model will be used.\")\n"
      ],
      "metadata": {
        "colab": {
          "base_uri": "https://localhost:8080/"
        },
        "id": "3xiGKOd4kxXW",
        "outputId": "63b19e49-1706-4373-afb0-12d81895882e"
      },
      "execution_count": 45,
      "outputs": [
        {
          "output_type": "stream",
          "name": "stdout",
          "text": [
            "\n",
            "Skipping LSTM+1D-CNN because no lightcurve CSV was provided.\n",
            "Only XGBoost tabular model will be used.\n"
          ]
        }
      ]
    },
    {
      "cell_type": "code",
      "source": [
        "plt.figure(figsize=(6,4))\n",
        "vals = df['disposition'].value_counts()\n",
        "plt.bar(vals.index.astype(str), vals.values)\n",
        "plt.title(\"TOI class distribution\")\n",
        "plt.ylabel(\"Count\")\n",
        "plt.show()\n"
      ],
      "metadata": {
        "colab": {
          "base_uri": "https://localhost:8080/",
          "height": 391
        },
        "id": "AYAjJBb7lRf3",
        "outputId": "6ec67685-7e40-4bcb-99cc-837bda93b86a"
      },
      "execution_count": 46,
      "outputs": [
        {
          "output_type": "display_data",
          "data": {
            "text/plain": [
              "<Figure size 600x400 with 1 Axes>"
            ],
            "image/png": "[encoded data removed]"
          },
          "metadata": {}
        }
      ]
    },
    {
      "cell_type": "code",
      "source": [
        "for f in ['period','prad','teff']:\n",
        "    if f in df.columns:\n",
        "        plt.figure(figsize=(5,3))\n",
        "        plt.hist(df[f].dropna(), bins=50)\n",
        "        plt.title(f\"Histogram of {f}\")\n",
        "        plt.xlabel(f)\n",
        "        plt.tight_layout()\n",
        "        plt.show()\n"
      ],
      "metadata": {
        "colab": {
          "base_uri": "https://localhost:8080/",
          "height": 887
        },
        "id": "3yA_bcaQlUQX",
        "outputId": "53fe23c4-69c4-4298-f339-cf496b6bea01"
      },
      "execution_count": 47,
      "outputs": [
        {
          "output_type": "display_data",
          "data": {
            "text/plain": [
              "<Figure size 500x300 with 1 Axes>"
            ],
            "image/png": "[encoded data removed]"
          },
          "metadata": {}
        },
        {
          "output_type": "display_data",
          "data": {
            "text/plain": [
              "<Figure size 500x300 with 1 Axes>"
            ],
            "image/png": "[encoded data removed]"
          },
          "metadata": {}
        },
        {
          "output_type": "display_data",
          "data": {
            "text/plain": [
              "<Figure size 500x300 with 1 Axes>"
            ],
            "image/png": "[encoded data removed]"
          },
          "metadata": {}
        }
      ]
    },
    {
      "cell_type": "code",
      "source": [
        "importance = xgb_model.feature_importances_\n",
        "plt.figure(figsize=(8,5))\n",
        "plt.bar(range(len(features)), importance)\n",
        "plt.xticks(range(len(features)), features, rotation=45, ha='right')\n",
        "plt.title(\"XGBoost Feature Importances\")\n",
        "plt.tight_layout()\n",
        "plt.show()\n"
      ],
      "metadata": {
        "colab": {
          "base_uri": "https://localhost:8080/",
          "height": 507
        },
        "id": "JFrpJQ1BlXY2",
        "outputId": "ab530ba7-4979-4fa1-b0af-9c039de7f3e9"
      },
      "execution_count": 48,
      "outputs": [
        {
          "output_type": "display_data",
          "data": {
            "text/plain": [
              "<Figure size 800x500 with 1 Axes>"
            ],
            "image/png": "[encoded data removed]"
          },
          "metadata": {}
        }
      ]
    },
    {
      "cell_type": "code",
      "source": [
        " # ---------------------------\n",
        "# 10) Hybrid: soft-voting (if LC used), else use XGBoost alone\n",
        "# ---------------------------\n",
        "if use_lc:\n",
        "    # Hybrid logic (if using light curves)\n",
        "    print(\"\\nCombining XGBoost + LC via soft voting (average probs)...\")\n",
        "    xgb_probs = xgb_model.predict_proba(X_test)  # shape (n, classes)\n",
        "    lc_probs = lc_model.predict(X_lc_test.reshape((-1,MAX_LC_LEN,1)))\n",
        "    min_n = min(len(xgb_probs), len(lc_probs))\n",
        "    hybrid_probs = (xgb_probs[:min_n] + lc_probs[:min_n]) / 2.0\n",
        "    hybrid_preds = np.argmax(hybrid_probs, axis=1)\n",
        "    hybrid_acc = accuracy_score(y_test[:min_n], hybrid_preds)\n",
        "    print(\"Hybrid (XGB+LC) accuracy (on aligned test subset):\", hybrid_acc)\n",
        "    print(\"\\nHybrid Confusion Matrix:\")\n",
        "    print(confusion_matrix(y_test[:min_n], hybrid_preds))\n",
        "    print(\"\\nClassification Report:\")\n",
        "    print(classification_report(y_test[:min_n], hybrid_preds, target_names=le.classes_))\n",
        "else:\n",
        "    # ---------------------------\n",
        "    # Final predictions with names\n",
        "    # ---------------------------\n",
        "    final_preds = xgb_model.predict(X_test)\n",
        "\n",
        "    # تحويل الأرقام إلى أسماء الفئات باستخدام LabelEncoder\n",
        "    final_preds_names = le.inverse_transform(final_preds)\n",
        "    y_test_names = le.inverse_transform(y_test)\n",
        "\n",
        "    # دقة الاختبار\n",
        "    final_acc = accuracy_score(y_test_names, final_preds_names)\n",
        "    print(\"Final XGBoost accuracy (test):\", final_acc)\n",
        "\n",
        "    # مصفوفة الالتباس\n",
        "    from sklearn.metrics import confusion_matrix, classification_report\n",
        "    print(\"\\nConfusion Matrix:\")\n",
        "    print(confusion_matrix(y_test_names, final_preds_names))\n",
        "\n",
        "    # تقرير التصنيف النهائي (سيظهر Candidate / Confirmed / False Positive)\n",
        "    print(\"\\nClassification Report (Candidate/Confirmed/False Positive):\")\n",
        "    print(classification_report(y_test_names, final_preds_names, target_names=le.classes_))\n",
        "\n"
      ],
      "metadata": {
        "colab": {
          "base_uri": "https://localhost:8080/"
        },
        "id": "Ga1Tun63ll7b",
        "outputId": "9d477588-c35c-4a56-84c2-9702adc7f7d2"
      },
      "execution_count": 55,
      "outputs": [
        {
          "output_type": "stream",
          "name": "stdout",
          "text": [
            "Final XGBoost accuracy (test): 0.6683971447112265\n",
            "\n",
            "Confusion Matrix:\n",
            "[[ 13   3   0  17   2  57]\n",
            " [  3  47   0   8   9  70]\n",
            " [  0   2   0   4   0  14]\n",
            " [ 11   4   0  97   2 125]\n",
            " [  1   6   0   9  35  66]\n",
            " [ 11  25   1  50  11 838]]\n",
            "\n",
            "Classification Report (Candidate/Confirmed/False Positive):\n",
            "              precision    recall  f1-score   support\n",
            "\n",
            "         APC       0.33      0.14      0.20        92\n",
            "          CP       0.54      0.34      0.42       137\n",
            "          FA       0.00      0.00      0.00        20\n",
            "          FP       0.52      0.41      0.46       239\n",
            "          KP       0.59      0.30      0.40       117\n",
            "          PC       0.72      0.90      0.80       936\n",
            "\n",
            "    accuracy                           0.67      1541\n",
            "   macro avg       0.45      0.35      0.38      1541\n",
            "weighted avg       0.63      0.67      0.63      1541\n",
            "\n"
          ]
        }
      ]
    },
    {
      "cell_type": "code",
      "source": [
        "from sklearn.metrics import confusion_matrix, ConfusionMatrixDisplay\n",
        "\n",
        "cm = confusion_matrix(y_test, final_preds)\n",
        "disp = ConfusionMatrixDisplay(confusion_matrix=cm, display_labels=le.classes_)\n",
        "disp.plot(cmap=plt.cm.Blues)\n",
        "plt.title(\"Confusion Matrix\")\n",
        "plt.show()\n"
      ],
      "metadata": {
        "colab": {
          "base_uri": "https://localhost:8080/",
          "height": 472
        },
        "id": "pP_o9ZGcl6gb",
        "outputId": "a9ebb256-eb87-422b-ac80-80b7fd630b98"
      },
      "execution_count": 51,
      "outputs": [
        {
          "output_type": "display_data",
          "data": {
            "text/plain": [
              "<Figure size 640x480 with 2 Axes>"
            ],
            "image/png": "[encoded data removed]"
          },
          "metadata": {}
        }
      ]
    },
    {
      "cell_type": "code",
      "source": [
        "# ---------------------------\n",
        "# 11) Save final artifacts\n",
        "# ---------------------------\n",
        "print(\"\\nSaving artifacts...\")\n",
        "joblib.dump(xgb_model, \"toi_xgb_model.pkl\")\n",
        "joblib.dump(scaler, \"toi_scaler.pkl\")\n",
        "joblib.dump(le, \"toi_label_encoder.pkl\")\n",
        "if use_lc:\n",
        "    lc_model.save(\"toi_lc_model.h5\")\n",
        "print(\"Saved models and preprocessing objects to disk.\")"
      ],
      "metadata": {
        "colab": {
          "base_uri": "https://localhost:8080/"
        },
        "id": "1RU7mmm9l_Zt",
        "outputId": "02a1f767-b081-4427-d103-7d655e1c2021"
      },
      "execution_count": 52,
      "outputs": [
        {
          "output_type": "stream",
          "name": "stdout",
          "text": [
            "\n",
            "Saving artifacts...\n",
            "Saved models and preprocessing objects to disk.\n"
          ]
        }
      ]
    },
    {
      "cell_type": "code",
      "source": [
        "# Plot histograms of a few numeric features\n",
        "for f in ['period','prad','teff']:\n",
        "    if f in df.columns:\n",
        "        plt.figure(figsize=(5,3))\n",
        "        plt.hist(df[f].dropna(), bins=50)\n",
        "        plt.title(f\"Histogram of {f}\")\n",
        "        plt.xlabel(f)\n",
        "        plt.tight_layout()\n",
        "        plt.show()\n",
        "\n",
        "print(\"\\nAll done. If you want to run predictions on new TOI rows, load 'toi_scaler.pkl' and model 'toi_xgb_model.pkl'.\")"
      ],
      "metadata": {
        "colab": {
          "base_uri": "https://localhost:8080/",
          "height": 922
        },
        "id": "Vi20cUasmFPD",
        "outputId": "c44c85e3-28f0-44c5-d7d5-d198142f0c79"
      },
      "execution_count": 53,
      "outputs": [
        {
          "output_type": "display_data",
          "data": {
            "text/plain": [
              "<Figure size 500x300 with 1 Axes>"
            ],
            "image/png": "[encoded data removed]"
          },
          "metadata": {}
        },
        {
          "output_type": "display_data",
          "data": {
            "text/plain": [
              "<Figure size 500x300 with 1 Axes>"
            ],
            "image/png": "[encoded data removed]"
          },
          "metadata": {}
        },
        {
          "output_type": "display_data",
          "data": {
            "text/plain": [
              "<Figure size 500x300 with 1 Axes>"
            ],
            "image/png": "[encoded data removed]"
          },
          "metadata": {}
        },
        {
          "output_type": "stream",
          "name": "stdout",
          "text": [
            "\n",
            "All done. If you want to run predictions on new TOI rows, load 'toi_scaler.pkl' and model 'toi_xgb_model.pkl'.\n"
          ]
        }
      ]
    },
    {
      "cell_type": "code",
      "source": [
        "import numpy as np\n",
        "import pandas as pd\n",
        "import joblib\n",
        "\n",
        "# 1) تحميل النماذج وملفات المعالجة\n",
        "xgb_model = joblib.load(\"toi_xgb_model.pkl\")\n",
        "scaler = joblib.load(\"toi_scaler.pkl\")\n",
        "imputer = joblib.load(\"toi_imputer.pkl\")\n",
        "le = joblib.load(\"toi_label_encoder.pkl\")\n",
        "\n",
        "# 2) ادخال البيانات الجديدة يدوياً\n",
        "# يجب أن تكون بنفس ترتيب الميزات المستخدمة أثناء التدريب\n",
        "new_data = {\n",
        "    'period': [3.14],\n",
        "    'duration': [2.5],\n",
        "    'prad': [1.2],\n",
        "    'teff': [5500],\n",
        "    'logg': [4.5],\n",
        "    'srad': [1.0],\n",
        "    'mag': [10.5],\n",
        "    'radius_ratio': [1.2/1.0],\n",
        "    'orbital_density': [1.2/3.14]\n",
        "}\n",
        "df_new = pd.DataFrame(new_data)\n",
        "\n",
        "# 3) معالجة البيانات مثل التدريب\n",
        "X_new = imputer.transform(df_new)\n",
        "X_new = scaler.transform(X_new)\n",
        "\n",
        "# 4) التنبؤ باستخدام XGBoost\n",
        "pred_encoded = xgb_model.predict(X_new)\n",
        "pred_prob = xgb_model.predict_proba(X_new)\n",
        "\n",
        "# 5) تحويل الرموز إلى الفئات الثلاثة الواضحة\n",
        "symbol_to_class = {\n",
        "    'PC': 'Candidate',\n",
        "    'CP': 'Confirmed',\n",
        "    'FP': 'False Positive',\n",
        "    'APC': 'Candidate',\n",
        "    'FA': 'False Positive',\n",
        "    'KP': 'Candidate'\n",
        "}\n",
        "pred_name = le.inverse_transform(pred_encoded)\n",
        "pred_class_readable = [symbol_to_class.get(sym, sym) for sym in pred_name]\n",
        "\n",
        "# 6) الحصول على أعلى احتمال\n",
        "top_prob_idx = np.argmax(pred_prob, axis=1)[0]\n",
        "top_prob = pred_prob[0][top_prob_idx]\n",
        "\n",
        "# 7) عرض النتائج بشكل جدول مبسط\n",
        "result_df = pd.DataFrame({\n",
        "    'Predicted Class': pred_class_readable,\n",
        "    'Probability': [top_prob]\n",
        "})\n",
        "\n",
        "print(\"\\nPrediction Result:\")\n",
        "display(result_df)\n"
      ],
      "metadata": {
        "colab": {
          "base_uri": "https://localhost:8080/",
          "height": 124
        },
        "id": "sp_GW8V3shQV",
        "outputId": "4123c16b-190f-4f2d-b221-6cd0dd54f119"
      },
      "execution_count": 59,
      "outputs": [
        {
          "output_type": "stream",
          "name": "stdout",
          "text": [
            "\n",
            "Prediction Result:\n"
          ]
        },
        {
          "output_type": "display_data",
          "data": {
            "text/plain": [
              "  Predicted Class  Probability\n",
              "0       Candidate     0.835566"
            ],
            "text/html": [
              "\n",
              "  <div id=\"df-26535ff1-0be9-4548-8d91-218075119891\" class=\"colab-df-container\">\n",
              "    <div>\n",
              "<style scoped>\n",
              "    .dataframe tbody tr th:only-of-type {\n",
              "        vertical-align: middle;\n",
              "    }\n",
              "\n",
              "    .dataframe tbody tr th {\n",
              "        vertical-align: top;\n",
              "    }\n",
              "\n",
              "    .dataframe thead th {\n",
              "        text-align: right;\n",
              "    }\n",
              "</style>\n",
              "<table border=\"1\" class=\"dataframe\">\n",
              "  <thead>\n",
              "    <tr style=\"text-align: right;\">\n",
              "      <th></th>\n",
              "      <th>Predicted Class</th>\n",
              "      <th>Probability</th>\n",
              "    </tr>\n",
              "  </thead>\n",
              "  <tbody>\n",
              "    <tr>\n",
              "      <th>0</th>\n",
              "      <td>Candidate</td>\n",
              "      <td>0.835566</td>\n",
              "    </tr>\n",
              "  </tbody>\n",
              "</table>\n",
              "</div>\n",
              "    <div class=\"colab-df-buttons\">\n",
              "\n",
              "  <div class=\"colab-df-container\">\n",
              "    <button class=\"colab-df-convert\" onclick=\"convertToInteractive('df-26535ff1-0be9-4548-8d91-218075119891')\"\n",
              "            title=\"Convert this dataframe to an interactive table.\"\n",
              "            style=\"display:none;\">\n",
              "\n",
              "  <svg xmlns=\"http://www.w3.org/2000/svg\" height=\"24px\" viewBox=\"0 -960 960 960\">\n",
              "    <path d=\"M120-120v-720h720v720H120Zm60-500h600v-160H180v160Zm220 220h160v-160H400v160Zm0 220h160v-160H400v160ZM180-400h160v-160H180v160Zm440 0h160v-160H620v160ZM180-180h160v-160H180v160Zm440 0h160v-160H620v160Z\"/>\n",
              "  </svg>\n",
              "    </button>\n",
              "\n",
              "  <style>\n",
              "    .colab-df-container {\n",
              "      display:flex;\n",
              "      gap: 12px;\n",
              "    }\n",
              "\n",
              "    .colab-df-convert {\n",
              "      background-color: #E8F0FE;\n",
              "      border: none;\n",
              "      border-radius: 50%;\n",
              "      cursor: pointer;\n",
              "      display: none;\n",
              "      fill: #1967D2;\n",
              "      height: 32px;\n",
              "      padding: 0 0 0 0;\n",
              "      width: 32px;\n",
              "    }\n",
              "\n",
              "    .colab-df-convert:hover {\n",
              "      background-color: #E2EBFA;\n",
              "      box-shadow: 0px 1px 2px rgba(60, 64, 67, 0.3), 0px 1px 3px 1px rgba(60, 64, 67, 0.15);\n",
              "      fill: #174EA6;\n",
              "    }\n",
              "\n",
              "    .colab-df-buttons div {\n",
              "      margin-bottom: 4px;\n",
              "    }\n",
              "\n",
              "    [theme=dark] .colab-df-convert {\n",
              "      background-color: #3B4455;\n",
              "      fill: #D2E3FC;\n",
              "    }\n",
              "\n",
              "    [theme=dark] .colab-df-convert:hover {\n",
              "      background-color: #434B5C;\n",
              "      box-shadow: 0px 1px 3px 1px rgba(0, 0, 0, 0.15);\n",
              "      filter: drop-shadow(0px 1px 2px rgba(0, 0, 0, 0.3));\n",
              "      fill: #FFFFFF;\n",
              "    }\n",
              "  </style>\n",
              "\n",
              "    <script>\n",
              "      const buttonEl =\n",
              "        document.querySelector('#df-26535ff1-0be9-4548-8d91-218075119891 button.colab-df-convert');\n",
              "      buttonEl.style.display =\n",
              "        google.colab.kernel.accessAllowed ? 'block' : 'none';\n",
              "\n",
              "      async function convertToInteractive(key) {\n",
              "        const element = document.querySelector('#df-26535ff1-0be9-4548-8d91-218075119891');\n",
              "        const dataTable =\n",
              "          await google.colab.kernel.invokeFunction('convertToInteractive',\n",
              "                                                    [key], {});\n",
              "        if (!dataTable) return;\n",
              "\n",
              "        const docLinkHtml = 'Like what you see? Visit the ' +\n",
              "          '<a target=\"_blank\" href=https://colab.research.google.com/notebooks/data_table.ipynb>data table notebook</a>'\n",
              "          + ' to learn more about interactive tables.';\n",
              "        element.innerHTML = '';\n",
              "        dataTable['output_type'] = 'display_data';\n",
              "        await google.colab.output.renderOutput(dataTable, element);\n",
              "        const docLink = document.createElement('div');\n",
              "        docLink.innerHTML = docLinkHtml;\n",
              "        element.appendChild(docLink);\n",
              "      }\n",
              "    </script>\n",
              "  </div>\n",
              "\n",
              "\n",
              "  <div id=\"id_3b489d58-13cb-4669-b9fc-aedd51f89d6b\">\n",
              "    <style>\n",
              "      .colab-df-generate {\n",
              "        background-color: #E8F0FE;\n",
              "        border: none;\n",
              "        border-radius: 50%;\n",
              "        cursor: pointer;\n",
              "        display: none;\n",
              "        fill: #1967D2;\n",
              "        height: 32px;\n",
              "        padding: 0 0 0 0;\n",
              "        width: 32px;\n",
              "      }\n",
              "\n",
              "      .colab-df-generate:hover {\n",
              "        background-color: #E2EBFA;\n",
              "        box-shadow: 0px 1px 2px rgba(60, 64, 67, 0.3), 0px 1px 3px 1px rgba(60, 64, 67, 0.15);\n",
              "        fill: #174EA6;\n",
              "      }\n",
              "\n",
              "      [theme=dark] .colab-df-generate {\n",
              "        background-color: #3B4455;\n",
              "        fill: #D2E3FC;\n",
              "      }\n",
              "\n",
              "      [theme=dark] .colab-df-generate:hover {\n",
              "        background-color: #434B5C;\n",
              "        box-shadow: 0px 1px 3px 1px rgba(0, 0, 0, 0.15);\n",
              "        filter: drop-shadow(0px 1px 2px rgba(0, 0, 0, 0.3));\n",
              "        fill: #FFFFFF;\n",
              "      }\n",
              "    </style>\n",
              "    <button class=\"colab-df-generate\" onclick=\"generateWithVariable('result_df')\"\n",
              "            title=\"Generate code using this dataframe.\"\n",
              "            style=\"display:none;\">\n",
              "\n",
              "  <svg xmlns=\"http://www.w3.org/2000/svg\" height=\"24px\"viewBox=\"0 0 24 24\"\n",
              "       width=\"24px\">\n",
              "    <path d=\"M7,19H8.4L18.45,9,17,7.55,7,17.6ZM5,21V16.75L18.45,3.32a2,2,0,0,1,2.83,0l1.4,1.43a1.91,1.91,0,0,1,.58,1.4,1.91,1.91,0,0,1-.58,1.4L9.25,21ZM18.45,9,17,7.55Zm-12,3A5.31,5.31,0,0,0,4.9,8.1,5.31,5.31,0,0,0,1,6.5,5.31,5.31,0,0,0,4.9,4.9,5.31,5.31,0,0,0,6.5,1,5.31,5.31,0,0,0,8.1,4.9,5.31,5.31,0,0,0,12,6.5,5.46,5.46,0,0,0,6.5,12Z\"/>\n",
              "  </svg>\n",
              "    </button>\n",
              "    <script>\n",
              "      (() => {\n",
              "      const buttonEl =\n",
              "        document.querySelector('#id_3b489d58-13cb-4669-b9fc-aedd51f89d6b button.colab-df-generate');\n",
              "      buttonEl.style.display =\n",
              "        google.colab.kernel.accessAllowed ? 'block' : 'none';\n",
              "\n",
              "      buttonEl.onclick = () => {\n",
              "        google.colab.notebook.generateWithVariable('result_df');\n",
              "      }\n",
              "      })();\n",
              "    </script>\n",
              "  </div>\n",
              "\n",
              "    </div>\n",
              "  </div>\n"
            ],
            "application/vnd.google.colaboratory.intrinsic+json": {
              "type": "dataframe",
              "variable_name": "result_df",
              "summary": "{\n  \"name\": \"result_df\",\n  \"rows\": 1,\n  \"fields\": [\n    {\n      \"column\": \"Predicted Class\",\n      \"properties\": {\n        \"dtype\": \"string\",\n        \"num_unique_values\": 1,\n        \"samples\": [\n          \"Candidate\"\n        ],\n        \"semantic_type\": \"\",\n        \"description\": \"\"\n      }\n    },\n    {\n      \"column\": \"Probability\",\n      \"properties\": {\n        \"dtype\": \"float32\",\n        \"num_unique_values\": 1,\n        \"samples\": [\n          0.8355661034584045\n        ],\n        \"semantic_type\": \"\",\n        \"description\": \"\"\n      }\n    }\n  ]\n}"
            }
          },
          "metadata": {}
        }
      ]
    },
    {
      "cell_type": "code",
      "source": [
        "# 1) تحميل النماذج وملفات المعالجة\n",
        "xgb_model = joblib.load(\"toi_xgb_model.pkl\")\n",
        "scaler = joblib.load(\"toi_scaler.pkl\")\n",
        "imputer = joblib.load(\"toi_imputer.pkl\")\n",
        "le = joblib.load(\"toi_label_encoder.pkl\")\n",
        "# اختيار صفوف فعلية لكل فئة\n",
        "candidate_row = df[df['disposition'] == 'PC'].iloc[0][features]\n",
        "confirmed_row = df[df['disposition'] == 'CP'].iloc[0][features]\n",
        "false_row = df[df['disposition'] == 'FP'].iloc[0][features]\n",
        "\n",
        "new_data = pd.DataFrame([candidate_row, confirmed_row, false_row])\n",
        "\n",
        "# المعالجة والتنبؤ\n",
        "X_new = imputer.transform(new_data)\n",
        "X_new = scaler.transform(X_new)\n",
        "pred_encoded = xgb_model.predict(X_new)\n",
        "pred_name = le.inverse_transform(pred_encoded)\n",
        "symbol_to_class = {\n",
        "    'PC': 'Candidate',\n",
        "    'CP': 'Confirmed',\n",
        "    'FP': 'False Positive',\n",
        "    'APC': 'Candidate',\n",
        "    'FA': 'False Positive',\n",
        "    'KP': 'Candidate'\n",
        "}\n",
        "pred_class_readable = [symbol_to_class.get(sym, sym) for sym in pred_name]\n",
        "\n",
        "for inp, cls in zip(['Candidate', 'Confirmed', 'False Positive'], pred_class_readable):\n",
        "    print(f\"Input example ({inp}) -> Predicted: {cls}\")"
      ],
      "metadata": {
        "colab": {
          "base_uri": "https://localhost:8080/"
        },
        "id": "pxM5fRfAvTke",
        "outputId": "19c9a90a-ed1b-42ef-d533-6b0839f33fa9"
      },
      "execution_count": 62,
      "outputs": [
        {
          "output_type": "stream",
          "name": "stdout",
          "text": [
            "Input example (Candidate) -> Predicted: Candidate\n",
            "Input example (Confirmed) -> Predicted: Confirmed\n",
            "Input example (False Positive) -> Predicted: False Positive\n"
          ]
        }
      ]
    },
    {
      "cell_type": "code",
      "source": [
        "import pandas as pd\n",
        "import numpy as np\n",
        "import joblib\n",
        "from sklearn.metrics import accuracy_score, confusion_matrix, classification_report\n",
        "\n",
        "# ---------------------------\n",
        "# 1) تحميل نموذج XGBoost وملفات المعالجة\n",
        "# ---------------------------\n",
        "xgb_model = joblib.load(\"toi_xgb_model.pkl\")\n",
        "scaler = joblib.load(\"toi_scaler.pkl\")\n",
        "imputer = joblib.load(\"toi_imputer.pkl\")\n",
        "le = joblib.load(\"toi_label_encoder.pkl\")\n",
        "\n",
        "# ---------------------------\n",
        "# 2) تحميل بيانات TOI (أو أي CSV لديك)\n",
        "# ---------------------------\n",
        "TOI_TAP_CSV = \"https://exoplanetarchive.ipac.caltech.edu/TAP/sync?query=select+*+from+toi&format=csv\"\n",
        "df_toi = pd.read_csv(TOI_TAP_CSV, comment='#', low_memory=False)\n",
        "\n",
        "# ---------------------------\n",
        "# 3) إعادة تسمية الأعمدة لتتطابق مع ما تدرب عليه النموذج\n",
        "# ---------------------------\n",
        "df_toi = df_toi.rename(columns={\n",
        "    'pl_orbper': 'period',\n",
        "    'pl_trandurh': 'duration',\n",
        "    'pl_rade': 'prad',\n",
        "    'st_teff': 'teff',\n",
        "    'st_logg': 'logg',\n",
        "    'st_rad': 'srad',\n",
        "    'st_tmag': 'mag'\n",
        "})\n",
        "\n",
        "# ---------------------------\n",
        "# 4) حساب المتغيرات المشتقة\n",
        "# ---------------------------\n",
        "df_toi['radius_ratio'] = df_toi['prad'] / df_toi['srad']\n",
        "df_toi['orbital_density'] = df_toi['prad'] / df_toi['period']\n",
        "\n",
        "# ---------------------------\n",
        "# 5) اختيار صفوف اختبارية لكل فئة رئيسية\n",
        "# ---------------------------\n",
        "target_candidates = ['PC','CP','FP']\n",
        "df_test_examples = df_toi[df_toi['tfopwg_disp'].isin(target_candidates)]\n",
        "\n",
        "# نأخذ مثال واحد من كل فئة\n",
        "examples = []\n",
        "for cat in target_candidates:\n",
        "    row = df_test_examples[df_test_examples['tfopwg_disp']==cat].head(1)\n",
        "    if not row.empty:\n",
        "        examples.append(row)\n",
        "df_test = pd.concat(examples)\n",
        "\n",
        "# ---------------------------\n",
        "# 6) تجهيز البيانات للـ XGBoost\n",
        "# ---------------------------\n",
        "features_final = ['period','duration','prad','teff','logg','srad','mag','radius_ratio','orbital_density']\n",
        "X_test = df_test[features_final].copy()\n",
        "\n",
        "# معالجة القيم الناقصة وقياس البيانات\n",
        "X_test = imputer.transform(X_test)\n",
        "X_test = scaler.transform(X_test)\n",
        "\n",
        "# ---------------------------\n",
        "# 7) التنبؤ بالتصنيف\n",
        "# ---------------------------\n",
        "pred_encoded = xgb_model.predict(X_test)\n",
        "pred_prob = xgb_model.predict_proba(X_test)\n",
        "\n",
        "# تحويل الرموز إلى أسماء مفهومة\n",
        "symbol_to_class = {\n",
        "    'PC': 'Candidate',\n",
        "    'CP': 'Confirmed',\n",
        "    'FP': 'False Positive',\n",
        "    'APC': 'Candidate',\n",
        "    'FA': 'False Positive',\n",
        "    'KP': 'Candidate'\n",
        "}\n",
        "\n",
        "pred_names = le.inverse_transform(pred_encoded)\n",
        "pred_class_readable = [symbol_to_class.get(sym, sym) for sym in pred_names]\n",
        "\n",
        "# ---------------------------\n",
        "# 8) عرض النتائج مع الاحتمالات\n",
        "# ---------------------------\n",
        "for i, idx in enumerate(df_test.index):\n",
        "    print(f\"\\nInput example (original disposition: {df_test.loc[idx,'tfopwg_disp']}) -> Predicted: {pred_class_readable[i]}\")\n",
        "    print(\"Class probabilities:\")\n",
        "    for cls, prob in zip(le.classes_, pred_prob[i]):\n",
        "        readable = symbol_to_class.get(cls, cls)\n",
        "        print(f\"  {readable}: {prob:.3f}\")\n"
      ],
      "metadata": {
        "colab": {
          "base_uri": "https://localhost:8080/"
        },
        "id": "rNN-kiDTyJXP",
        "outputId": "7bf8b22b-e8d9-4f7c-ddec-a829af475882"
      },
      "execution_count": 65,
      "outputs": [
        {
          "output_type": "stream",
          "name": "stdout",
          "text": [
            "\n",
            "Input example (original disposition: PC) -> Predicted: Candidate\n",
            "Class probabilities:\n",
            "  Candidate: 0.009\n",
            "  Confirmed: 0.071\n",
            "  False Positive: 0.002\n",
            "  False Positive: 0.035\n",
            "  Candidate: 0.040\n",
            "  Candidate: 0.844\n",
            "\n",
            "Input example (original disposition: CP) -> Predicted: Confirmed\n",
            "Class probabilities:\n",
            "  Candidate: 0.009\n",
            "  Confirmed: 0.614\n",
            "  False Positive: 0.005\n",
            "  False Positive: 0.014\n",
            "  Candidate: 0.018\n",
            "  Candidate: 0.340\n",
            "\n",
            "Input example (original disposition: FP) -> Predicted: False Positive\n",
            "Class probabilities:\n",
            "  Candidate: 0.027\n",
            "  Confirmed: 0.012\n",
            "  False Positive: 0.005\n",
            "  False Positive: 0.690\n",
            "  Candidate: 0.021\n",
            "  Candidate: 0.244\n"
          ]
        }
      ]
    }
  ]
}