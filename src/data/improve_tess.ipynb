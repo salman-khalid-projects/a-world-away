{
  "nbformat": 4,
  "nbformat_minor": 0,
  "metadata": {
    "colab": {
      "provenance": []
    },
    "kernelspec": {
      "name": "python3",
      "display_name": "Python 3"
    },
    "language_info": {
      "name": "python"
    }
  },
  "cells": [
    {
      "cell_type": "code",
      "source": [
        "#إحنا عندنا مشكلة إن ملفات TrES (وأحيانًا XO أو بعض الـ datasets المشابهة) ما فيها عمود flux مثل Kepler/TESS.\n",
        "import pandas as pd\n",
        "import numpy as np\n",
        "import matplotlib.pyplot as plt\n",
        "from sklearn.model_selection import train_test_split\n",
        "from sklearn.preprocessing import LabelEncoder, StandardScaler\n",
        "from sklearn.metrics import classification_report, confusion_matrix\n",
        "import tensorflow as tf\n",
        "from tensorflow.keras.models import Sequential\n",
        "from tensorflow.keras.layers import LSTM, Dense, Dropout\n"
      ],
      "metadata": {
        "id": "UWpgaIH0qtvf"
      },
      "execution_count": 2,
      "outputs": []
    },
    {
      "cell_type": "code",
      "source": [
        "from google.colab import files\n",
        "import pandas as pd\n",
        "import io\n",
        "\n",
        "uploaded = files.upload()  # سيفتح نافذة لاختيار الملفات من جهازك\n",
        "\n",
        ""
      ],
      "metadata": {
        "colab": {
          "base_uri": "https://localhost:8080/",
          "height": 73
        },
        "id": "kcLBQ1tp5oet",
        "outputId": "c54dbd51-4f0d-4e85-c22e-e3ee8427b9a7"
      },
      "execution_count": 3,
      "outputs": [
        {
          "output_type": "display_data",
          "data": {
            "text/plain": [
              "<IPython.core.display.HTML object>"
            ],
            "text/html": [
              "\n",
              "     <input type=\"file\" id=\"files-fd3b42fa-9e8f-4e90-b4b8-2959bb78c542\" name=\"files[]\" multiple disabled\n",
              "        style=\"border:none\" />\n",
              "     <output id=\"result-fd3b42fa-9e8f-4e90-b4b8-2959bb78c542\">\n",
              "      Upload widget is only available when the cell has been executed in the\n",
              "      current browser session. Please rerun this cell to enable.\n",
              "      </output>\n",
              "      <script>// Copyright 2017 Google LLC\n",
              "//\n",
              "// Licensed under the Apache License, Version 2.0 (the \"License\");\n",
              "// you may not use this file except in compliance with the License.\n",
              "// You may obtain a copy of the License at\n",
              "//\n",
              "//      http://www.apache.org/licenses/LICENSE-2.0\n",
              "//\n",
              "// Unless required by applicable law or agreed to in writing, software\n",
              "// distributed under the License is distributed on an \"AS IS\" BASIS,\n",
              "// WITHOUT WARRANTIES OR CONDITIONS OF ANY KIND, either express or implied.\n",
              "// See the License for the specific language governing permissions and\n",
              "// limitations under the License.\n",
              "\n",
              "/**\n",
              " * @fileoverview Helpers for google.colab Python module.\n",
              " */\n",
              "(function(scope) {\n",
              "function span(text, styleAttributes = {}) {\n",
              "  const element = document.createElement('span');\n",
              "  element.textContent = text;\n",
              "  for (const key of Object.keys(styleAttributes)) {\n",
              "    element.style[key] = styleAttributes[key];\n",
              "  }\n",
              "  return element;\n",
              "}\n",
              "\n",
              "// Max number of bytes which will be uploaded at a time.\n",
              "const MAX_PAYLOAD_SIZE = 100 * 1024;\n",
              "\n",
              "function _uploadFiles(inputId, outputId) {\n",
              "  const steps = uploadFilesStep(inputId, outputId);\n",
              "  const outputElement = document.getElementById(outputId);\n",
              "  // Cache steps on the outputElement to make it available for the next call\n",
              "  // to uploadFilesContinue from Python.\n",
              "  outputElement.steps = steps;\n",
              "\n",
              "  return _uploadFilesContinue(outputId);\n",
              "}\n",
              "\n",
              "// This is roughly an async generator (not supported in the browser yet),\n",
              "// where there are multiple asynchronous steps and the Python side is going\n",
              "// to poll for completion of each step.\n",
              "// This uses a Promise to block the python side on completion of each step,\n",
              "// then passes the result of the previous step as the input to the next step.\n",
              "function _uploadFilesContinue(outputId) {\n",
              "  const outputElement = document.getElementById(outputId);\n",
              "  const steps = outputElement.steps;\n",
              "\n",
              "  const next = steps.next(outputElement.lastPromiseValue);\n",
              "  return Promise.resolve(next.value.promise).then((value) => {\n",
              "    // Cache the last promise value to make it available to the next\n",
              "    // step of the generator.\n",
              "    outputElement.lastPromiseValue = value;\n",
              "    return next.value.response;\n",
              "  });\n",
              "}\n",
              "\n",
              "/**\n",
              " * Generator function which is called between each async step of the upload\n",
              " * process.\n",
              " * @param {string} inputId Element ID of the input file picker element.\n",
              " * @param {string} outputId Element ID of the output display.\n",
              " * @return {!Iterable<!Object>} Iterable of next steps.\n",
              " */\n",
              "function* uploadFilesStep(inputId, outputId) {\n",
              "  const inputElement = document.getElementById(inputId);\n",
              "  inputElement.disabled = false;\n",
              "\n",
              "  const outputElement = document.getElementById(outputId);\n",
              "  outputElement.innerHTML = '';\n",
              "\n",
              "  const pickedPromise = new Promise((resolve) => {\n",
              "    inputElement.addEventListener('change', (e) => {\n",
              "      resolve(e.target.files);\n",
              "    });\n",
              "  });\n",
              "\n",
              "  const cancel = document.createElement('button');\n",
              "  inputElement.parentElement.appendChild(cancel);\n",
              "  cancel.textContent = 'Cancel upload';\n",
              "  const cancelPromise = new Promise((resolve) => {\n",
              "    cancel.onclick = () => {\n",
              "      resolve(null);\n",
              "    };\n",
              "  });\n",
              "\n",
              "  // Wait for the user to pick the files.\n",
              "  const files = yield {\n",
              "    promise: Promise.race([pickedPromise, cancelPromise]),\n",
              "    response: {\n",
              "      action: 'starting',\n",
              "    }\n",
              "  };\n",
              "\n",
              "  cancel.remove();\n",
              "\n",
              "  // Disable the input element since further picks are not allowed.\n",
              "  inputElement.disabled = true;\n",
              "\n",
              "  if (!files) {\n",
              "    return {\n",
              "      response: {\n",
              "        action: 'complete',\n",
              "      }\n",
              "    };\n",
              "  }\n",
              "\n",
              "  for (const file of files) {\n",
              "    const li = document.createElement('li');\n",
              "    li.append(span(file.name, {fontWeight: 'bold'}));\n",
              "    li.append(span(\n",
              "        `(${file.type || 'n/a'}) - ${file.size} bytes, ` +\n",
              "        `last modified: ${\n",
              "            file.lastModifiedDate ? file.lastModifiedDate.toLocaleDateString() :\n",
              "                                    'n/a'} - `));\n",
              "    const percent = span('0% done');\n",
              "    li.appendChild(percent);\n",
              "\n",
              "    outputElement.appendChild(li);\n",
              "\n",
              "    const fileDataPromise = new Promise((resolve) => {\n",
              "      const reader = new FileReader();\n",
              "      reader.onload = (e) => {\n",
              "        resolve(e.target.result);\n",
              "      };\n",
              "      reader.readAsArrayBuffer(file);\n",
              "    });\n",
              "    // Wait for the data to be ready.\n",
              "    let fileData = yield {\n",
              "      promise: fileDataPromise,\n",
              "      response: {\n",
              "        action: 'continue',\n",
              "      }\n",
              "    };\n",
              "\n",
              "    // Use a chunked sending to avoid message size limits. See b/62115660.\n",
              "    let position = 0;\n",
              "    do {\n",
              "      const length = Math.min(fileData.byteLength - position, MAX_PAYLOAD_SIZE);\n",
              "      const chunk = new Uint8Array(fileData, position, length);\n",
              "      position += length;\n",
              "\n",
              "      const base64 = btoa(String.fromCharCode.apply(null, chunk));\n",
              "      yield {\n",
              "        response: {\n",
              "          action: 'append',\n",
              "          file: file.name,\n",
              "          data: base64,\n",
              "        },\n",
              "      };\n",
              "\n",
              "      let percentDone = fileData.byteLength === 0 ?\n",
              "          100 :\n",
              "          Math.round((position / fileData.byteLength) * 100);\n",
              "      percent.textContent = `${percentDone}% done`;\n",
              "\n",
              "    } while (position < fileData.byteLength);\n",
              "  }\n",
              "\n",
              "  // All done.\n",
              "  yield {\n",
              "    response: {\n",
              "      action: 'complete',\n",
              "    }\n",
              "  };\n",
              "}\n",
              "\n",
              "scope.google = scope.google || {};\n",
              "scope.google.colab = scope.google.colab || {};\n",
              "scope.google.colab._files = {\n",
              "  _uploadFiles,\n",
              "  _uploadFilesContinue,\n",
              "};\n",
              "})(self);\n",
              "</script> "
            ]
          },
          "metadata": {}
        },
        {
          "output_type": "stream",
          "name": "stdout",
          "text": [
            "Saving TrES_2025.10.02_15.16.17.csv to TrES_2025.10.02_15.16.17.csv\n"
          ]
        }
      ]
    },
    {
      "cell_type": "code",
      "source": [
        "df = pd.read_csv(\"TrES_2025.10.02_15.16.17.csv\", sep=\"\\t\")\n",
        "print(\"الأعمدة المتوفرة:\", df.columns)\n",
        "print(df.head())"
      ],
      "metadata": {
        "colab": {
          "base_uri": "https://localhost:8080/"
        },
        "id": "o1o0cwN6rGNo",
        "outputId": "1ee2b1ec-e120-4ff9-93de-b0ae1c4d7009"
      },
      "execution_count": 5,
      "outputs": [
        {
          "output_type": "stream",
          "name": "stdout",
          "text": [
            "الأعمدة المتوفرة: Index(['# This file was produced by the NASA Exoplanet Archive  http://exoplanetarchive.ipac.caltech.edu'], dtype='object')\n",
            "  # This file was produced by the NASA Exoplanet Archive  http://exoplanetarchive.ipac.caltech.edu\n",
            "0                         # Thu Oct  2 15:16:17 2025                                              \n",
            "1                                                  #                                              \n",
            "2                   # COLUMN star_id:        Star ID                                              \n",
            "3      # COLUMN region:         Part of Sky Surveyed                                              \n",
            "4                  # COLUMN ra:             RA [deg]                                              \n"
          ]
        }
      ]
    },
    {
      "cell_type": "code",
      "source": [
        "# ==============================\n",
        "# 2) توليد عمود flux من magnitude\n",
        "# ==============================\n",
        "if \"rmag\" in df.columns:\n",
        "    df[\"flux\"] = 10**(-0.4 * df[\"rmag\"])\n",
        "elif \"vmag\" in df.columns:\n",
        "    df[\"flux\"] = 10**(-0.4 * df[\"vmag\"])\n",
        "else:\n",
        "    df[\"flux\"] = np.random.rand(len(df))  # لو مافيش mag نولد عشوائي"
      ],
      "metadata": {
        "id": "KsRSLj1wrPFX"
      },
      "execution_count": 6,
      "outputs": []
    },
    {
      "cell_type": "code",
      "source": [
        "import pandas as pd\n",
        "\n",
        "df_preview = pd.read_csv(\"TrES_2025.10.02_15.16.17.csv\", header=None, nrows=5)\n",
        "print(df_preview)\n"
      ],
      "metadata": {
        "colab": {
          "base_uri": "https://localhost:8080/"
        },
        "outputId": "79c27df5-a270-44eb-81db-fc0b7133b08e",
        "id": "rUgoNCHttJj9"
      },
      "execution_count": 17,
      "outputs": [
        {
          "output_type": "stream",
          "name": "stdout",
          "text": [
            "                                                   0\n",
            "0  # This file was produced by the NASA Exoplanet...\n",
            "1                         # Thu Oct  2 15:16:17 2025\n",
            "2                                                  #\n",
            "3                   # COLUMN star_id:        Star ID\n",
            "4      # COLUMN region:         Part of Sky Surveyed\n"
          ]
        }
      ]
    },
    {
      "cell_type": "code",
      "source": [
        "import pandas as pd\n",
        "\n",
        "df = pd.read_csv(\"TrES_2025.10.02_15.16.17.csv\", comment='#')\n",
        "print(df.head())\n"
      ],
      "metadata": {
        "colab": {
          "base_uri": "https://localhost:8080/"
        },
        "id": "0D3lnLDbuGGv",
        "outputId": "89c97284-a732-4b3e-b4c3-4ffd289faaa4"
      },
      "execution_count": 19,
      "outputs": [
        {
          "output_type": "stream",
          "name": "stdout",
          "text": [
            "           star_id     region        ra      dec    starthjd      endhjd  \\\n",
            "0  TrES_Lyr1_00001  TrES_Lyr1  281.5508  44.1361  2453541.79  2453616.73   \n",
            "1  TrES_Lyr1_00002  TrES_Lyr1  281.2400  44.3592  2453541.79  2453616.73   \n",
            "2  TrES_Lyr1_00003  TrES_Lyr1  281.5725  44.1500  2453541.79  2453616.73   \n",
            "3  TrES_Lyr1_00004  TrES_Lyr1  289.1513  49.7128  2453549.75  2453611.95   \n",
            "4  TrES_Lyr1_00005  TrES_Lyr1  287.8971  49.7703  2453549.75  2453611.95   \n",
            "\n",
            "     bmag   vmag    rmag   rerr lcfil   npts  \n",
            "0   8.333  8.110   9.251  0.135     R  11398  \n",
            "1   8.856  8.361   9.407  0.140     R  11398  \n",
            "2  10.077  8.899   9.837  0.098     R  11398  \n",
            "3  10.372  9.303  10.644  0.037     R   4105  \n",
            "4  11.220  9.614  10.564  0.024     R   3941  \n"
          ]
        }
      ]
    },
    {
      "cell_type": "code",
      "source": [
        "with open(\"TrES_2025.10.02_15.16.17.csv\", \"r\") as f:\n",
        "    for i, line in enumerate(f):\n",
        "        print(i, line.strip())\n",
        "        if i > 20:  # فقط عرض أول 20 سطر\n",
        "            break\n"
      ],
      "metadata": {
        "colab": {
          "base_uri": "https://localhost:8080/"
        },
        "id": "RIdWtbYfuH7F",
        "outputId": "b67bfcd1-66d6-4057-90da-5847e1ec77e2"
      },
      "execution_count": 20,
      "outputs": [
        {
          "output_type": "stream",
          "name": "stdout",
          "text": [
            "0 # This file was produced by the NASA Exoplanet Archive  http://exoplanetarchive.ipac.caltech.edu\n",
            "1 # Thu Oct  2 15:16:17 2025\n",
            "2 #\n",
            "3 # COLUMN star_id:        Star ID\n",
            "4 # COLUMN region:         Part of Sky Surveyed\n",
            "5 # COLUMN ra:             RA [deg]\n",
            "6 # COLUMN dec:            Dec [deg]\n",
            "7 # COLUMN starthjd:       Start HJD [day]\n",
            "8 # COLUMN endhjd:         End HJD [day]\n",
            "9 # COLUMN bmag:           B Mag [mag]\n",
            "10 # COLUMN vmag:           V Mag [mag]\n",
            "11 # COLUMN rmag:           R Mag [mag]\n",
            "12 # COLUMN rerr:           R Mag uncertainty [mag]\n",
            "13 # COLUMN lcfil:          Light Curve Filter\n",
            "14 # COLUMN npts:           Points in Light Curve\n",
            "15 #\n",
            "16 star_id,region,ra,dec,starthjd,endhjd,bmag,vmag,rmag,rerr,lcfil,npts\n",
            "17 TrES_Lyr1_00001,TrES_Lyr1,281.5508,44.1361,2453541.79,2453616.73,8.333,8.110,9.251,0.135,R,11398\n",
            "18 TrES_Lyr1_00002,TrES_Lyr1,281.2400,44.3592,2453541.79,2453616.73,8.856,8.361,9.407,0.140,R,11398\n",
            "19 TrES_Lyr1_00003,TrES_Lyr1,281.5725,44.1500,2453541.79,2453616.73,10.077,8.899,9.837,0.098,R,11398\n",
            "20 TrES_Lyr1_00004,TrES_Lyr1,289.1513,49.7128,2453549.75,2453611.95,10.372,9.303,10.644,0.037,R,4105\n",
            "21 TrES_Lyr1_00005,TrES_Lyr1,287.8971,49.7703,2453549.75,2453611.95,11.220,9.614,10.564,0.024,R,3941\n"
          ]
        }
      ]
    },
    {
      "cell_type": "code",
      "source": [
        "import pandas as pd\n",
        "\n",
        "# قراءة الملف مع تجاهل السطور التي بها مشاكل\n",
        "df = pd.read_csv(\"TrES_2025.10.02_15.16.17.csv\", header=None, on_bad_lines='skip')\n",
        "\n",
        "print(df.head())\n"
      ],
      "metadata": {
        "colab": {
          "base_uri": "https://localhost:8080/"
        },
        "id": "VIf23NmtuWo8",
        "outputId": "7a92cc21-ead0-4927-ca60-2df1a9afaaf8"
      },
      "execution_count": 22,
      "outputs": [
        {
          "output_type": "stream",
          "name": "stdout",
          "text": [
            "                                                   0\n",
            "0  # This file was produced by the NASA Exoplanet...\n",
            "1                         # Thu Oct  2 15:16:17 2025\n",
            "2                                                  #\n",
            "3                   # COLUMN star_id:        Star ID\n",
            "4      # COLUMN region:         Part of Sky Surveyed\n"
          ]
        }
      ]
    },
    {
      "cell_type": "code",
      "source": [
        "# تحويل جميع أسماء الأعمدة إلى نصوص\n",
        "df.columns = df.columns.map(str).str.strip()\n",
        "\n",
        "# التحقق\n",
        "print(df.columns.tolist())\n",
        "\n"
      ],
      "metadata": {
        "colab": {
          "base_uri": "https://localhost:8080/"
        },
        "id": "-X1iYNeoud08",
        "outputId": "6eea0779-cf9d-422a-feee-bf863cee0cb9"
      },
      "execution_count": 24,
      "outputs": [
        {
          "output_type": "stream",
          "name": "stdout",
          "text": [
            "['0']\n"
          ]
        }
      ]
    },
    {
      "cell_type": "code",
      "source": [
        "# 3) تجهيز time\n",
        "# ==============================\n",
        "if \"start_time\" in df.columns and \"end_time\" in df.columns:\n",
        "    df[\"time\"] = (df[\"start_time\"] + df[\"end_time\"]) / 2\n",
        "else:\n",
        "    df[\"time\"] = np.arange(len(df))  # fallback"
      ],
      "metadata": {
        "id": "zopyYP9irVnz"
      },
      "execution_count": 26,
      "outputs": []
    },
    {
      "cell_type": "code",
      "source": [
        "# ==============================\n",
        "# 4) إضافة label (تصنيف ثلاثي)\n",
        "# ==============================\n",
        "# لو عندك labels فعلية ضيفها هنا، مؤقتًا هنولد عشوائية للتجريب\n",
        "df[\"label\"] = np.random.choice([0,1,2], size=len(df))\n",
        "# 0 = لا كوكب, 1 = مرشح, 2 = مؤكد"
      ],
      "metadata": {
        "id": "V32BBxeovBhb"
      },
      "execution_count": 27,
      "outputs": []
    },
    {
      "cell_type": "code",
      "source": [
        "import numpy as np\n",
        "\n",
        "# توليد flux إذا لم يكن موجود\n",
        "if \"flux\" not in df.columns:\n",
        "    if \"rmag\" in df.columns:\n",
        "        df[\"flux\"] = 10**(-0.4 * df[\"rmag\"])\n",
        "    elif \"vmag\" in df.columns:\n",
        "        df[\"flux\"] = 10**(-0.4 * df[\"vmag\"])\n",
        "    else:\n",
        "        # لو لا يوجد mag، نولد أرقام عشوائية للتجريب\n",
        "        df[\"flux\"] = np.random.rand(len(df))\n",
        "\n",
        "print(df.columns.tolist())  # للتأكد أن flux موجود الآن\n"
      ],
      "metadata": {
        "colab": {
          "base_uri": "https://localhost:8080/"
        },
        "id": "4wv63KovwDKS",
        "outputId": "e0763538-3a55-41b7-9674-36337e636cbd"
      },
      "execution_count": 29,
      "outputs": [
        {
          "output_type": "stream",
          "name": "stdout",
          "text": [
            "['0', 'time', 'label', 'flux']\n"
          ]
        }
      ]
    },
    {
      "cell_type": "code",
      "source": [
        "\n",
        "# ==============================\n",
        "# 5) تجهيز البيانات\n",
        "# ==============================\n",
        "X = df[[\"time\", \"flux\"]].values\n",
        "y = df[\"label\"].values\n",
        "\n",
        "scaler = StandardScaler()\n",
        "X_scaled = scaler.fit_transform(X)\n",
        "\n",
        "X_train, X_test, y_train, y_test = train_test_split(\n",
        "    X_scaled, y, test_size=0.2, random_state=42\n",
        ")\n"
      ],
      "metadata": {
        "id": "2Edma03PvEDd"
      },
      "execution_count": 30,
      "outputs": []
    },
    {
      "cell_type": "code",
      "source": [
        "# إعادة تشكيل البيانات لـ LSTM\n",
        "X_train = np.reshape(X_train, (X_train.shape[0], 1, X_train.shape[1]))\n",
        "X_test = np.reshape(X_test, (X_test.shape[0], 1, X_test.shape[1]))"
      ],
      "metadata": {
        "id": "LsjYiOXkwOu1"
      },
      "execution_count": 31,
      "outputs": []
    },
    {
      "cell_type": "code",
      "source": [
        "# ==============================\n",
        "# 6) بناء الموديل LSTM\n",
        "# ==============================\n",
        "model = Sequential()\n",
        "model.add(LSTM(64, input_shape=(X_train.shape[1], X_train.shape[2]), return_sequences=True))\n",
        "model.add(Dropout(0.2))\n",
        "model.add(LSTM(32))\n",
        "model.add(Dropout(0.2))\n",
        "model.add(Dense(3, activation=\"softmax\"))  # 3 تصنيفات\n",
        "\n",
        "model.compile(optimizer=\"adam\", loss=\"sparse_categorical_crossentropy\", metrics=[\"accuracy\"])\n",
        "model.summary()"
      ],
      "metadata": {
        "colab": {
          "base_uri": "https://localhost:8080/",
          "height": 361
        },
        "id": "0brkdLI0wiSq",
        "outputId": "c452cfdd-bc18-4e9c-a74c-eacce578c37c"
      },
      "execution_count": 32,
      "outputs": [
        {
          "output_type": "stream",
          "name": "stderr",
          "text": [
            "/usr/local/lib/python3.12/dist-packages/keras/src/layers/rnn/rnn.py:199: UserWarning: Do not pass an `input_shape`/`input_dim` argument to a layer. When using Sequential models, prefer using an `Input(shape)` object as the first layer in the model instead.\n",
            "  super().__init__(**kwargs)\n"
          ]
        },
        {
          "output_type": "display_data",
          "data": {
            "text/plain": [
              "\u001b[1mModel: \"sequential\"\u001b[0m\n"
            ],
            "text/html": [
              "<pre style=\"white-space:pre;overflow-x:auto;line-height:normal;font-family:Menlo,'DejaVu Sans Mono',consolas,'Courier New',monospace\"><span style=\"font-weight: bold\">Model: \"sequential\"</span>\n",
              "</pre>\n"
            ]
          },
          "metadata": {}
        },
        {
          "output_type": "display_data",
          "data": {
            "text/plain": [
              "┏━━━━━━━━━━━━━━━━━━━━━━━━━━━━━━━━━┳━━━━━━━━━━━━━━━━━━━━━━━━┳━━━━━━━━━━━━━━━┓\n",
              "┃\u001b[1m \u001b[0m\u001b[1mLayer (type)                   \u001b[0m\u001b[1m \u001b[0m┃\u001b[1m \u001b[0m\u001b[1mOutput Shape          \u001b[0m\u001b[1m \u001b[0m┃\u001b[1m \u001b[0m\u001b[1m      Param #\u001b[0m\u001b[1m \u001b[0m┃\n",
              "┡━━━━━━━━━━━━━━━━━━━━━━━━━━━━━━━━━╇━━━━━━━━━━━━━━━━━━━━━━━━╇━━━━━━━━━━━━━━━┩\n",
              "│ lstm (\u001b[38;5;33mLSTM\u001b[0m)                     │ (\u001b[38;5;45mNone\u001b[0m, \u001b[38;5;34m1\u001b[0m, \u001b[38;5;34m64\u001b[0m)          │        \u001b[38;5;34m17,152\u001b[0m │\n",
              "├─────────────────────────────────┼────────────────────────┼───────────────┤\n",
              "│ dropout (\u001b[38;5;33mDropout\u001b[0m)               │ (\u001b[38;5;45mNone\u001b[0m, \u001b[38;5;34m1\u001b[0m, \u001b[38;5;34m64\u001b[0m)          │             \u001b[38;5;34m0\u001b[0m │\n",
              "├─────────────────────────────────┼────────────────────────┼───────────────┤\n",
              "│ lstm_1 (\u001b[38;5;33mLSTM\u001b[0m)                   │ (\u001b[38;5;45mNone\u001b[0m, \u001b[38;5;34m32\u001b[0m)             │        \u001b[38;5;34m12,416\u001b[0m │\n",
              "├─────────────────────────────────┼────────────────────────┼───────────────┤\n",
              "│ dropout_1 (\u001b[38;5;33mDropout\u001b[0m)             │ (\u001b[38;5;45mNone\u001b[0m, \u001b[38;5;34m32\u001b[0m)             │             \u001b[38;5;34m0\u001b[0m │\n",
              "├─────────────────────────────────┼────────────────────────┼───────────────┤\n",
              "│ dense (\u001b[38;5;33mDense\u001b[0m)                   │ (\u001b[38;5;45mNone\u001b[0m, \u001b[38;5;34m3\u001b[0m)              │            \u001b[38;5;34m99\u001b[0m │\n",
              "└─────────────────────────────────┴────────────────────────┴───────────────┘\n"
            ],
            "text/html": [
              "<pre style=\"white-space:pre;overflow-x:auto;line-height:normal;font-family:Menlo,'DejaVu Sans Mono',consolas,'Courier New',monospace\">┏━━━━━━━━━━━━━━━━━━━━━━━━━━━━━━━━━┳━━━━━━━━━━━━━━━━━━━━━━━━┳━━━━━━━━━━━━━━━┓\n",
              "┃<span style=\"font-weight: bold\"> Layer (type)                    </span>┃<span style=\"font-weight: bold\"> Output Shape           </span>┃<span style=\"font-weight: bold\">       Param # </span>┃\n",
              "┡━━━━━━━━━━━━━━━━━━━━━━━━━━━━━━━━━╇━━━━━━━━━━━━━━━━━━━━━━━━╇━━━━━━━━━━━━━━━┩\n",
              "│ lstm (<span style=\"color: #0087ff; text-decoration-color: #0087ff\">LSTM</span>)                     │ (<span style=\"color: #00d7ff; text-decoration-color: #00d7ff\">None</span>, <span style=\"color: #00af00; text-decoration-color: #00af00\">1</span>, <span style=\"color: #00af00; text-decoration-color: #00af00\">64</span>)          │        <span style=\"color: #00af00; text-decoration-color: #00af00\">17,152</span> │\n",
              "├─────────────────────────────────┼────────────────────────┼───────────────┤\n",
              "│ dropout (<span style=\"color: #0087ff; text-decoration-color: #0087ff\">Dropout</span>)               │ (<span style=\"color: #00d7ff; text-decoration-color: #00d7ff\">None</span>, <span style=\"color: #00af00; text-decoration-color: #00af00\">1</span>, <span style=\"color: #00af00; text-decoration-color: #00af00\">64</span>)          │             <span style=\"color: #00af00; text-decoration-color: #00af00\">0</span> │\n",
              "├─────────────────────────────────┼────────────────────────┼───────────────┤\n",
              "│ lstm_1 (<span style=\"color: #0087ff; text-decoration-color: #0087ff\">LSTM</span>)                   │ (<span style=\"color: #00d7ff; text-decoration-color: #00d7ff\">None</span>, <span style=\"color: #00af00; text-decoration-color: #00af00\">32</span>)             │        <span style=\"color: #00af00; text-decoration-color: #00af00\">12,416</span> │\n",
              "├─────────────────────────────────┼────────────────────────┼───────────────┤\n",
              "│ dropout_1 (<span style=\"color: #0087ff; text-decoration-color: #0087ff\">Dropout</span>)             │ (<span style=\"color: #00d7ff; text-decoration-color: #00d7ff\">None</span>, <span style=\"color: #00af00; text-decoration-color: #00af00\">32</span>)             │             <span style=\"color: #00af00; text-decoration-color: #00af00\">0</span> │\n",
              "├─────────────────────────────────┼────────────────────────┼───────────────┤\n",
              "│ dense (<span style=\"color: #0087ff; text-decoration-color: #0087ff\">Dense</span>)                   │ (<span style=\"color: #00d7ff; text-decoration-color: #00d7ff\">None</span>, <span style=\"color: #00af00; text-decoration-color: #00af00\">3</span>)              │            <span style=\"color: #00af00; text-decoration-color: #00af00\">99</span> │\n",
              "└─────────────────────────────────┴────────────────────────┴───────────────┘\n",
              "</pre>\n"
            ]
          },
          "metadata": {}
        },
        {
          "output_type": "display_data",
          "data": {
            "text/plain": [
              "\u001b[1m Total params: \u001b[0m\u001b[38;5;34m29,667\u001b[0m (115.89 KB)\n"
            ],
            "text/html": [
              "<pre style=\"white-space:pre;overflow-x:auto;line-height:normal;font-family:Menlo,'DejaVu Sans Mono',consolas,'Courier New',monospace\"><span style=\"font-weight: bold\"> Total params: </span><span style=\"color: #00af00; text-decoration-color: #00af00\">29,667</span> (115.89 KB)\n",
              "</pre>\n"
            ]
          },
          "metadata": {}
        },
        {
          "output_type": "display_data",
          "data": {
            "text/plain": [
              "\u001b[1m Trainable params: \u001b[0m\u001b[38;5;34m29,667\u001b[0m (115.89 KB)\n"
            ],
            "text/html": [
              "<pre style=\"white-space:pre;overflow-x:auto;line-height:normal;font-family:Menlo,'DejaVu Sans Mono',consolas,'Courier New',monospace\"><span style=\"font-weight: bold\"> Trainable params: </span><span style=\"color: #00af00; text-decoration-color: #00af00\">29,667</span> (115.89 KB)\n",
              "</pre>\n"
            ]
          },
          "metadata": {}
        },
        {
          "output_type": "display_data",
          "data": {
            "text/plain": [
              "\u001b[1m Non-trainable params: \u001b[0m\u001b[38;5;34m0\u001b[0m (0.00 B)\n"
            ],
            "text/html": [
              "<pre style=\"white-space:pre;overflow-x:auto;line-height:normal;font-family:Menlo,'DejaVu Sans Mono',consolas,'Courier New',monospace\"><span style=\"font-weight: bold\"> Non-trainable params: </span><span style=\"color: #00af00; text-decoration-color: #00af00\">0</span> (0.00 B)\n",
              "</pre>\n"
            ]
          },
          "metadata": {}
        }
      ]
    },
    {
      "cell_type": "code",
      "source": [
        "# ==============================\n",
        "# 7) تدريب الموديل\n",
        "# ==============================\n",
        "history = model.fit(X_train, y_train, epochs=20, batch_size=32, validation_split=0.2, verbose=1)"
      ],
      "metadata": {
        "colab": {
          "base_uri": "https://localhost:8080/"
        },
        "id": "ih8GyruZwrbp",
        "outputId": "d5bca62a-9ebc-41c4-e637-c9e4ae370e64"
      },
      "execution_count": 33,
      "outputs": [
        {
          "output_type": "stream",
          "name": "stdout",
          "text": [
            "Epoch 1/20\n",
            "\u001b[1m1/1\u001b[0m \u001b[32m━━━━━━━━━━━━━━━━━━━━\u001b[0m\u001b[37m\u001b[0m \u001b[1m4s\u001b[0m 4s/step - accuracy: 0.1111 - loss: 1.1009 - val_accuracy: 0.0000e+00 - val_loss: 1.1035\n",
            "Epoch 2/20\n",
            "\u001b[1m1/1\u001b[0m \u001b[32m━━━━━━━━━━━━━━━━━━━━\u001b[0m\u001b[37m\u001b[0m \u001b[1m0s\u001b[0m 86ms/step - accuracy: 0.5556 - loss: 1.0965 - val_accuracy: 0.0000e+00 - val_loss: 1.1042\n",
            "Epoch 3/20\n",
            "\u001b[1m1/1\u001b[0m \u001b[32m━━━━━━━━━━━━━━━━━━━━\u001b[0m\u001b[37m\u001b[0m \u001b[1m0s\u001b[0m 88ms/step - accuracy: 0.4444 - loss: 1.0975 - val_accuracy: 0.0000e+00 - val_loss: 1.1048\n",
            "Epoch 4/20\n",
            "\u001b[1m1/1\u001b[0m \u001b[32m━━━━━━━━━━━━━━━━━━━━\u001b[0m\u001b[37m\u001b[0m \u001b[1m0s\u001b[0m 88ms/step - accuracy: 0.4444 - loss: 1.0942 - val_accuracy: 0.0000e+00 - val_loss: 1.1054\n",
            "Epoch 5/20\n",
            "\u001b[1m1/1\u001b[0m \u001b[32m━━━━━━━━━━━━━━━━━━━━\u001b[0m\u001b[37m\u001b[0m \u001b[1m0s\u001b[0m 92ms/step - accuracy: 0.5556 - loss: 1.0924 - val_accuracy: 0.0000e+00 - val_loss: 1.1060\n",
            "Epoch 6/20\n",
            "\u001b[1m1/1\u001b[0m \u001b[32m━━━━━━━━━━━━━━━━━━━━\u001b[0m\u001b[37m\u001b[0m \u001b[1m0s\u001b[0m 93ms/step - accuracy: 0.4444 - loss: 1.0914 - val_accuracy: 0.0000e+00 - val_loss: 1.1066\n",
            "Epoch 7/20\n",
            "\u001b[1m1/1\u001b[0m \u001b[32m━━━━━━━━━━━━━━━━━━━━\u001b[0m\u001b[37m\u001b[0m \u001b[1m0s\u001b[0m 94ms/step - accuracy: 0.7778 - loss: 1.0911 - val_accuracy: 0.0000e+00 - val_loss: 1.1073\n",
            "Epoch 8/20\n",
            "\u001b[1m1/1\u001b[0m \u001b[32m━━━━━━━━━━━━━━━━━━━━\u001b[0m\u001b[37m\u001b[0m \u001b[1m0s\u001b[0m 103ms/step - accuracy: 0.6667 - loss: 1.0882 - val_accuracy: 0.0000e+00 - val_loss: 1.1080\n",
            "Epoch 9/20\n",
            "\u001b[1m1/1\u001b[0m \u001b[32m━━━━━━━━━━━━━━━━━━━━\u001b[0m\u001b[37m\u001b[0m \u001b[1m0s\u001b[0m 88ms/step - accuracy: 0.6667 - loss: 1.0856 - val_accuracy: 0.0000e+00 - val_loss: 1.1087\n",
            "Epoch 10/20\n",
            "\u001b[1m1/1\u001b[0m \u001b[32m━━━━━━━━━━━━━━━━━━━━\u001b[0m\u001b[37m\u001b[0m \u001b[1m0s\u001b[0m 90ms/step - accuracy: 0.7778 - loss: 1.0869 - val_accuracy: 0.0000e+00 - val_loss: 1.1095\n",
            "Epoch 11/20\n",
            "\u001b[1m1/1\u001b[0m \u001b[32m━━━━━━━━━━━━━━━━━━━━\u001b[0m\u001b[37m\u001b[0m \u001b[1m0s\u001b[0m 93ms/step - accuracy: 0.6667 - loss: 1.0810 - val_accuracy: 0.0000e+00 - val_loss: 1.1103\n",
            "Epoch 12/20\n",
            "\u001b[1m1/1\u001b[0m \u001b[32m━━━━━━━━━━━━━━━━━━━━\u001b[0m\u001b[37m\u001b[0m \u001b[1m0s\u001b[0m 87ms/step - accuracy: 0.6667 - loss: 1.0807 - val_accuracy: 0.0000e+00 - val_loss: 1.1110\n",
            "Epoch 13/20\n",
            "\u001b[1m1/1\u001b[0m \u001b[32m━━━━━━━━━━━━━━━━━━━━\u001b[0m\u001b[37m\u001b[0m \u001b[1m0s\u001b[0m 87ms/step - accuracy: 0.6667 - loss: 1.0813 - val_accuracy: 0.0000e+00 - val_loss: 1.1118\n",
            "Epoch 14/20\n",
            "\u001b[1m1/1\u001b[0m \u001b[32m━━━━━━━━━━━━━━━━━━━━\u001b[0m\u001b[37m\u001b[0m \u001b[1m0s\u001b[0m 87ms/step - accuracy: 0.6667 - loss: 1.0787 - val_accuracy: 0.0000e+00 - val_loss: 1.1126\n",
            "Epoch 15/20\n",
            "\u001b[1m1/1\u001b[0m \u001b[32m━━━━━━━━━━━━━━━━━━━━\u001b[0m\u001b[37m\u001b[0m \u001b[1m0s\u001b[0m 85ms/step - accuracy: 0.6667 - loss: 1.0757 - val_accuracy: 0.0000e+00 - val_loss: 1.1134\n",
            "Epoch 16/20\n",
            "\u001b[1m1/1\u001b[0m \u001b[32m━━━━━━━━━━━━━━━━━━━━\u001b[0m\u001b[37m\u001b[0m \u001b[1m0s\u001b[0m 88ms/step - accuracy: 0.6667 - loss: 1.0729 - val_accuracy: 0.0000e+00 - val_loss: 1.1143\n",
            "Epoch 17/20\n",
            "\u001b[1m1/1\u001b[0m \u001b[32m━━━━━━━━━━━━━━━━━━━━\u001b[0m\u001b[37m\u001b[0m \u001b[1m0s\u001b[0m 88ms/step - accuracy: 0.6667 - loss: 1.0716 - val_accuracy: 0.0000e+00 - val_loss: 1.1151\n",
            "Epoch 18/20\n",
            "\u001b[1m1/1\u001b[0m \u001b[32m━━━━━━━━━━━━━━━━━━━━\u001b[0m\u001b[37m\u001b[0m \u001b[1m0s\u001b[0m 89ms/step - accuracy: 0.6667 - loss: 1.0719 - val_accuracy: 0.0000e+00 - val_loss: 1.1160\n",
            "Epoch 19/20\n",
            "\u001b[1m1/1\u001b[0m \u001b[32m━━━━━━━━━━━━━━━━━━━━\u001b[0m\u001b[37m\u001b[0m \u001b[1m0s\u001b[0m 133ms/step - accuracy: 0.6667 - loss: 1.0709 - val_accuracy: 0.0000e+00 - val_loss: 1.1170\n",
            "Epoch 20/20\n",
            "\u001b[1m1/1\u001b[0m \u001b[32m━━━━━━━━━━━━━━━━━━━━\u001b[0m\u001b[37m\u001b[0m \u001b[1m0s\u001b[0m 90ms/step - accuracy: 0.6667 - loss: 1.0651 - val_accuracy: 0.0000e+00 - val_loss: 1.1179\n"
          ]
        }
      ]
    },
    {
      "cell_type": "code",
      "source": [
        "# ==============================\n",
        "# 8) التقييم\n",
        "# ==============================\n",
        "y_pred = np.argmax(model.predict(X_test), axis=-1)\n",
        "print(\"\\nClassification Report:\\n\", classification_report(y_test, y_pred))\n",
        "print(\"\\nConfusion Matrix:\\n\", confusion_matrix(y_test, y_pred))"
      ],
      "metadata": {
        "colab": {
          "base_uri": "https://localhost:8080/"
        },
        "id": "mGu8WTZGwxH0",
        "outputId": "5c27fdf1-29cf-4592-b9a9-c328dbbcfe7c"
      },
      "execution_count": 34,
      "outputs": [
        {
          "output_type": "stream",
          "name": "stdout",
          "text": [
            "\u001b[1m1/1\u001b[0m \u001b[32m━━━━━━━━━━━━━━━━━━━━\u001b[0m\u001b[37m\u001b[0m \u001b[1m0s\u001b[0m 451ms/step\n",
            "\n",
            "Classification Report:\n",
            "               precision    recall  f1-score   support\n",
            "\n",
            "           0       0.00      0.00      0.00         1\n",
            "           1       0.75      1.00      0.86         3\n",
            "\n",
            "    accuracy                           0.75         4\n",
            "   macro avg       0.38      0.50      0.43         4\n",
            "weighted avg       0.56      0.75      0.64         4\n",
            "\n",
            "\n",
            "Confusion Matrix:\n",
            " [[0 1]\n",
            " [0 3]]\n"
          ]
        },
        {
          "output_type": "stream",
          "name": "stderr",
          "text": [
            "/usr/local/lib/python3.12/dist-packages/sklearn/metrics/_classification.py:1565: UndefinedMetricWarning: Precision is ill-defined and being set to 0.0 in labels with no predicted samples. Use `zero_division` parameter to control this behavior.\n",
            "  _warn_prf(average, modifier, f\"{metric.capitalize()} is\", len(result))\n",
            "/usr/local/lib/python3.12/dist-packages/sklearn/metrics/_classification.py:1565: UndefinedMetricWarning: Precision is ill-defined and being set to 0.0 in labels with no predicted samples. Use `zero_division` parameter to control this behavior.\n",
            "  _warn_prf(average, modifier, f\"{metric.capitalize()} is\", len(result))\n",
            "/usr/local/lib/python3.12/dist-packages/sklearn/metrics/_classification.py:1565: UndefinedMetricWarning: Precision is ill-defined and being set to 0.0 in labels with no predicted samples. Use `zero_division` parameter to control this behavior.\n",
            "  _warn_prf(average, modifier, f\"{metric.capitalize()} is\", len(result))\n"
          ]
        }
      ]
    },
    {
      "cell_type": "code",
      "source": [
        "# ==============================\n",
        "# 9) رسم دقة التدريب والـ validation\n",
        "# ==============================\n",
        "plt.plot(history.history[\"accuracy\"], label=\"Train Acc\")\n",
        "plt.plot(history.history[\"val_accuracy\"], label=\"Val Acc\")\n",
        "plt.legend()\n",
        "plt.show()\n"
      ],
      "metadata": {
        "colab": {
          "base_uri": "https://localhost:8080/",
          "height": 430
        },
        "id": "g6UyjJKsw7DB",
        "outputId": "869357fe-ca2a-4926-ba7b-7873aeb49743"
      },
      "execution_count": 35,
      "outputs": [
        {
          "output_type": "display_data",
          "data": {
            "text/plain": [
              "<Figure size 640x480 with 1 Axes>"
            ],
            "image/png": "[encoded data removed]"
          },
          "metadata": {}
        }
      ]
    },
    {
      "cell_type": "code",
      "source": [
        "# ==============================\n",
        "# 10) Prediction using new data\n",
        "# ==============================\n",
        "new_data = np.array([[2454000, 10**(-0.4*12.5)]])  # Example: time and flux from magnitude\n",
        "new_data_scaled = scaler.transform(new_data)\n",
        "new_data_scaled = np.reshape(new_data_scaled, (new_data_scaled.shape[0], 1, new_data_scaled.shape[1]))\n",
        "\n",
        "prediction = np.argmax(model.predict(new_data_scaled), axis=-1)[0]\n",
        "\n",
        "labels_map = {0: \"No planet\", 1: \"Candidate\", 2: \"Confirmed\"}\n",
        "print(\"🔮 Prediction:\", labels_map[prediction])\n"
      ],
      "metadata": {
        "colab": {
          "base_uri": "https://localhost:8080/"
        },
        "id": "5QRgupO2w8-U",
        "outputId": "84716153-5819-43d6-d9e0-8c8201b72f8e"
      },
      "execution_count": 36,
      "outputs": [
        {
          "output_type": "stream",
          "name": "stdout",
          "text": [
            "\u001b[1m1/1\u001b[0m \u001b[32m━━━━━━━━━━━━━━━━━━━━\u001b[0m\u001b[37m\u001b[0m \u001b[1m1s\u001b[0m 896ms/step\n",
            "🔮 Prediction: Confirmed\n"
          ]
        }
      ]
    },
    {
      "cell_type": "code",
      "source": [
        "import numpy as np\n",
        "import pandas as pd\n",
        "from sklearn.preprocessing import StandardScaler\n",
        "from sklearn.model_selection import train_test_split\n",
        "from tensorflow.keras.models import Sequential\n",
        "from tensorflow.keras.layers import LSTM, Dense, Dropout\n",
        "\n",
        "# ==============================\n",
        "# Sample dataset with deterministic labels\n",
        "# ==============================\n",
        "df = pd.DataFrame({\n",
        "    \"time\": [2454000, 2454001, 2454002, 2454003],\n",
        "    \"flux\": [10**(-0.4*20), 10**(-0.4*12.5), 10**(-0.4*15), 10**(-0.4*13)],\n",
        "    \"label\": [0, 1, 0, 2]  # 0=No planet, 1=Candidate, 2=Confirmed\n",
        "})\n",
        "\n",
        "# ==============================\n",
        "# Prepare data for LSTM\n",
        "# ==============================\n",
        "X = df[[\"time\", \"flux\"]].values\n",
        "y = df[\"label\"].values\n",
        "\n",
        "scaler = StandardScaler()\n",
        "X_scaled = scaler.fit_transform(X)\n",
        "\n",
        "X_scaled = np.reshape(X_scaled, (X_scaled.shape[0], 1, X_scaled.shape[1]))\n",
        "\n",
        "# ==============================\n",
        "# LSTM model\n",
        "# ==============================\n",
        "model = Sequential()\n",
        "model.add(LSTM(16, input_shape=(X_scaled.shape[1], X_scaled.shape[2])))\n",
        "model.add(Dense(3, activation=\"softmax\"))\n",
        "model.compile(optimizer=\"adam\", loss=\"sparse_categorical_crossentropy\", metrics=[\"accuracy\"])\n",
        "\n",
        "# Train\n",
        "model.fit(X_scaled, y, epochs=50, verbose=0)\n",
        "\n",
        "# ==============================\n",
        "# Predict two examples\n",
        "# ==============================\n",
        "new_data = np.array([\n",
        "    [2454000, 10**(-0.4*20)],   # Should predict No planet\n",
        "    [2454001, 10**(-0.4*12.5)]  # Should predict Candidate\n",
        "])\n",
        "\n",
        "new_data_scaled = scaler.transform(new_data)\n",
        "new_data_scaled = np.reshape(new_data_scaled, (new_data_scaled.shape[0], 1, new_data_scaled.shape[1]))\n",
        "\n",
        "predictions = np.argmax(model.predict(new_data_scaled), axis=-1)\n",
        "labels_map = {0: \"No planet\", 1: \"Candidate\", 2: \"Confirmed\"}\n",
        "\n",
        "for i, pred in enumerate(predictions):\n",
        "    print(f\"🔮 Prediction for example {i+1}: {labels_map[pred]}\")\n"
      ],
      "metadata": {
        "colab": {
          "base_uri": "https://localhost:8080/"
        },
        "id": "oGNalyg_ybpE",
        "outputId": "281f9857-bc15-4665-ed56-d4107a838364"
      },
      "execution_count": 38,
      "outputs": [
        {
          "output_type": "stream",
          "name": "stderr",
          "text": [
            "/usr/local/lib/python3.12/dist-packages/keras/src/layers/rnn/rnn.py:199: UserWarning: Do not pass an `input_shape`/`input_dim` argument to a layer. When using Sequential models, prefer using an `Input(shape)` object as the first layer in the model instead.\n",
            "  super().__init__(**kwargs)\n"
          ]
        },
        {
          "output_type": "stream",
          "name": "stdout",
          "text": [
            "\u001b[1m1/1\u001b[0m \u001b[32m━━━━━━━━━━━━━━━━━━━━\u001b[0m\u001b[37m\u001b[0m \u001b[1m1s\u001b[0m 641ms/step\n",
            "🔮 Prediction for example 1: No planet\n",
            "🔮 Prediction for example 2: Candidate\n"
          ]
        }
      ]
    },
    {
      "cell_type": "code",
      "source": [
        "import numpy as np\n",
        "import pandas as pd\n",
        "from sklearn.preprocessing import StandardScaler\n",
        "from sklearn.model_selection import train_test_split\n",
        "from sklearn.metrics import accuracy_score\n",
        "from tensorflow.keras.models import Sequential\n",
        "from tensorflow.keras.layers import LSTM, Dense\n",
        "\n",
        "# ==============================\n",
        "# Sample dataset with deterministic labels\n",
        "# ==============================\n",
        "df = pd.DataFrame({\n",
        "    \"time\": [2454000, 2454001, 2454002, 2454003],\n",
        "    \"flux\": [10**(-0.4*20), 10**(-0.4*12.5), 10**(-0.4*15), 10**(-0.4*13)],\n",
        "    \"label\": [0, 1, 0, 2]  # 0=No planet, 1=Candidate, 2=Confirmed\n",
        "})\n",
        "\n",
        "# ==============================\n",
        "# Prepare data for LSTM\n",
        "# ==============================\n",
        "X = df[[\"time\", \"flux\"]].values\n",
        "y = df[\"label\"].values\n",
        "\n",
        "scaler = StandardScaler()\n",
        "X_scaled = scaler.fit_transform(X)\n",
        "\n",
        "X_scaled = np.reshape(X_scaled, (X_scaled.shape[0], 1, X_scaled.shape[1]))\n",
        "\n",
        "# ==============================\n",
        "# LSTM model\n",
        "# ==============================\n",
        "model = Sequential()\n",
        "model.add(LSTM(16, input_shape=(X_scaled.shape[1], X_scaled.shape[2])))\n",
        "model.add(Dense(3, activation=\"softmax\"))\n",
        "model.compile(optimizer=\"adam\", loss=\"sparse_categorical_crossentropy\", metrics=[\"accuracy\"])\n",
        "\n",
        "# Train\n",
        "history = model.fit(X_scaled, y, epochs=50, verbose=0)\n",
        "\n",
        "# ==============================\n",
        "# Evaluate model accuracy\n",
        "# ==============================\n",
        "y_pred = np.argmax(model.predict(X_scaled), axis=-1)\n",
        "accuracy = accuracy_score(y, y_pred)\n",
        "print(f\"✅ Model Accuracy: {accuracy*100:.2f}%\")\n",
        "\n",
        "# ==============================\n",
        "# Predict two examples\n",
        "# ==============================\n",
        "new_data = np.array([\n",
        "    [2454000, 10**(-0.4*20)],   # Should predict No planet\n",
        "    [2454001, 10**(-0.4*12.5)]  # Should predict Candidate\n",
        "])\n",
        "\n",
        "new_data_scaled = scaler.transform(new_data)\n",
        "new_data_scaled = np.reshape(new_data_scaled, (new_data_scaled.shape[0], 1, new_data_scaled.shape[1]))\n",
        "\n",
        "predictions = np.argmax(model.predict(new_data_scaled), axis=-1)\n",
        "labels_map = {0: \"No planet\", 1: \"Candidate\", 2: \"Confirmed\"}\n",
        "\n",
        "for i, pred in enumerate(predictions):\n",
        "    print(f\"🔮 Prediction for example {i+1}: {labels_map[pred]}\")\n"
      ],
      "metadata": {
        "colab": {
          "base_uri": "https://localhost:8080/"
        },
        "id": "bnUrjMFY0qeW",
        "outputId": "a2a6693d-dfb0-4f7c-eadc-47c24989ce53"
      },
      "execution_count": 39,
      "outputs": [
        {
          "output_type": "stream",
          "name": "stderr",
          "text": [
            "/usr/local/lib/python3.12/dist-packages/keras/src/layers/rnn/rnn.py:199: UserWarning: Do not pass an `input_shape`/`input_dim` argument to a layer. When using Sequential models, prefer using an `Input(shape)` object as the first layer in the model instead.\n",
            "  super().__init__(**kwargs)\n"
          ]
        },
        {
          "output_type": "stream",
          "name": "stdout",
          "text": [
            "\u001b[1m1/1\u001b[0m \u001b[32m━━━━━━━━━━━━━━━━━━━━\u001b[0m\u001b[37m\u001b[0m \u001b[1m0s\u001b[0m 187ms/step\n",
            "✅ Model Accuracy: 75.00%\n"
          ]
        },
        {
          "output_type": "stream",
          "name": "stderr",
          "text": [
            "WARNING:tensorflow:5 out of the last 6 calls to <function TensorFlowTrainer.make_predict_function.<locals>.one_step_on_data_distributed at 0x7da2581f7600> triggered tf.function retracing. Tracing is expensive and the excessive number of tracings could be due to (1) creating @tf.function repeatedly in a loop, (2) passing tensors with different shapes, (3) passing Python objects instead of tensors. For (1), please define your @tf.function outside of the loop. For (2), @tf.function has reduce_retracing=True option that can avoid unnecessary retracing. For (3), please refer to https://www.tensorflow.org/guide/function#controlling_retracing and https://www.tensorflow.org/api_docs/python/tf/function for  more details.\n"
          ]
        },
        {
          "output_type": "stream",
          "name": "stdout",
          "text": [
            "\u001b[1m1/1\u001b[0m \u001b[32m━━━━━━━━━━━━━━━━━━━━\u001b[0m\u001b[37m\u001b[0m \u001b[1m0s\u001b[0m 178ms/step\n",
            "🔮 Prediction for example 1: No planet\n",
            "🔮 Prediction for example 2: Candidate\n"
          ]
        }
      ]
    }
  ]
}